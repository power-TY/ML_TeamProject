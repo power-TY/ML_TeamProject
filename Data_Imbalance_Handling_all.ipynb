{
  "cells": [
    {
      "cell_type": "code",
      "execution_count": null,
      "metadata": {
        "colab": {
          "base_uri": "https://localhost:8080/"
        },
        "id": "PohYR9hH_mHN",
        "outputId": "4de953c7-702b-4cf6-ed58-d8ca026e7bd7"
      },
      "outputs": [
        {
          "output_type": "stream",
          "name": "stdout",
          "text": [
            "Mounted at /content/drive\n"
          ]
        }
      ],
      "source": [
        "from google.colab import drive\n",
        "drive.mount('/content/drive')\n"
      ]
    },
    {
      "cell_type": "code",
      "execution_count": null,
      "metadata": {
        "colab": {
          "base_uri": "https://localhost:8080/",
          "height": 289
        },
        "id": "XdfYM1zv_6dC",
        "outputId": "7780fba9-ef42-41de-92e1-2cec042a45a1"
      },
      "outputs": [
        {
          "output_type": "stream",
          "name": "stdout",
          "text": [
            "(301717, 18)\n"
          ]
        },
        {
          "output_type": "execute_result",
          "data": {
            "text/plain": [
              "  HeartDisease    BMI Smoking AlcoholDrinking Stroke  PhysicalHealth  \\\n",
              "0           No  16.60     Yes              No     No             3.0   \n",
              "1           No  20.34      No              No    Yes             0.0   \n",
              "2           No  26.58     Yes              No     No            20.0   \n",
              "3           No  24.21      No              No     No             0.0   \n",
              "4           No  23.71      No              No     No            28.0   \n",
              "\n",
              "   MentalHealth DiffWalking     Sex  AgeCategory   Race Diabetic  \\\n",
              "0          30.0          No  Female        55-59  White      Yes   \n",
              "1           0.0          No  Female  80 or older  White       No   \n",
              "2          30.0          No    Male        65-69  White      Yes   \n",
              "3           0.0          No  Female        75-79  White       No   \n",
              "4           0.0         Yes  Female        40-44  White       No   \n",
              "\n",
              "  PhysicalActivity  GenHealth  SleepTime Asthma KidneyDisease SkinCancer  \n",
              "0              Yes  Very good        5.0    Yes            No        Yes  \n",
              "1              Yes  Very good        7.0     No            No         No  \n",
              "2              Yes       Fair        8.0    Yes            No         No  \n",
              "3               No       Good        6.0     No            No        Yes  \n",
              "4              Yes  Very good        8.0     No            No         No  "
            ],
            "text/html": [
              "\n",
              "  <div id=\"df-391417b9-f39f-40b7-b2e0-f8978268f807\">\n",
              "    <div class=\"colab-df-container\">\n",
              "      <div>\n",
              "<style scoped>\n",
              "    .dataframe tbody tr th:only-of-type {\n",
              "        vertical-align: middle;\n",
              "    }\n",
              "\n",
              "    .dataframe tbody tr th {\n",
              "        vertical-align: top;\n",
              "    }\n",
              "\n",
              "    .dataframe thead th {\n",
              "        text-align: right;\n",
              "    }\n",
              "</style>\n",
              "<table border=\"1\" class=\"dataframe\">\n",
              "  <thead>\n",
              "    <tr style=\"text-align: right;\">\n",
              "      <th></th>\n",
              "      <th>HeartDisease</th>\n",
              "      <th>BMI</th>\n",
              "      <th>Smoking</th>\n",
              "      <th>AlcoholDrinking</th>\n",
              "      <th>Stroke</th>\n",
              "      <th>PhysicalHealth</th>\n",
              "      <th>MentalHealth</th>\n",
              "      <th>DiffWalking</th>\n",
              "      <th>Sex</th>\n",
              "      <th>AgeCategory</th>\n",
              "      <th>Race</th>\n",
              "      <th>Diabetic</th>\n",
              "      <th>PhysicalActivity</th>\n",
              "      <th>GenHealth</th>\n",
              "      <th>SleepTime</th>\n",
              "      <th>Asthma</th>\n",
              "      <th>KidneyDisease</th>\n",
              "      <th>SkinCancer</th>\n",
              "    </tr>\n",
              "  </thead>\n",
              "  <tbody>\n",
              "    <tr>\n",
              "      <th>0</th>\n",
              "      <td>No</td>\n",
              "      <td>16.60</td>\n",
              "      <td>Yes</td>\n",
              "      <td>No</td>\n",
              "      <td>No</td>\n",
              "      <td>3.0</td>\n",
              "      <td>30.0</td>\n",
              "      <td>No</td>\n",
              "      <td>Female</td>\n",
              "      <td>55-59</td>\n",
              "      <td>White</td>\n",
              "      <td>Yes</td>\n",
              "      <td>Yes</td>\n",
              "      <td>Very good</td>\n",
              "      <td>5.0</td>\n",
              "      <td>Yes</td>\n",
              "      <td>No</td>\n",
              "      <td>Yes</td>\n",
              "    </tr>\n",
              "    <tr>\n",
              "      <th>1</th>\n",
              "      <td>No</td>\n",
              "      <td>20.34</td>\n",
              "      <td>No</td>\n",
              "      <td>No</td>\n",
              "      <td>Yes</td>\n",
              "      <td>0.0</td>\n",
              "      <td>0.0</td>\n",
              "      <td>No</td>\n",
              "      <td>Female</td>\n",
              "      <td>80 or older</td>\n",
              "      <td>White</td>\n",
              "      <td>No</td>\n",
              "      <td>Yes</td>\n",
              "      <td>Very good</td>\n",
              "      <td>7.0</td>\n",
              "      <td>No</td>\n",
              "      <td>No</td>\n",
              "      <td>No</td>\n",
              "    </tr>\n",
              "    <tr>\n",
              "      <th>2</th>\n",
              "      <td>No</td>\n",
              "      <td>26.58</td>\n",
              "      <td>Yes</td>\n",
              "      <td>No</td>\n",
              "      <td>No</td>\n",
              "      <td>20.0</td>\n",
              "      <td>30.0</td>\n",
              "      <td>No</td>\n",
              "      <td>Male</td>\n",
              "      <td>65-69</td>\n",
              "      <td>White</td>\n",
              "      <td>Yes</td>\n",
              "      <td>Yes</td>\n",
              "      <td>Fair</td>\n",
              "      <td>8.0</td>\n",
              "      <td>Yes</td>\n",
              "      <td>No</td>\n",
              "      <td>No</td>\n",
              "    </tr>\n",
              "    <tr>\n",
              "      <th>3</th>\n",
              "      <td>No</td>\n",
              "      <td>24.21</td>\n",
              "      <td>No</td>\n",
              "      <td>No</td>\n",
              "      <td>No</td>\n",
              "      <td>0.0</td>\n",
              "      <td>0.0</td>\n",
              "      <td>No</td>\n",
              "      <td>Female</td>\n",
              "      <td>75-79</td>\n",
              "      <td>White</td>\n",
              "      <td>No</td>\n",
              "      <td>No</td>\n",
              "      <td>Good</td>\n",
              "      <td>6.0</td>\n",
              "      <td>No</td>\n",
              "      <td>No</td>\n",
              "      <td>Yes</td>\n",
              "    </tr>\n",
              "    <tr>\n",
              "      <th>4</th>\n",
              "      <td>No</td>\n",
              "      <td>23.71</td>\n",
              "      <td>No</td>\n",
              "      <td>No</td>\n",
              "      <td>No</td>\n",
              "      <td>28.0</td>\n",
              "      <td>0.0</td>\n",
              "      <td>Yes</td>\n",
              "      <td>Female</td>\n",
              "      <td>40-44</td>\n",
              "      <td>White</td>\n",
              "      <td>No</td>\n",
              "      <td>Yes</td>\n",
              "      <td>Very good</td>\n",
              "      <td>8.0</td>\n",
              "      <td>No</td>\n",
              "      <td>No</td>\n",
              "      <td>No</td>\n",
              "    </tr>\n",
              "  </tbody>\n",
              "</table>\n",
              "</div>\n",
              "      <button class=\"colab-df-convert\" onclick=\"convertToInteractive('df-391417b9-f39f-40b7-b2e0-f8978268f807')\"\n",
              "              title=\"Convert this dataframe to an interactive table.\"\n",
              "              style=\"display:none;\">\n",
              "        \n",
              "  <svg xmlns=\"http://www.w3.org/2000/svg\" height=\"24px\"viewBox=\"0 0 24 24\"\n",
              "       width=\"24px\">\n",
              "    <path d=\"M0 0h24v24H0V0z\" fill=\"none\"/>\n",
              "    <path d=\"M18.56 5.44l.94 2.06.94-2.06 2.06-.94-2.06-.94-.94-2.06-.94 2.06-2.06.94zm-11 1L8.5 8.5l.94-2.06 2.06-.94-2.06-.94L8.5 2.5l-.94 2.06-2.06.94zm10 10l.94 2.06.94-2.06 2.06-.94-2.06-.94-.94-2.06-.94 2.06-2.06.94z\"/><path d=\"M17.41 7.96l-1.37-1.37c-.4-.4-.92-.59-1.43-.59-.52 0-1.04.2-1.43.59L10.3 9.45l-7.72 7.72c-.78.78-.78 2.05 0 2.83L4 21.41c.39.39.9.59 1.41.59.51 0 1.02-.2 1.41-.59l7.78-7.78 2.81-2.81c.8-.78.8-2.07 0-2.86zM5.41 20L4 18.59l7.72-7.72 1.47 1.35L5.41 20z\"/>\n",
              "  </svg>\n",
              "      </button>\n",
              "      \n",
              "  <style>\n",
              "    .colab-df-container {\n",
              "      display:flex;\n",
              "      flex-wrap:wrap;\n",
              "      gap: 12px;\n",
              "    }\n",
              "\n",
              "    .colab-df-convert {\n",
              "      background-color: #E8F0FE;\n",
              "      border: none;\n",
              "      border-radius: 50%;\n",
              "      cursor: pointer;\n",
              "      display: none;\n",
              "      fill: #1967D2;\n",
              "      height: 32px;\n",
              "      padding: 0 0 0 0;\n",
              "      width: 32px;\n",
              "    }\n",
              "\n",
              "    .colab-df-convert:hover {\n",
              "      background-color: #E2EBFA;\n",
              "      box-shadow: 0px 1px 2px rgba(60, 64, 67, 0.3), 0px 1px 3px 1px rgba(60, 64, 67, 0.15);\n",
              "      fill: #174EA6;\n",
              "    }\n",
              "\n",
              "    [theme=dark] .colab-df-convert {\n",
              "      background-color: #3B4455;\n",
              "      fill: #D2E3FC;\n",
              "    }\n",
              "\n",
              "    [theme=dark] .colab-df-convert:hover {\n",
              "      background-color: #434B5C;\n",
              "      box-shadow: 0px 1px 3px 1px rgba(0, 0, 0, 0.15);\n",
              "      filter: drop-shadow(0px 1px 2px rgba(0, 0, 0, 0.3));\n",
              "      fill: #FFFFFF;\n",
              "    }\n",
              "  </style>\n",
              "\n",
              "      <script>\n",
              "        const buttonEl =\n",
              "          document.querySelector('#df-391417b9-f39f-40b7-b2e0-f8978268f807 button.colab-df-convert');\n",
              "        buttonEl.style.display =\n",
              "          google.colab.kernel.accessAllowed ? 'block' : 'none';\n",
              "\n",
              "        async function convertToInteractive(key) {\n",
              "          const element = document.querySelector('#df-391417b9-f39f-40b7-b2e0-f8978268f807');\n",
              "          const dataTable =\n",
              "            await google.colab.kernel.invokeFunction('convertToInteractive',\n",
              "                                                     [key], {});\n",
              "          if (!dataTable) return;\n",
              "\n",
              "          const docLinkHtml = 'Like what you see? Visit the ' +\n",
              "            '<a target=\"_blank\" href=https://colab.research.google.com/notebooks/data_table.ipynb>data table notebook</a>'\n",
              "            + ' to learn more about interactive tables.';\n",
              "          element.innerHTML = '';\n",
              "          dataTable['output_type'] = 'display_data';\n",
              "          await google.colab.output.renderOutput(dataTable, element);\n",
              "          const docLink = document.createElement('div');\n",
              "          docLink.innerHTML = docLinkHtml;\n",
              "          element.appendChild(docLink);\n",
              "        }\n",
              "      </script>\n",
              "    </div>\n",
              "  </div>\n",
              "  "
            ]
          },
          "metadata": {},
          "execution_count": 2
        }
      ],
      "source": [
        "\n",
        "import pandas as pd\n",
        "import numpy as np\n",
        "import matplotlib.pyplot as plt\n",
        "import seaborn as sns\n",
        "\n",
        "from sklearn.preprocessing import LabelEncoder\n",
        "\n",
        "from sklearn.preprocessing import StandardScaler\n",
        "from sklearn.preprocessing import RobustScaler\n",
        "from sklearn.preprocessing import MinMaxScaler\n",
        "\n",
        "from sklearn.model_selection import train_test_split\n",
        "from sklearn.ensemble import RandomForestClassifier\n",
        "from sklearn.linear_model import LogisticRegression\n",
        "\n",
        "from sklearn import metrics\n",
        "\n",
        "import warnings      #to avoid warnings\n",
        "warnings.filterwarnings('ignore')\n",
        "\n",
        "\n",
        "df = pd.read_csv('/content/drive/MyDrive/기계학습 팀플/heart_2020_cleaned.csv')\n",
        "df = df.drop_duplicates()\n",
        "\n",
        "# 데이터 잘 들어온지 확인\n",
        "print(df.shape)\n",
        "df.head()\n"
      ]
    },
    {
      "cell_type": "code",
      "execution_count": null,
      "metadata": {
        "colab": {
          "base_uri": "https://localhost:8080/",
          "height": 318
        },
        "id": "K1tdcZSyASGy",
        "outputId": "508cd778-a642-4a3d-b5d5-a182f435d512"
      },
      "outputs": [
        {
          "output_type": "stream",
          "name": "stdout",
          "text": [
            "(301717, 22)\n"
          ]
        },
        {
          "output_type": "execute_result",
          "data": {
            "text/plain": [
              "   HeartDisease    BMI  Smoking  AlcoholDrinking  Stroke  PhysicalHealth  \\\n",
              "0             0  16.60        1                0       0             3.0   \n",
              "1             0  20.34        0                0       1             0.0   \n",
              "2             0  26.58        1                0       0            20.0   \n",
              "3             0  24.21        0                0       0             0.0   \n",
              "4             0  23.71        0                0       0            28.0   \n",
              "\n",
              "   MentalHealth  DiffWalking  Sex  AgeCategory  ...  GenHealth  SleepTime  \\\n",
              "0          30.0            0    0           55  ...          3        5.0   \n",
              "1           0.0            0    0           80  ...          3        7.0   \n",
              "2          30.0            0    1           65  ...          1        8.0   \n",
              "3           0.0            0    0           75  ...          2        6.0   \n",
              "4           0.0            1    0           40  ...          3        8.0   \n",
              "\n",
              "   Asthma  KidneyDisease  SkinCancer  Race_Asian  Race_Black  Race_Hispanic  \\\n",
              "0       1              0           1           0           0              0   \n",
              "1       0              0           0           0           0              0   \n",
              "2       1              0           0           0           0              0   \n",
              "3       0              0           1           0           0              0   \n",
              "4       0              0           0           0           0              0   \n",
              "\n",
              "   Race_Other  Race_White  \n",
              "0           0           1  \n",
              "1           0           1  \n",
              "2           0           1  \n",
              "3           0           1  \n",
              "4           0           1  \n",
              "\n",
              "[5 rows x 22 columns]"
            ],
            "text/html": [
              "\n",
              "  <div id=\"df-4a08cfab-cd15-4233-bf04-354208d0fde4\">\n",
              "    <div class=\"colab-df-container\">\n",
              "      <div>\n",
              "<style scoped>\n",
              "    .dataframe tbody tr th:only-of-type {\n",
              "        vertical-align: middle;\n",
              "    }\n",
              "\n",
              "    .dataframe tbody tr th {\n",
              "        vertical-align: top;\n",
              "    }\n",
              "\n",
              "    .dataframe thead th {\n",
              "        text-align: right;\n",
              "    }\n",
              "</style>\n",
              "<table border=\"1\" class=\"dataframe\">\n",
              "  <thead>\n",
              "    <tr style=\"text-align: right;\">\n",
              "      <th></th>\n",
              "      <th>HeartDisease</th>\n",
              "      <th>BMI</th>\n",
              "      <th>Smoking</th>\n",
              "      <th>AlcoholDrinking</th>\n",
              "      <th>Stroke</th>\n",
              "      <th>PhysicalHealth</th>\n",
              "      <th>MentalHealth</th>\n",
              "      <th>DiffWalking</th>\n",
              "      <th>Sex</th>\n",
              "      <th>AgeCategory</th>\n",
              "      <th>...</th>\n",
              "      <th>GenHealth</th>\n",
              "      <th>SleepTime</th>\n",
              "      <th>Asthma</th>\n",
              "      <th>KidneyDisease</th>\n",
              "      <th>SkinCancer</th>\n",
              "      <th>Race_Asian</th>\n",
              "      <th>Race_Black</th>\n",
              "      <th>Race_Hispanic</th>\n",
              "      <th>Race_Other</th>\n",
              "      <th>Race_White</th>\n",
              "    </tr>\n",
              "  </thead>\n",
              "  <tbody>\n",
              "    <tr>\n",
              "      <th>0</th>\n",
              "      <td>0</td>\n",
              "      <td>16.60</td>\n",
              "      <td>1</td>\n",
              "      <td>0</td>\n",
              "      <td>0</td>\n",
              "      <td>3.0</td>\n",
              "      <td>30.0</td>\n",
              "      <td>0</td>\n",
              "      <td>0</td>\n",
              "      <td>55</td>\n",
              "      <td>...</td>\n",
              "      <td>3</td>\n",
              "      <td>5.0</td>\n",
              "      <td>1</td>\n",
              "      <td>0</td>\n",
              "      <td>1</td>\n",
              "      <td>0</td>\n",
              "      <td>0</td>\n",
              "      <td>0</td>\n",
              "      <td>0</td>\n",
              "      <td>1</td>\n",
              "    </tr>\n",
              "    <tr>\n",
              "      <th>1</th>\n",
              "      <td>0</td>\n",
              "      <td>20.34</td>\n",
              "      <td>0</td>\n",
              "      <td>0</td>\n",
              "      <td>1</td>\n",
              "      <td>0.0</td>\n",
              "      <td>0.0</td>\n",
              "      <td>0</td>\n",
              "      <td>0</td>\n",
              "      <td>80</td>\n",
              "      <td>...</td>\n",
              "      <td>3</td>\n",
              "      <td>7.0</td>\n",
              "      <td>0</td>\n",
              "      <td>0</td>\n",
              "      <td>0</td>\n",
              "      <td>0</td>\n",
              "      <td>0</td>\n",
              "      <td>0</td>\n",
              "      <td>0</td>\n",
              "      <td>1</td>\n",
              "    </tr>\n",
              "    <tr>\n",
              "      <th>2</th>\n",
              "      <td>0</td>\n",
              "      <td>26.58</td>\n",
              "      <td>1</td>\n",
              "      <td>0</td>\n",
              "      <td>0</td>\n",
              "      <td>20.0</td>\n",
              "      <td>30.0</td>\n",
              "      <td>0</td>\n",
              "      <td>1</td>\n",
              "      <td>65</td>\n",
              "      <td>...</td>\n",
              "      <td>1</td>\n",
              "      <td>8.0</td>\n",
              "      <td>1</td>\n",
              "      <td>0</td>\n",
              "      <td>0</td>\n",
              "      <td>0</td>\n",
              "      <td>0</td>\n",
              "      <td>0</td>\n",
              "      <td>0</td>\n",
              "      <td>1</td>\n",
              "    </tr>\n",
              "    <tr>\n",
              "      <th>3</th>\n",
              "      <td>0</td>\n",
              "      <td>24.21</td>\n",
              "      <td>0</td>\n",
              "      <td>0</td>\n",
              "      <td>0</td>\n",
              "      <td>0.0</td>\n",
              "      <td>0.0</td>\n",
              "      <td>0</td>\n",
              "      <td>0</td>\n",
              "      <td>75</td>\n",
              "      <td>...</td>\n",
              "      <td>2</td>\n",
              "      <td>6.0</td>\n",
              "      <td>0</td>\n",
              "      <td>0</td>\n",
              "      <td>1</td>\n",
              "      <td>0</td>\n",
              "      <td>0</td>\n",
              "      <td>0</td>\n",
              "      <td>0</td>\n",
              "      <td>1</td>\n",
              "    </tr>\n",
              "    <tr>\n",
              "      <th>4</th>\n",
              "      <td>0</td>\n",
              "      <td>23.71</td>\n",
              "      <td>0</td>\n",
              "      <td>0</td>\n",
              "      <td>0</td>\n",
              "      <td>28.0</td>\n",
              "      <td>0.0</td>\n",
              "      <td>1</td>\n",
              "      <td>0</td>\n",
              "      <td>40</td>\n",
              "      <td>...</td>\n",
              "      <td>3</td>\n",
              "      <td>8.0</td>\n",
              "      <td>0</td>\n",
              "      <td>0</td>\n",
              "      <td>0</td>\n",
              "      <td>0</td>\n",
              "      <td>0</td>\n",
              "      <td>0</td>\n",
              "      <td>0</td>\n",
              "      <td>1</td>\n",
              "    </tr>\n",
              "  </tbody>\n",
              "</table>\n",
              "<p>5 rows × 22 columns</p>\n",
              "</div>\n",
              "      <button class=\"colab-df-convert\" onclick=\"convertToInteractive('df-4a08cfab-cd15-4233-bf04-354208d0fde4')\"\n",
              "              title=\"Convert this dataframe to an interactive table.\"\n",
              "              style=\"display:none;\">\n",
              "        \n",
              "  <svg xmlns=\"http://www.w3.org/2000/svg\" height=\"24px\"viewBox=\"0 0 24 24\"\n",
              "       width=\"24px\">\n",
              "    <path d=\"M0 0h24v24H0V0z\" fill=\"none\"/>\n",
              "    <path d=\"M18.56 5.44l.94 2.06.94-2.06 2.06-.94-2.06-.94-.94-2.06-.94 2.06-2.06.94zm-11 1L8.5 8.5l.94-2.06 2.06-.94-2.06-.94L8.5 2.5l-.94 2.06-2.06.94zm10 10l.94 2.06.94-2.06 2.06-.94-2.06-.94-.94-2.06-.94 2.06-2.06.94z\"/><path d=\"M17.41 7.96l-1.37-1.37c-.4-.4-.92-.59-1.43-.59-.52 0-1.04.2-1.43.59L10.3 9.45l-7.72 7.72c-.78.78-.78 2.05 0 2.83L4 21.41c.39.39.9.59 1.41.59.51 0 1.02-.2 1.41-.59l7.78-7.78 2.81-2.81c.8-.78.8-2.07 0-2.86zM5.41 20L4 18.59l7.72-7.72 1.47 1.35L5.41 20z\"/>\n",
              "  </svg>\n",
              "      </button>\n",
              "      \n",
              "  <style>\n",
              "    .colab-df-container {\n",
              "      display:flex;\n",
              "      flex-wrap:wrap;\n",
              "      gap: 12px;\n",
              "    }\n",
              "\n",
              "    .colab-df-convert {\n",
              "      background-color: #E8F0FE;\n",
              "      border: none;\n",
              "      border-radius: 50%;\n",
              "      cursor: pointer;\n",
              "      display: none;\n",
              "      fill: #1967D2;\n",
              "      height: 32px;\n",
              "      padding: 0 0 0 0;\n",
              "      width: 32px;\n",
              "    }\n",
              "\n",
              "    .colab-df-convert:hover {\n",
              "      background-color: #E2EBFA;\n",
              "      box-shadow: 0px 1px 2px rgba(60, 64, 67, 0.3), 0px 1px 3px 1px rgba(60, 64, 67, 0.15);\n",
              "      fill: #174EA6;\n",
              "    }\n",
              "\n",
              "    [theme=dark] .colab-df-convert {\n",
              "      background-color: #3B4455;\n",
              "      fill: #D2E3FC;\n",
              "    }\n",
              "\n",
              "    [theme=dark] .colab-df-convert:hover {\n",
              "      background-color: #434B5C;\n",
              "      box-shadow: 0px 1px 3px 1px rgba(0, 0, 0, 0.15);\n",
              "      filter: drop-shadow(0px 1px 2px rgba(0, 0, 0, 0.3));\n",
              "      fill: #FFFFFF;\n",
              "    }\n",
              "  </style>\n",
              "\n",
              "      <script>\n",
              "        const buttonEl =\n",
              "          document.querySelector('#df-4a08cfab-cd15-4233-bf04-354208d0fde4 button.colab-df-convert');\n",
              "        buttonEl.style.display =\n",
              "          google.colab.kernel.accessAllowed ? 'block' : 'none';\n",
              "\n",
              "        async function convertToInteractive(key) {\n",
              "          const element = document.querySelector('#df-4a08cfab-cd15-4233-bf04-354208d0fde4');\n",
              "          const dataTable =\n",
              "            await google.colab.kernel.invokeFunction('convertToInteractive',\n",
              "                                                     [key], {});\n",
              "          if (!dataTable) return;\n",
              "\n",
              "          const docLinkHtml = 'Like what you see? Visit the ' +\n",
              "            '<a target=\"_blank\" href=https://colab.research.google.com/notebooks/data_table.ipynb>data table notebook</a>'\n",
              "            + ' to learn more about interactive tables.';\n",
              "          element.innerHTML = '';\n",
              "          dataTable['output_type'] = 'display_data';\n",
              "          await google.colab.output.renderOutput(dataTable, element);\n",
              "          const docLink = document.createElement('div');\n",
              "          docLink.innerHTML = docLinkHtml;\n",
              "          element.appendChild(docLink);\n",
              "        }\n",
              "      </script>\n",
              "    </div>\n",
              "  </div>\n",
              "  "
            ]
          },
          "metadata": {},
          "execution_count": 6
        }
      ],
      "source": [
        "columns = ['HeartDisease', 'Smoking', 'AlcoholDrinking', 'Stroke', 'DiffWalking', 'Sex', 'PhysicalActivity', 'Asthma', 'KidneyDisease', 'SkinCancer']\n",
        "\n",
        "#label encoding \n",
        "df_encoded=df.copy()\n",
        "le=LabelEncoder()\n",
        "\n",
        "for i in columns:\n",
        "    df_encoded[i]=le.fit_transform(df_encoded[i])\n",
        "\n",
        "genhealth_map = {'Excellent' : 4, 'Very good' : 3, 'Good' : 2, 'Fair' : 1, 'Poor' : 0}\n",
        "\n",
        "\n",
        "diabetic_map={'Yes' : 2, 'Yes (during pregnancy)' : 2, 'No, borderline diabetes' : 1, 'No' : 0}\n",
        "\n",
        "age_map = {'18-24' : 20, '25-29' : 25, '30-34' : 30, '35-39' : 35, '40-44' : 40, '45-49' : 45, '50-54' : 50, '55-59' : 55, '60-64' : 60, '65-69' : 65, '70-74' : 70, '75-79' : 75, '80 or older' : 80}\n",
        "\n",
        "df_encoded['GenHealth'] = df_encoded['GenHealth'].map(genhealth_map)\n",
        "df_encoded['Diabetic'] = df_encoded['Diabetic'].map(diabetic_map)\n",
        "df_encoded['AgeCategory'] = df_encoded['AgeCategory'].map(age_map)\n",
        "\n",
        "\n",
        "# One hot encoding\n",
        "df_encoded=pd.concat([df_encoded,pd.get_dummies(df_encoded['Race'],prefix='Race',drop_first=True)], axis=1)\n",
        "df_encoded.drop(columns=['Race'],axis=1,inplace=True)\n",
        "\n",
        "print(df_encoded.shape)\n",
        "df_encoded.head()\n"
      ]
    },
    {
      "cell_type": "code",
      "execution_count": null,
      "metadata": {
        "id": "9iU3y0EAAUPn"
      },
      "outputs": [],
      "source": [
        "# x y분리\n",
        "X=df_encoded.drop('HeartDisease', axis=1)\n",
        "X_columns=X.columns\n",
        "Y=df_encoded['HeartDisease']"
      ]
    },
    {
      "cell_type": "code",
      "execution_count": null,
      "metadata": {
        "colab": {
          "base_uri": "https://localhost:8080/",
          "height": 488
        },
        "id": "2DJHfA-EAW6K",
        "outputId": "f7349a9e-7e49-4803-c6e9-856979dfd74f"
      },
      "outputs": [
        {
          "output_type": "execute_result",
          "data": {
            "text/plain": [
              "             BMI  Smoking  AlcoholDrinking  Stroke  PhysicalHealth  \\\n",
              "0      -1.830820        1                0       0       -0.070301   \n",
              "1      -1.252600        0                0       1       -0.438823   \n",
              "2      -0.287869        1                0       0        2.017986   \n",
              "3      -0.654281        0                0       0       -0.438823   \n",
              "4      -0.731583        0                0       0        3.000709   \n",
              "...          ...      ...              ...     ...             ...   \n",
              "319790 -0.159547        1                0       0        0.421060   \n",
              "319791  0.216141        1                0       0       -0.438823   \n",
              "319792 -0.649643        0                0       0       -0.438823   \n",
              "319793  0.675316        0                0       0       -0.438823   \n",
              "319794  2.801126        0                0       0       -0.438823   \n",
              "\n",
              "        MentalHealth  DiffWalking  Sex  AgeCategory  Diabetic  ...  GenHealth  \\\n",
              "0           3.183766            0    0           55         2  ...          3   \n",
              "1          -0.507054            0    0           80         0  ...          3   \n",
              "2           3.183766            0    1           65         2  ...          1   \n",
              "3          -0.507054            0    0           75         0  ...          2   \n",
              "4          -0.507054            1    0           40         0  ...          3   \n",
              "...              ...          ...  ...          ...       ...  ...        ...   \n",
              "319790     -0.507054            1    1           60         2  ...          1   \n",
              "319791     -0.507054            0    1           35         0  ...          3   \n",
              "319792     -0.507054            0    0           45         0  ...          2   \n",
              "319793     -0.507054            0    0           25         0  ...          2   \n",
              "319794     -0.507054            0    0           80         0  ...          2   \n",
              "\n",
              "        SleepTime  Asthma  KidneyDisease  SkinCancer  Race_Asian  Race_Black  \\\n",
              "0       -1.420852       1              0           1           0           0   \n",
              "1       -0.057636       0              0           0           0           0   \n",
              "2        0.623971       1              0           0           0           0   \n",
              "3       -0.739244       0              0           1           0           0   \n",
              "4        0.623971       0              0           0           0           0   \n",
              "...           ...     ...            ...         ...         ...         ...   \n",
              "319790  -0.739244       1              0           0           0           0   \n",
              "319791  -1.420852       1              0           0           0           0   \n",
              "319792  -0.739244       0              0           0           0           0   \n",
              "319793   3.350402       0              0           0           0           0   \n",
              "319794   0.623971       0              0           0           0           0   \n",
              "\n",
              "        Race_Hispanic  Race_Other  Race_White  \n",
              "0                   0           0           1  \n",
              "1                   0           0           1  \n",
              "2                   0           0           1  \n",
              "3                   0           0           1  \n",
              "4                   0           0           1  \n",
              "...               ...         ...         ...  \n",
              "319790              1           0           0  \n",
              "319791              1           0           0  \n",
              "319792              1           0           0  \n",
              "319793              1           0           0  \n",
              "319794              1           0           0  \n",
              "\n",
              "[301717 rows x 21 columns]"
            ],
            "text/html": [
              "\n",
              "  <div id=\"df-ce2e1438-ff48-4c19-aa30-e8b01f7a100b\">\n",
              "    <div class=\"colab-df-container\">\n",
              "      <div>\n",
              "<style scoped>\n",
              "    .dataframe tbody tr th:only-of-type {\n",
              "        vertical-align: middle;\n",
              "    }\n",
              "\n",
              "    .dataframe tbody tr th {\n",
              "        vertical-align: top;\n",
              "    }\n",
              "\n",
              "    .dataframe thead th {\n",
              "        text-align: right;\n",
              "    }\n",
              "</style>\n",
              "<table border=\"1\" class=\"dataframe\">\n",
              "  <thead>\n",
              "    <tr style=\"text-align: right;\">\n",
              "      <th></th>\n",
              "      <th>BMI</th>\n",
              "      <th>Smoking</th>\n",
              "      <th>AlcoholDrinking</th>\n",
              "      <th>Stroke</th>\n",
              "      <th>PhysicalHealth</th>\n",
              "      <th>MentalHealth</th>\n",
              "      <th>DiffWalking</th>\n",
              "      <th>Sex</th>\n",
              "      <th>AgeCategory</th>\n",
              "      <th>Diabetic</th>\n",
              "      <th>...</th>\n",
              "      <th>GenHealth</th>\n",
              "      <th>SleepTime</th>\n",
              "      <th>Asthma</th>\n",
              "      <th>KidneyDisease</th>\n",
              "      <th>SkinCancer</th>\n",
              "      <th>Race_Asian</th>\n",
              "      <th>Race_Black</th>\n",
              "      <th>Race_Hispanic</th>\n",
              "      <th>Race_Other</th>\n",
              "      <th>Race_White</th>\n",
              "    </tr>\n",
              "  </thead>\n",
              "  <tbody>\n",
              "    <tr>\n",
              "      <th>0</th>\n",
              "      <td>-1.830820</td>\n",
              "      <td>1</td>\n",
              "      <td>0</td>\n",
              "      <td>0</td>\n",
              "      <td>-0.070301</td>\n",
              "      <td>3.183766</td>\n",
              "      <td>0</td>\n",
              "      <td>0</td>\n",
              "      <td>55</td>\n",
              "      <td>2</td>\n",
              "      <td>...</td>\n",
              "      <td>3</td>\n",
              "      <td>-1.420852</td>\n",
              "      <td>1</td>\n",
              "      <td>0</td>\n",
              "      <td>1</td>\n",
              "      <td>0</td>\n",
              "      <td>0</td>\n",
              "      <td>0</td>\n",
              "      <td>0</td>\n",
              "      <td>1</td>\n",
              "    </tr>\n",
              "    <tr>\n",
              "      <th>1</th>\n",
              "      <td>-1.252600</td>\n",
              "      <td>0</td>\n",
              "      <td>0</td>\n",
              "      <td>1</td>\n",
              "      <td>-0.438823</td>\n",
              "      <td>-0.507054</td>\n",
              "      <td>0</td>\n",
              "      <td>0</td>\n",
              "      <td>80</td>\n",
              "      <td>0</td>\n",
              "      <td>...</td>\n",
              "      <td>3</td>\n",
              "      <td>-0.057636</td>\n",
              "      <td>0</td>\n",
              "      <td>0</td>\n",
              "      <td>0</td>\n",
              "      <td>0</td>\n",
              "      <td>0</td>\n",
              "      <td>0</td>\n",
              "      <td>0</td>\n",
              "      <td>1</td>\n",
              "    </tr>\n",
              "    <tr>\n",
              "      <th>2</th>\n",
              "      <td>-0.287869</td>\n",
              "      <td>1</td>\n",
              "      <td>0</td>\n",
              "      <td>0</td>\n",
              "      <td>2.017986</td>\n",
              "      <td>3.183766</td>\n",
              "      <td>0</td>\n",
              "      <td>1</td>\n",
              "      <td>65</td>\n",
              "      <td>2</td>\n",
              "      <td>...</td>\n",
              "      <td>1</td>\n",
              "      <td>0.623971</td>\n",
              "      <td>1</td>\n",
              "      <td>0</td>\n",
              "      <td>0</td>\n",
              "      <td>0</td>\n",
              "      <td>0</td>\n",
              "      <td>0</td>\n",
              "      <td>0</td>\n",
              "      <td>1</td>\n",
              "    </tr>\n",
              "    <tr>\n",
              "      <th>3</th>\n",
              "      <td>-0.654281</td>\n",
              "      <td>0</td>\n",
              "      <td>0</td>\n",
              "      <td>0</td>\n",
              "      <td>-0.438823</td>\n",
              "      <td>-0.507054</td>\n",
              "      <td>0</td>\n",
              "      <td>0</td>\n",
              "      <td>75</td>\n",
              "      <td>0</td>\n",
              "      <td>...</td>\n",
              "      <td>2</td>\n",
              "      <td>-0.739244</td>\n",
              "      <td>0</td>\n",
              "      <td>0</td>\n",
              "      <td>1</td>\n",
              "      <td>0</td>\n",
              "      <td>0</td>\n",
              "      <td>0</td>\n",
              "      <td>0</td>\n",
              "      <td>1</td>\n",
              "    </tr>\n",
              "    <tr>\n",
              "      <th>4</th>\n",
              "      <td>-0.731583</td>\n",
              "      <td>0</td>\n",
              "      <td>0</td>\n",
              "      <td>0</td>\n",
              "      <td>3.000709</td>\n",
              "      <td>-0.507054</td>\n",
              "      <td>1</td>\n",
              "      <td>0</td>\n",
              "      <td>40</td>\n",
              "      <td>0</td>\n",
              "      <td>...</td>\n",
              "      <td>3</td>\n",
              "      <td>0.623971</td>\n",
              "      <td>0</td>\n",
              "      <td>0</td>\n",
              "      <td>0</td>\n",
              "      <td>0</td>\n",
              "      <td>0</td>\n",
              "      <td>0</td>\n",
              "      <td>0</td>\n",
              "      <td>1</td>\n",
              "    </tr>\n",
              "    <tr>\n",
              "      <th>...</th>\n",
              "      <td>...</td>\n",
              "      <td>...</td>\n",
              "      <td>...</td>\n",
              "      <td>...</td>\n",
              "      <td>...</td>\n",
              "      <td>...</td>\n",
              "      <td>...</td>\n",
              "      <td>...</td>\n",
              "      <td>...</td>\n",
              "      <td>...</td>\n",
              "      <td>...</td>\n",
              "      <td>...</td>\n",
              "      <td>...</td>\n",
              "      <td>...</td>\n",
              "      <td>...</td>\n",
              "      <td>...</td>\n",
              "      <td>...</td>\n",
              "      <td>...</td>\n",
              "      <td>...</td>\n",
              "      <td>...</td>\n",
              "      <td>...</td>\n",
              "    </tr>\n",
              "    <tr>\n",
              "      <th>319790</th>\n",
              "      <td>-0.159547</td>\n",
              "      <td>1</td>\n",
              "      <td>0</td>\n",
              "      <td>0</td>\n",
              "      <td>0.421060</td>\n",
              "      <td>-0.507054</td>\n",
              "      <td>1</td>\n",
              "      <td>1</td>\n",
              "      <td>60</td>\n",
              "      <td>2</td>\n",
              "      <td>...</td>\n",
              "      <td>1</td>\n",
              "      <td>-0.739244</td>\n",
              "      <td>1</td>\n",
              "      <td>0</td>\n",
              "      <td>0</td>\n",
              "      <td>0</td>\n",
              "      <td>0</td>\n",
              "      <td>1</td>\n",
              "      <td>0</td>\n",
              "      <td>0</td>\n",
              "    </tr>\n",
              "    <tr>\n",
              "      <th>319791</th>\n",
              "      <td>0.216141</td>\n",
              "      <td>1</td>\n",
              "      <td>0</td>\n",
              "      <td>0</td>\n",
              "      <td>-0.438823</td>\n",
              "      <td>-0.507054</td>\n",
              "      <td>0</td>\n",
              "      <td>1</td>\n",
              "      <td>35</td>\n",
              "      <td>0</td>\n",
              "      <td>...</td>\n",
              "      <td>3</td>\n",
              "      <td>-1.420852</td>\n",
              "      <td>1</td>\n",
              "      <td>0</td>\n",
              "      <td>0</td>\n",
              "      <td>0</td>\n",
              "      <td>0</td>\n",
              "      <td>1</td>\n",
              "      <td>0</td>\n",
              "      <td>0</td>\n",
              "    </tr>\n",
              "    <tr>\n",
              "      <th>319792</th>\n",
              "      <td>-0.649643</td>\n",
              "      <td>0</td>\n",
              "      <td>0</td>\n",
              "      <td>0</td>\n",
              "      <td>-0.438823</td>\n",
              "      <td>-0.507054</td>\n",
              "      <td>0</td>\n",
              "      <td>0</td>\n",
              "      <td>45</td>\n",
              "      <td>0</td>\n",
              "      <td>...</td>\n",
              "      <td>2</td>\n",
              "      <td>-0.739244</td>\n",
              "      <td>0</td>\n",
              "      <td>0</td>\n",
              "      <td>0</td>\n",
              "      <td>0</td>\n",
              "      <td>0</td>\n",
              "      <td>1</td>\n",
              "      <td>0</td>\n",
              "      <td>0</td>\n",
              "    </tr>\n",
              "    <tr>\n",
              "      <th>319793</th>\n",
              "      <td>0.675316</td>\n",
              "      <td>0</td>\n",
              "      <td>0</td>\n",
              "      <td>0</td>\n",
              "      <td>-0.438823</td>\n",
              "      <td>-0.507054</td>\n",
              "      <td>0</td>\n",
              "      <td>0</td>\n",
              "      <td>25</td>\n",
              "      <td>0</td>\n",
              "      <td>...</td>\n",
              "      <td>2</td>\n",
              "      <td>3.350402</td>\n",
              "      <td>0</td>\n",
              "      <td>0</td>\n",
              "      <td>0</td>\n",
              "      <td>0</td>\n",
              "      <td>0</td>\n",
              "      <td>1</td>\n",
              "      <td>0</td>\n",
              "      <td>0</td>\n",
              "    </tr>\n",
              "    <tr>\n",
              "      <th>319794</th>\n",
              "      <td>2.801126</td>\n",
              "      <td>0</td>\n",
              "      <td>0</td>\n",
              "      <td>0</td>\n",
              "      <td>-0.438823</td>\n",
              "      <td>-0.507054</td>\n",
              "      <td>0</td>\n",
              "      <td>0</td>\n",
              "      <td>80</td>\n",
              "      <td>0</td>\n",
              "      <td>...</td>\n",
              "      <td>2</td>\n",
              "      <td>0.623971</td>\n",
              "      <td>0</td>\n",
              "      <td>0</td>\n",
              "      <td>0</td>\n",
              "      <td>0</td>\n",
              "      <td>0</td>\n",
              "      <td>1</td>\n",
              "      <td>0</td>\n",
              "      <td>0</td>\n",
              "    </tr>\n",
              "  </tbody>\n",
              "</table>\n",
              "<p>301717 rows × 21 columns</p>\n",
              "</div>\n",
              "      <button class=\"colab-df-convert\" onclick=\"convertToInteractive('df-ce2e1438-ff48-4c19-aa30-e8b01f7a100b')\"\n",
              "              title=\"Convert this dataframe to an interactive table.\"\n",
              "              style=\"display:none;\">\n",
              "        \n",
              "  <svg xmlns=\"http://www.w3.org/2000/svg\" height=\"24px\"viewBox=\"0 0 24 24\"\n",
              "       width=\"24px\">\n",
              "    <path d=\"M0 0h24v24H0V0z\" fill=\"none\"/>\n",
              "    <path d=\"M18.56 5.44l.94 2.06.94-2.06 2.06-.94-2.06-.94-.94-2.06-.94 2.06-2.06.94zm-11 1L8.5 8.5l.94-2.06 2.06-.94-2.06-.94L8.5 2.5l-.94 2.06-2.06.94zm10 10l.94 2.06.94-2.06 2.06-.94-2.06-.94-.94-2.06-.94 2.06-2.06.94z\"/><path d=\"M17.41 7.96l-1.37-1.37c-.4-.4-.92-.59-1.43-.59-.52 0-1.04.2-1.43.59L10.3 9.45l-7.72 7.72c-.78.78-.78 2.05 0 2.83L4 21.41c.39.39.9.59 1.41.59.51 0 1.02-.2 1.41-.59l7.78-7.78 2.81-2.81c.8-.78.8-2.07 0-2.86zM5.41 20L4 18.59l7.72-7.72 1.47 1.35L5.41 20z\"/>\n",
              "  </svg>\n",
              "      </button>\n",
              "      \n",
              "  <style>\n",
              "    .colab-df-container {\n",
              "      display:flex;\n",
              "      flex-wrap:wrap;\n",
              "      gap: 12px;\n",
              "    }\n",
              "\n",
              "    .colab-df-convert {\n",
              "      background-color: #E8F0FE;\n",
              "      border: none;\n",
              "      border-radius: 50%;\n",
              "      cursor: pointer;\n",
              "      display: none;\n",
              "      fill: #1967D2;\n",
              "      height: 32px;\n",
              "      padding: 0 0 0 0;\n",
              "      width: 32px;\n",
              "    }\n",
              "\n",
              "    .colab-df-convert:hover {\n",
              "      background-color: #E2EBFA;\n",
              "      box-shadow: 0px 1px 2px rgba(60, 64, 67, 0.3), 0px 1px 3px 1px rgba(60, 64, 67, 0.15);\n",
              "      fill: #174EA6;\n",
              "    }\n",
              "\n",
              "    [theme=dark] .colab-df-convert {\n",
              "      background-color: #3B4455;\n",
              "      fill: #D2E3FC;\n",
              "    }\n",
              "\n",
              "    [theme=dark] .colab-df-convert:hover {\n",
              "      background-color: #434B5C;\n",
              "      box-shadow: 0px 1px 3px 1px rgba(0, 0, 0, 0.15);\n",
              "      filter: drop-shadow(0px 1px 2px rgba(0, 0, 0, 0.3));\n",
              "      fill: #FFFFFF;\n",
              "    }\n",
              "  </style>\n",
              "\n",
              "      <script>\n",
              "        const buttonEl =\n",
              "          document.querySelector('#df-ce2e1438-ff48-4c19-aa30-e8b01f7a100b button.colab-df-convert');\n",
              "        buttonEl.style.display =\n",
              "          google.colab.kernel.accessAllowed ? 'block' : 'none';\n",
              "\n",
              "        async function convertToInteractive(key) {\n",
              "          const element = document.querySelector('#df-ce2e1438-ff48-4c19-aa30-e8b01f7a100b');\n",
              "          const dataTable =\n",
              "            await google.colab.kernel.invokeFunction('convertToInteractive',\n",
              "                                                     [key], {});\n",
              "          if (!dataTable) return;\n",
              "\n",
              "          const docLinkHtml = 'Like what you see? Visit the ' +\n",
              "            '<a target=\"_blank\" href=https://colab.research.google.com/notebooks/data_table.ipynb>data table notebook</a>'\n",
              "            + ' to learn more about interactive tables.';\n",
              "          element.innerHTML = '';\n",
              "          dataTable['output_type'] = 'display_data';\n",
              "          await google.colab.output.renderOutput(dataTable, element);\n",
              "          const docLink = document.createElement('div');\n",
              "          docLink.innerHTML = docLinkHtml;\n",
              "          element.appendChild(docLink);\n",
              "        }\n",
              "      </script>\n",
              "    </div>\n",
              "  </div>\n",
              "  "
            ]
          },
          "metadata": {},
          "execution_count": 8
        }
      ],
      "source": [
        "# 표준화\n",
        "df_sc_X=X.copy()\n",
        "num_cols = ['MentalHealth', 'BMI', 'PhysicalHealth', 'SleepTime']\n",
        "sc = StandardScaler()\n",
        "df_sc_X[num_cols] = sc.fit_transform(df_sc_X[num_cols])\n",
        "\n",
        "df_sc_X"
      ]
    },
    {
      "cell_type": "code",
      "execution_count": null,
      "metadata": {
        "id": "eF3hRgvQAYRc"
      },
      "outputs": [],
      "source": [
        "# train test 분리\n",
        "x_train, x_test, y_train, y_test = train_test_split(df_sc_X,Y,test_size =0.2,random_state = 42)"
      ]
    },
    {
      "cell_type": "code",
      "execution_count": null,
      "metadata": {
        "colab": {
          "base_uri": "https://localhost:8080/",
          "height": 352
        },
        "id": "8OvYRTPOAa2s",
        "outputId": "8c7f895b-a6f7-41a6-d95b-7e71112605a5"
      },
      "outputs": [
        {
          "output_type": "stream",
          "name": "stdout",
          "text": [
            "origin target data :\n",
            " No     274456\n",
            "Yes     27261\n",
            "Name: HeartDisease, dtype: int64\n"
          ]
        },
        {
          "output_type": "display_data",
          "data": {
            "text/plain": [
              "<Figure size 432x288 with 1 Axes>"
            ],
            "image/png": "[encoded data removed]"
          },
          "metadata": {
            "needs_background": "light"
          }
        }
      ],
      "source": [
        "# 데이터 불균형 처리 전 상태\n",
        "sns.histplot(data=df, x='HeartDisease', shrink=0.5, multiple='stack')\n",
        "print('origin target data :\\n', df['HeartDisease'].value_counts())"
      ]
    },
    {
      "cell_type": "code",
      "source": [
        "# 데이터 불균형 처리\n",
        "from imblearn.under_sampling import *\n",
        "\n",
        "##언더샘플링\n",
        "\n",
        "#CNN\n",
        "x_train_CNN, y_train_CNN =CondensedNearestNeighbour(random_state=42).fit_resample(x_train, y_train) \n",
        "\n",
        "#ENN\n",
        "x_train_ENN, y_train_ENN =EditedNearestNeighbours(kind_sel=\"all\", n_neighbors=5).fit_resample(x_train, y_train) \n",
        "\n",
        "#Tomek's link\n",
        "x_train_Tomek, y_train_Tomek =TomekLinks().fit_resample(x_train, y_train) \n",
        "\n",
        "#OSS\n",
        "x_train_OSS, y_train_OSS =OneSidedSelection(random_state=42).fit_resample(x_train, y_train) \n",
        "\n",
        "#NCR\n",
        "x_train_NCR, y_train_NCR =NeighbourhoodCleaningRule().fit_resample(x_train, y_train) \n",
        "\n",
        "\n",
        "#NearMiss<-version1\n",
        "x_train_NearMiss, y_train_NearMiss=NearMiss().fit_resample(x_train, y_train)\n"
      ],
      "metadata": {
        "id": "MHn7J4xtNkZB"
      },
      "execution_count": null,
      "outputs": []
    },
    {
      "cell_type": "code",
      "source": [
        "# 언더 샘플링 결과\n",
        "\n",
        "print('befor undersampling :\\n', y_train.value_counts())\n",
        "print('\\nAfter CNN :\\n', y_train_CNN.value_counts())\n",
        "print('\\n\\n')\n",
        "\n",
        "print('befor undersampling :\\n', y_train.value_counts())\n",
        "print('\\nAfter ENN :\\n', y_train_ENN.value_counts())\n",
        "print('\\n\\n')\n",
        "\n",
        "print('befor undersampling :\\n', y_train.value_counts())  \n",
        "print('\\nAfter TomekLink :\\n', y_train_Tomek.value_counts())\n",
        "print('\\n\\n')\n",
        "\n",
        "print('befor undersampling :\\n', y_train.value_counts()) \n",
        "print('\\nAfter OSS :\\n', y_train_OSS.value_counts())\n",
        "print('\\n\\n')\n",
        "\n",
        "print('befor undersampling :\\n', y_train.value_counts())\n",
        "print('\\nAfter NCR :\\n', y_train_NCR.value_counts())\n",
        "print('\\n\\n')\n",
        "\n",
        "print('befor undersampling :\\n', y_train.value_counts()) \n",
        "print('\\nAfter NearMiss :\\n', y_train_NearMiss.value_counts())\n",
        "print('\\n\\n')"
      ],
      "metadata": {
        "colab": {
          "base_uri": "https://localhost:8080/"
        },
        "id": "ADGPX5sw8eSV",
        "outputId": "d3d0869d-6753-454f-af05-05dd4826f301"
      },
      "execution_count": null,
      "outputs": [
        {
          "output_type": "stream",
          "name": "stdout",
          "text": [
            "befor undersampling :\n",
            " 0    219562\n",
            "1     21811\n",
            "Name: HeartDisease, dtype: int64\n",
            "\n",
            "After OSS :\n",
            " 0    212240\n",
            "1     21811\n",
            "Name: HeartDisease, dtype: int64\n",
            "\n",
            "\n",
            "\n",
            "befor undersampling :\n",
            " 0    219562\n",
            "1     21811\n",
            "Name: HeartDisease, dtype: int64\n",
            "\n",
            "After NCR :\n",
            " 0    179268\n",
            "1     21811\n",
            "Name: HeartDisease, dtype: int64\n",
            "\n",
            "\n",
            "\n",
            "befor undersampling :\n",
            " 0    219562\n",
            "1     21811\n",
            "Name: HeartDisease, dtype: int64\n",
            "\n",
            "After NearMiss :\n",
            " 0    21811\n",
            "1    21811\n",
            "Name: HeartDisease, dtype: int64\n",
            "\n",
            "\n",
            "\n"
          ]
        }
      ]
    },
    {
      "cell_type": "code",
      "source": [
        "# 언더샘플링 결과 Tomeklink #효과 미미 램용량 초과로 다운되어 따로 기록 0=212274, 1=21811\n",
        "\n",
        "print('befor undersampling :\\n', y_train.value_counts())  \n",
        "print('\\nAfter TomekLink :\\n', y_train_Tomek.value_counts())\n",
        "print('\\n\\n')"
      ],
      "metadata": {
        "id": "hOy96F1nSXSt",
        "colab": {
          "base_uri": "https://localhost:8080/"
        },
        "outputId": "72a54019-3547-4e9b-9527-fa9972a29ce6"
      },
      "execution_count": null,
      "outputs": [
        {
          "output_type": "stream",
          "name": "stdout",
          "text": [
            "befor undersampling :\n",
            " 0    219562\n",
            "1     21811\n",
            "Name: HeartDisease, dtype: int64\n",
            "\n",
            "After TomekLink :\n",
            " 0    212274\n",
            "1     21811\n",
            "Name: HeartDisease, dtype: int64\n",
            "\n",
            "\n",
            "\n"
          ]
        }
      ]
    },
    {
      "cell_type": "code",
      "execution_count": null,
      "metadata": {
        "id": "ZCmG2AM2AcWd"
      },
      "outputs": [],
      "source": [
        "# 데이터 불균형 처리\n",
        "from imblearn.over_sampling import *\n",
        "\n",
        "\n",
        "##오버샘플링\n",
        "\n",
        "#SMOTE\n",
        "x_train_SMOTE, y_train_SMOTE =SMOTE(random_state=42).fit_resample(x_train, y_train) \n",
        "\n",
        "#BorderlineSMOTE\n",
        "x_train_BorderlineSM, y_train_BorderlineSM =BorderlineSMOTE(random_state=42).fit_resample(x_train, y_train) \n",
        "\n",
        "#ADASYN\n",
        "x_train_ADASYN, y_train_ADASYN =ADASYN(random_state=42).fit_resample(x_train, y_train) "
      ]
    },
    {
      "cell_type": "code",
      "execution_count": null,
      "metadata": {
        "id": "IIYE6103Ad1m",
        "colab": {
          "base_uri": "https://localhost:8080/"
        },
        "outputId": "09af8083-ed78-4451-a3cc-fdbf42cdf1d5"
      },
      "outputs": [
        {
          "output_type": "stream",
          "name": "stdout",
          "text": [
            "befor oversampling :\n",
            " 0    219562\n",
            "1     21811\n",
            "Name: HeartDisease, dtype: int64\n",
            "\n",
            "After ADASYN :\n",
            " 1    221870\n",
            "0    219562\n",
            "Name: HeartDisease, dtype: int64\n",
            "\n",
            "\n",
            "\n",
            "befor oversampling :\n",
            " 0    219562\n",
            "1     21811\n",
            "Name: HeartDisease, dtype: int64\n",
            "\n",
            "After SMOTE :\n",
            " 0    219562\n",
            "1    219562\n",
            "Name: HeartDisease, dtype: int64\n",
            "\n",
            "\n",
            "\n",
            "befor oversampling :\n",
            " 0    219562\n",
            "1     21811\n",
            "Name: HeartDisease, dtype: int64\n",
            "\n",
            "After BoderlineSMOTE :\n",
            " 0    219562\n",
            "1    219562\n",
            "Name: HeartDisease, dtype: int64\n",
            "\n",
            "\n",
            "\n"
          ]
        }
      ],
      "source": [
        "#오버 샘플링 결과\n",
        "\n",
        "print('befor oversampling :\\n', y_train.value_counts())\n",
        "print('\\nAfter SMOTE :\\n', y_train_SMOTE.value_counts())\n",
        "print('\\n\\n')\n",
        "print('befor oversampling :\\n', y_train.value_counts())\n",
        "print('\\nAfter BoderlineSMOTE :\\n', y_train_BorderlineSM.value_counts())\n",
        "print('\\n\\n')\n",
        "print('befor oversampling :\\n', y_train.value_counts())\n",
        "print('\\nAfter ADASYN :\\n', y_train_ADASYN.value_counts())\n",
        "print('\\n\\n')\n",
        "\n"
      ]
    },
    {
      "cell_type": "code",
      "source": [
        "# 복합 샘플링 진행\n",
        "from imblearn.combine import *\n",
        "\n",
        "# SMOTETomek\n",
        "x_train_SMOTETomek, y_train_SMOTETomek =SMOTETomek(random_state=42).fit_resample(x_train, y_train)  \n",
        "\n",
        "#SMOTETENN\n",
        "x_train_SMOTEENN, y_train_SMOTEENN =SMOTEENN(random_state=42).fit_resample(x_train, y_train) \n",
        "\n"
      ],
      "metadata": {
        "id": "VZGnNUslb6lu"
      },
      "execution_count": null,
      "outputs": []
    },
    {
      "cell_type": "code",
      "source": [
        "#복합 샘플링 결과\n",
        "print('befor combinesampling :\\n', y_train.value_counts())\n",
        "print('\\nAfter SMOTETomek :\\n', y_train_SMOTETomek.value_counts())\n",
        "print('\\n\\n')\n",
        "print('befor combinesampling :\\n', y_train.value_counts())\n",
        "print('\\nAfter SMOTEENN :\\n', y_train_SMOTEENN.value_counts())\n",
        "\n"
      ],
      "metadata": {
        "colab": {
          "base_uri": "https://localhost:8080/"
        },
        "id": "dcZO2a5Pc8UF",
        "outputId": "ec2d0984-0ce5-4e86-af89-d356695904f7"
      },
      "execution_count": null,
      "outputs": [
        {
          "output_type": "stream",
          "name": "stdout",
          "text": [
            "befor combinesampling :\n",
            " 0    219562\n",
            "1     21811\n",
            "Name: HeartDisease, dtype: int64\n",
            "\n",
            "After SMOTETomek :\n",
            " 0    214515\n",
            "1    214515\n",
            "Name: HeartDisease, dtype: int64\n",
            "\n",
            "\n",
            "\n",
            "befor combinesampling :\n",
            " 0    219562\n",
            "1     21811\n",
            "Name: HeartDisease, dtype: int64\n",
            "\n",
            "After SMOTEENN :\n",
            " 1    189854\n",
            "0    161830\n",
            "Name: HeartDisease, dtype: int64\n"
          ]
        }
      ]
    },
    {
      "cell_type": "code",
      "source": [
        "#로지스틱 이용 샘플링 안한경우\n",
        "model = LogisticRegression()\n",
        "model.fit(x_train, y_train)\n",
        "y_pred = model.predict(x_test)\n",
        "\n",
        "acc = metrics.accuracy_score(y_test, y_pred)\n",
        "prec = metrics.precision_score(y_test, y_pred)\n",
        "rec = metrics.recall_score(y_test, y_pred)\n",
        "f1 = metrics.f1_score(y_test, y_pred)\n",
        "y_pred_proba = model.predict_proba(x_test)[::,1]\n",
        "fpr, tpr, _ = metrics.roc_curve(y_test, y_pred_proba)\n",
        "auc = metrics.roc_auc_score(y_test, y_pred_proba)\n",
        "\n",
        "# Display confusion matrix\n",
        "cm = metrics.confusion_matrix(y_test, y_pred)\n",
        "\n",
        "\n",
        "print(f\"Accuracy {acc}\")\n",
        "print(f\"Precision {prec}\")\n",
        "print(f\"Recall {rec}\")\n",
        "print(f\"F1 {f1}\")\n",
        "print(f\"AUC {auc}\")\n",
        "\n",
        "print(cm)\n",
        "\n",
        "sns.heatmap(cm, square=True, annot=True, fmt='d', cbar='False')\n",
        "plt.xlabel('predict label')\n",
        "plt.ylabel('true label')"
      ],
      "metadata": {
        "colab": {
          "base_uri": "https://localhost:8080/",
          "height": 426
        },
        "id": "ONEPZNxmc5H1",
        "outputId": "5334f666-917d-42bc-c42b-5a79f0f1e05a"
      },
      "execution_count": null,
      "outputs": [
        {
          "output_type": "stream",
          "name": "stdout",
          "text": [
            "Accuracy 0.9101650536921649\n",
            "Precision 0.5119341563786008\n",
            "Recall 0.11412844036697248\n",
            "F1 0.18664666166541635\n",
            "AUC 0.8281532648577425\n",
            "[[54301   593]\n",
            " [ 4828   622]]\n"
          ]
        },
        {
          "output_type": "execute_result",
          "data": {
            "text/plain": [
              "Text(83.40000000000006, 0.5, 'true label')"
            ]
          },
          "metadata": {},
          "execution_count": 29
        },
        {
          "output_type": "display_data",
          "data": {
            "text/plain": [
              "<Figure size 432x288 with 2 Axes>"
            ],
            "image/png": "[encoded data removed]"
          },
          "metadata": {
            "needs_background": "light"
          }
        }
      ]
    },
    {
      "cell_type": "code",
      "source": [
        "#로지스틱 이용 언더샘플링 CNN \n",
        "model = LogisticRegression()\n",
        "model.fit(x_train_CNN, y_train_CNN)\n",
        "y_pred = model.predict(x_test)\n",
        "\n",
        "acc = metrics.accuracy_score(y_test, y_pred)\n",
        "prec = metrics.precision_score(y_test, y_pred)\n",
        "rec = metrics.recall_score(y_test, y_pred)\n",
        "f1 = metrics.f1_score(y_test, y_pred)\n",
        "y_pred_proba = model.predict_proba(x_test)[::,1]\n",
        "fpr, tpr, _ = metrics.roc_curve(y_test, y_pred_proba)\n",
        "auc = metrics.roc_auc_score(y_test, y_pred_proba)\n",
        "\n",
        "# Display confusion matrix\n",
        "cm = metrics.confusion_matrix(y_test, y_pred)\n",
        "\n",
        "\n",
        "print(f\"Accuracy {acc}\")\n",
        "print(f\"Precision {prec}\")\n",
        "print(f\"Recall {rec}\")\n",
        "print(f\"F1 {f1}\")\n",
        "print(f\"AUC {auc}\")\n",
        "\n",
        "print(cm)\n",
        "\n",
        "sns.heatmap(cm, square=True, annot=True, fmt='d', cbar='False')\n",
        "plt.xlabel('predict label')\n",
        "plt.ylabel('true label')"
      ],
      "metadata": {
        "id": "sjHoLO9O4w1a"
      },
      "execution_count": null,
      "outputs": []
    },
    {
      "cell_type": "code",
      "source": [
        "#로지스틱 이용 언더샘플링 ENN \n",
        "model = LogisticRegression()\n",
        "model.fit(x_train_ENN, y_train_ENN)\n",
        "y_pred = model.predict(x_test)\n",
        "\n",
        "acc = metrics.accuracy_score(y_test, y_pred)\n",
        "prec = metrics.precision_score(y_test, y_pred)\n",
        "rec = metrics.recall_score(y_test, y_pred)\n",
        "f1 = metrics.f1_score(y_test, y_pred)\n",
        "y_pred_proba = model.predict_proba(x_test)[::,1]\n",
        "fpr, tpr, _ = metrics.roc_curve(y_test, y_pred_proba)\n",
        "auc = metrics.roc_auc_score(y_test, y_pred_proba)\n",
        "\n",
        "# Display confusion matrix\n",
        "cm = metrics.confusion_matrix(y_test, y_pred)\n",
        "\n",
        "\n",
        "print(f\"Accuracy {acc}\")\n",
        "print(f\"Precision {prec}\")\n",
        "print(f\"Recall {rec}\")\n",
        "print(f\"F1 {f1}\")\n",
        "print(f\"AUC {auc}\")\n",
        "\n",
        "print(cm)\n",
        "\n",
        "sns.heatmap(cm, square=True, annot=True, fmt='d', cbar='False')\n",
        "plt.xlabel('predict label')\n",
        "plt.ylabel('true label')"
      ],
      "metadata": {
        "colab": {
          "base_uri": "https://localhost:8080/",
          "height": 429
        },
        "id": "t_MqO9ZZ5BhS",
        "outputId": "3dbae02a-e50e-4c0e-e704-7f9aa82c8a1b"
      },
      "execution_count": null,
      "outputs": [
        {
          "output_type": "stream",
          "name": "stdout",
          "text": [
            "Accuracy 0.8718348137345884\n",
            "Precision 0.33870056497175144\n",
            "Recall 0.44\n",
            "F1 0.3827613727055068\n",
            "AUC 0.8289085954816005\n",
            "[[50212  4682]\n",
            " [ 3052  2398]]\n"
          ]
        },
        {
          "output_type": "execute_result",
          "data": {
            "text/plain": [
              "Text(83.40000000000006, 0.5, 'true label')"
            ]
          },
          "metadata": {},
          "execution_count": 10
        },
        {
          "output_type": "display_data",
          "data": {
            "text/plain": [
              "<Figure size 432x288 with 2 Axes>"
            ],
            "image/png": "[encoded data removed]"
          },
          "metadata": {
            "needs_background": "light"
          }
        }
      ]
    },
    {
      "cell_type": "code",
      "source": [
        "#로지스틱 이용 언더샘플링 Tomek's Link \n",
        "model = LogisticRegression()\n",
        "model.fit(x_train_Tomek, y_train_Tomek)\n",
        "y_pred = model.predict(x_test)\n",
        "\n",
        "acc = metrics.accuracy_score(y_test, y_pred)\n",
        "prec = metrics.precision_score(y_test, y_pred)\n",
        "rec = metrics.recall_score(y_test, y_pred)\n",
        "f1 = metrics.f1_score(y_test, y_pred)\n",
        "y_pred_proba = model.predict_proba(x_test)[::,1]\n",
        "fpr, tpr, _ = metrics.roc_curve(y_test, y_pred_proba)\n",
        "auc = metrics.roc_auc_score(y_test, y_pred_proba)\n",
        "\n",
        "# Display confusion matrix\n",
        "cm = metrics.confusion_matrix(y_test, y_pred)\n",
        "\n",
        "\n",
        "print(f\"Accuracy {acc}\")\n",
        "print(f\"Precision {prec}\")\n",
        "print(f\"Recall {rec}\")\n",
        "print(f\"F1 {f1}\")\n",
        "print(f\"AUC {auc}\")\n",
        "\n",
        "print(cm)\n",
        "\n",
        "sns.heatmap(cm, square=True, annot=True, fmt='d', cbar='False')\n",
        "plt.xlabel('predict label')\n",
        "plt.ylabel('true label')"
      ],
      "metadata": {
        "colab": {
          "base_uri": "https://localhost:8080/",
          "height": 426
        },
        "id": "B64gEVud5FhJ",
        "outputId": "6338cd55-8b52-410e-848c-3e9e9380cd85"
      },
      "execution_count": null,
      "outputs": [
        {
          "output_type": "stream",
          "name": "stdout",
          "text": [
            "Accuracy 0.9089553228158558\n",
            "Precision 0.4865030674846626\n",
            "Recall 0.14550458715596332\n",
            "F1 0.22401129943502826\n",
            "AUC 0.8276570591595546\n",
            "[[54057   837]\n",
            " [ 4657   793]]\n"
          ]
        },
        {
          "output_type": "execute_result",
          "data": {
            "text/plain": [
              "Text(83.40000000000006, 0.5, 'true label')"
            ]
          },
          "metadata": {},
          "execution_count": 29
        },
        {
          "output_type": "display_data",
          "data": {
            "text/plain": [
              "<Figure size 432x288 with 2 Axes>"
            ],
            "image/png": "[encoded data removed]"
          },
          "metadata": {
            "needs_background": "light"
          }
        }
      ]
    },
    {
      "cell_type": "code",
      "source": [
        "#로지스틱 이용 언더샘플링 OSS #recall 별로\n",
        "model = LogisticRegression()\n",
        "model.fit(x_train_OSS, y_train_OSS)\n",
        "y_pred = model.predict(x_test)\n",
        "\n",
        "acc = metrics.accuracy_score(y_test, y_pred)\n",
        "prec = metrics.precision_score(y_test, y_pred)\n",
        "rec = metrics.recall_score(y_test, y_pred)\n",
        "f1 = metrics.f1_score(y_test, y_pred)\n",
        "y_pred_proba = model.predict_proba(x_test)[::,1]\n",
        "fpr, tpr, _ = metrics.roc_curve(y_test, y_pred_proba)\n",
        "auc = metrics.roc_auc_score(y_test, y_pred_proba)\n",
        "\n",
        "# Display confusion matrix\n",
        "cm = metrics.confusion_matrix(y_test, y_pred)\n",
        "\n",
        "\n",
        "print(f\"Accuracy {acc}\")\n",
        "print(f\"Precision {prec}\")\n",
        "print(f\"Recall {rec}\")\n",
        "print(f\"F1 {f1}\")\n",
        "print(f\"AUC {auc}\")\n",
        "\n",
        "print(cm)\n",
        "\n",
        "sns.heatmap(cm, square=True, annot=True, fmt='d', cbar='False')\n",
        "plt.xlabel('predict label')\n",
        "plt.ylabel('true label')"
      ],
      "metadata": {
        "id": "aC3mw7yb5MKp",
        "colab": {
          "base_uri": "https://localhost:8080/",
          "height": 426
        },
        "outputId": "1a091f05-5e61-4216-f0a6-c35416e418c9"
      },
      "execution_count": null,
      "outputs": [
        {
          "output_type": "stream",
          "name": "stdout",
          "text": [
            "Accuracy 0.9087564629457775\n",
            "Precision 0.48333333333333334\n",
            "Recall 0.1489908256880734\n",
            "F1 0.22776998597475456\n",
            "AUC 0.8269079256334895\n",
            "[[54026   868]\n",
            " [ 4638   812]]\n"
          ]
        },
        {
          "output_type": "execute_result",
          "data": {
            "text/plain": [
              "Text(83.40000000000006, 0.5, 'true label')"
            ]
          },
          "metadata": {},
          "execution_count": 13
        },
        {
          "output_type": "display_data",
          "data": {
            "text/plain": [
              "<Figure size 432x288 with 2 Axes>"
            ],
            "image/png": "[encoded data removed]"
          },
          "metadata": {
            "needs_background": "light"
          }
        }
      ]
    },
    {
      "cell_type": "code",
      "source": [
        "#로지스틱 이용 언더샘플링 NCR #recall 별로\n",
        "model = LogisticRegression()\n",
        "model.fit(x_train_NCR, y_train_NCR)\n",
        "y_pred = model.predict(x_test)\n",
        "\n",
        "acc = metrics.accuracy_score(y_test, y_pred)\n",
        "prec = metrics.precision_score(y_test, y_pred)\n",
        "rec = metrics.recall_score(y_test, y_pred)\n",
        "f1 = metrics.f1_score(y_test, y_pred)\n",
        "y_pred_proba = model.predict_proba(x_test)[::,1]\n",
        "fpr, tpr, _ = metrics.roc_curve(y_test, y_pred_proba)\n",
        "auc = metrics.roc_auc_score(y_test, y_pred_proba)\n",
        "\n",
        "# Display confusion matrix\n",
        "cm = metrics.confusion_matrix(y_test, y_pred)\n",
        "\n",
        "\n",
        "print(f\"Accuracy {acc}\")\n",
        "print(f\"Precision {prec}\")\n",
        "print(f\"Recall {rec}\")\n",
        "print(f\"F1 {f1}\")\n",
        "print(f\"AUC {auc}\")\n",
        "\n",
        "print(cm)\n",
        "\n",
        "sns.heatmap(cm, square=True, annot=True, fmt='d', cbar='False')\n",
        "plt.xlabel('predict label')\n",
        "plt.ylabel('true label')"
      ],
      "metadata": {
        "colab": {
          "base_uri": "https://localhost:8080/",
          "height": 426
        },
        "id": "MuAJL1Dr_h4h",
        "outputId": "784ea956-190f-4d8d-b868-46bffcf724ab"
      },
      "execution_count": null,
      "outputs": [
        {
          "output_type": "stream",
          "name": "stdout",
          "text": [
            "Accuracy 0.8931791064563172\n",
            "Precision 0.38686960472512494\n",
            "Recall 0.3124770642201835\n",
            "F1 0.3457166057653268\n",
            "AUC 0.8274342444136707\n",
            "[[52195  2699]\n",
            " [ 3747  1703]]\n"
          ]
        },
        {
          "output_type": "execute_result",
          "data": {
            "text/plain": [
              "Text(83.40000000000006, 0.5, 'true label')"
            ]
          },
          "metadata": {},
          "execution_count": 23
        },
        {
          "output_type": "display_data",
          "data": {
            "text/plain": [
              "<Figure size 432x288 with 2 Axes>"
            ],
            "image/png": "[encoded data removed]"
          },
          "metadata": {
            "needs_background": "light"
          }
        }
      ]
    },
    {
      "cell_type": "code",
      "source": [
        "#로지스틱 이용 언더샘플링 NearMiss-1 #recall 매우큼 그러나 확실히 정보손실이 커보임 성능이 너무 별로\n",
        "model = LogisticRegression()\n",
        "model.fit(x_train_NearMiss, y_train_NearMiss)\n",
        "y_pred = model.predict(x_test)\n",
        "\n",
        "acc = metrics.accuracy_score(y_test, y_pred)\n",
        "prec = metrics.precision_score(y_test, y_pred)\n",
        "rec = metrics.recall_score(y_test, y_pred)\n",
        "f1 = metrics.f1_score(y_test, y_pred)\n",
        "y_pred_proba = model.predict_proba(x_test)[::,1]\n",
        "fpr, tpr, _ = metrics.roc_curve(y_test, y_pred_proba)\n",
        "auc = metrics.roc_auc_score(y_test, y_pred_proba)\n",
        "\n",
        "# Display confusion matrix\n",
        "cm = metrics.confusion_matrix(y_test, y_pred)\n",
        "\n",
        "\n",
        "print(f\"Accuracy {acc}\")\n",
        "print(f\"Precision {prec}\")\n",
        "print(f\"Recall {rec}\")\n",
        "print(f\"F1 {f1}\")\n",
        "print(f\"AUC {auc}\")\n",
        "\n",
        "print(cm)\n",
        "\n",
        "sns.heatmap(cm, square=True, annot=True, fmt='d', cbar='False')\n",
        "plt.xlabel('predict label')\n",
        "plt.ylabel('true label')"
      ],
      "metadata": {
        "id": "FPjMAk1e5T9j",
        "colab": {
          "base_uri": "https://localhost:8080/",
          "height": 426
        },
        "outputId": "ebcb1075-42e5-4f62-e3b7-8c7e50444b53"
      },
      "execution_count": null,
      "outputs": [
        {
          "output_type": "stream",
          "name": "stdout",
          "text": [
            "Accuracy 0.40580670820628395\n",
            "Precision 0.10921756117622866\n",
            "Recall 0.7796330275229357\n",
            "F1 0.19159489561257156\n",
            "AUC 0.654200355447346\n",
            "[[20239 34655]\n",
            " [ 1201  4249]]\n"
          ]
        },
        {
          "output_type": "execute_result",
          "data": {
            "text/plain": [
              "Text(83.40000000000006, 0.5, 'true label')"
            ]
          },
          "metadata": {},
          "execution_count": 17
        },
        {
          "output_type": "display_data",
          "data": {
            "text/plain": [
              "<Figure size 432x288 with 2 Axes>"
            ],
            "image/png": "[encoded data removed]"
          },
          "metadata": {
            "needs_background": "light"
          }
        }
      ]
    },
    {
      "cell_type": "code",
      "source": [
        "#로지스틱 이용 오버샘플링 ADASYN\n",
        "model = LogisticRegression()\n",
        "model.fit(x_train_ADASYN, y_train_ADASYN)\n",
        "y_pred = model.predict(x_test)\n",
        "\n",
        "acc = metrics.accuracy_score(y_test, y_pred)\n",
        "prec = metrics.precision_score(y_test, y_pred)\n",
        "rec = metrics.recall_score(y_test, y_pred)\n",
        "f1 = metrics.f1_score(y_test, y_pred)\n",
        "\n",
        "y_pred_proba = model.predict_proba(x_test)[::,1]\n",
        "fpr, tpr, _ = metrics.roc_curve(y_test, y_pred_proba)\n",
        "auc = metrics.roc_auc_score(y_test, y_pred_proba)\n",
        "\n",
        "# Display confusion matrix\n",
        "cm = metrics.confusion_matrix(y_test, y_pred)\n",
        "\n",
        "\n",
        "print(f\"Accuracy {acc}\")\n",
        "print(f\"Precision {prec}\")\n",
        "print(f\"Recall {rec}\")\n",
        "print(f\"F1 {f1}\")\n",
        "print(f\"AUC {auc}\")\n",
        "\n",
        "print(cm)\n",
        "\n",
        "sns.heatmap(cm, square=True, annot=True, fmt='d', cbar='False')\n",
        "plt.xlabel('predict label')\n",
        "plt.ylabel('true label')"
      ],
      "metadata": {
        "colab": {
          "base_uri": "https://localhost:8080/",
          "height": 426
        },
        "id": "O3YqBq0meDJq",
        "outputId": "6fa9f27d-a16d-4582-b88f-7a8b41ffbf69"
      },
      "execution_count": null,
      "outputs": [
        {
          "output_type": "stream",
          "name": "stdout",
          "text": [
            "Accuracy 0.7202538777674665\n",
            "Precision 0.20649103887433884\n",
            "Recall 0.7377981651376146\n",
            "F1 0.32267383541307226\n",
            "AUC 0.8000138749476473\n",
            "[[39442 15452]\n",
            " [ 1429  4021]]\n"
          ]
        },
        {
          "output_type": "execute_result",
          "data": {
            "text/plain": [
              "Text(83.40000000000006, 0.5, 'true label')"
            ]
          },
          "metadata": {},
          "execution_count": 22
        },
        {
          "output_type": "display_data",
          "data": {
            "text/plain": [
              "<Figure size 432x288 with 2 Axes>"
            ],
            "image/png": "[encoded data removed]"
          },
          "metadata": {
            "needs_background": "light"
          }
        }
      ]
    },
    {
      "cell_type": "code",
      "source": [
        "#로지스틱 이용 오버샘플링 SMOTE\n",
        "model = LogisticRegression()\n",
        "model.fit(x_train_SMOTE, y_train_SMOTE)\n",
        "y_pred = model.predict(x_test)\n",
        "\n",
        "acc = metrics.accuracy_score(y_test, y_pred)\n",
        "prec = metrics.precision_score(y_test, y_pred)\n",
        "rec = metrics.recall_score(y_test, y_pred)\n",
        "f1 = metrics.f1_score(y_test, y_pred)\n",
        "\n",
        "y_pred_proba = model.predict_proba(x_test)[::,1]\n",
        "fpr, tpr, _ = metrics.roc_curve(y_test, y_pred_proba)\n",
        "auc = metrics.roc_auc_score(y_test, y_pred_proba)\n",
        "\n",
        "# Display confusion matrix\n",
        "cm = metrics.confusion_matrix(y_test, y_pred)\n",
        "\n",
        "\n",
        "print(f\"Accuracy {acc}\")\n",
        "print(f\"Precision {prec}\")\n",
        "print(f\"Recall {rec}\")\n",
        "print(f\"F1 {f1}\")\n",
        "print(f\"AUC {auc}\")\n",
        "\n",
        "print(cm)\n",
        "\n",
        "sns.heatmap(cm, square=True, annot=True, fmt='d', cbar='False')\n",
        "plt.xlabel('predict label')\n",
        "plt.ylabel('true label')"
      ],
      "metadata": {
        "colab": {
          "base_uri": "https://localhost:8080/",
          "height": 427
        },
        "id": "rpHmaqj6fA-h",
        "outputId": "f402383e-4e3f-4e7c-e67a-2f7000e9ca1c"
      },
      "execution_count": null,
      "outputs": [
        {
          "output_type": "stream",
          "name": "stdout",
          "text": [
            "Accuracy 0.7397752883468116\n",
            "Precision 0.21765710194415377\n",
            "Recall 0.725137614678899\n",
            "F1 0.3348159444232643\n",
            "AUC 0.8078024068404728\n",
            "[[40689 14205]\n",
            " [ 1498  3952]]\n"
          ]
        },
        {
          "output_type": "execute_result",
          "data": {
            "text/plain": [
              "Text(83.40000000000006, 0.5, 'true label')"
            ]
          },
          "metadata": {},
          "execution_count": 23
        },
        {
          "output_type": "display_data",
          "data": {
            "text/plain": [
              "<Figure size 432x288 with 2 Axes>"
            ],
            "image/png": "[encoded data removed]"
          },
          "metadata": {
            "needs_background": "light"
          }
        }
      ]
    },
    {
      "cell_type": "code",
      "source": [
        "#로지스틱 이용 오버샘플링 BorderlineSMOTE\n",
        "model = LogisticRegression()\n",
        "model.fit(x_train_BorderlineSM, y_train_BorderlineSM)\n",
        "y_pred = model.predict(x_test)\n",
        "\n",
        "acc = metrics.accuracy_score(y_test, y_pred)\n",
        "prec = metrics.precision_score(y_test, y_pred)\n",
        "rec = metrics.recall_score(y_test, y_pred)\n",
        "f1 = metrics.f1_score(y_test, y_pred)\n",
        "\n",
        "y_pred_proba = model.predict_proba(x_test)[::,1]\n",
        "fpr, tpr, _ = metrics.roc_curve(y_test, y_pred_proba)\n",
        "auc = metrics.roc_auc_score(y_test, y_pred_proba)\n",
        "\n",
        "# Display confusion matrix\n",
        "cm = metrics.confusion_matrix(y_test, y_pred)\n",
        "\n",
        "\n",
        "print(f\"Accuracy {acc}\")\n",
        "print(f\"Precision {prec}\")\n",
        "print(f\"Recall {rec}\")\n",
        "print(f\"F1 {f1}\")\n",
        "print(f\"AUC {auc}\")\n",
        "\n",
        "print(cm)\n",
        "\n",
        "sns.heatmap(cm, square=True, annot=True, fmt='d', cbar='False')\n",
        "plt.xlabel('predict label')\n",
        "plt.ylabel('true label')"
      ],
      "metadata": {
        "colab": {
          "base_uri": "https://localhost:8080/",
          "height": 426
        },
        "id": "bvqAEwSGfLU-",
        "outputId": "ea3f6a6b-0287-4106-a490-7b2361b7a29a"
      },
      "execution_count": null,
      "outputs": [
        {
          "output_type": "stream",
          "name": "stdout",
          "text": [
            "Accuracy 0.7625944584382871\n",
            "Precision 0.2300814986011434\n",
            "Recall 0.6941284403669725\n",
            "F1 0.34560570071258906\n",
            "AUC 0.8110839740176481\n",
            "[[42235 12659]\n",
            " [ 1667  3783]]\n"
          ]
        },
        {
          "output_type": "execute_result",
          "data": {
            "text/plain": [
              "Text(83.40000000000006, 0.5, 'true label')"
            ]
          },
          "metadata": {},
          "execution_count": 24
        },
        {
          "output_type": "display_data",
          "data": {
            "text/plain": [
              "<Figure size 432x288 with 2 Axes>"
            ],
            "image/png": "[encoded data removed]"
          },
          "metadata": {
            "needs_background": "light"
          }
        }
      ]
    },
    {
      "cell_type": "code",
      "source": [
        "#로지스틱 이용 SMOTETomek\n",
        "model = LogisticRegression()\n",
        "model.fit(x_train_SMOTETomek, y_train_SMOTETomek)\n",
        "y_pred = model.predict(x_test)\n",
        "\n",
        "acc = metrics.accuracy_score(y_test, y_pred)\n",
        "prec = metrics.precision_score(y_test, y_pred)\n",
        "rec = metrics.recall_score(y_test, y_pred)\n",
        "f1 = metrics.f1_score(y_test, y_pred)\n",
        "\n",
        "y_pred_proba = model.predict_proba(x_test)[::,1]\n",
        "fpr, tpr, _ = metrics.roc_curve(y_test, y_pred_proba)\n",
        "auc = metrics.roc_auc_score(y_test, y_pred_proba)\n",
        "\n",
        "# Display confusion matrix\n",
        "cm = metrics.confusion_matrix(y_test, y_pred)\n",
        "\n",
        "\n",
        "print(f\"Accuracy {acc}\")\n",
        "print(f\"Precision {prec}\")\n",
        "print(f\"Recall {rec}\")\n",
        "print(f\"F1 {f1}\")\n",
        "print(f\"AUC {auc}\")\n",
        "\n",
        "print(cm)\n",
        "\n",
        "sns.heatmap(cm, square=True, annot=True, fmt='d', cbar='False')\n",
        "plt.xlabel('predict label')\n",
        "plt.ylabel('true label')"
      ],
      "metadata": {
        "colab": {
          "base_uri": "https://localhost:8080/",
          "height": 426
        },
        "id": "RWxHw8WSpRlA",
        "outputId": "7f914352-f309-4e54-ff09-64f67c9f5dde"
      },
      "execution_count": null,
      "outputs": [
        {
          "output_type": "stream",
          "name": "stdout",
          "text": [
            "Accuracy 0.7401067214636087\n",
            "Precision 0.21468800535325935\n",
            "Recall 0.7064220183486238\n",
            "F1 0.3292990634221443\n",
            "AUC 0.798363521622824\n",
            "[[40811 14083]\n",
            " [ 1600  3850]]\n"
          ]
        },
        {
          "output_type": "execute_result",
          "data": {
            "text/plain": [
              "Text(83.40000000000006, 0.5, 'true label')"
            ]
          },
          "metadata": {},
          "execution_count": 25
        },
        {
          "output_type": "display_data",
          "data": {
            "text/plain": [
              "<Figure size 432x288 with 2 Axes>"
            ],
            "image/png": "[encoded data removed]"
          },
          "metadata": {
            "needs_background": "light"
          }
        }
      ]
    },
    {
      "cell_type": "code",
      "source": [
        "#로지스틱 이용 SOMTEENN.\n",
        "model = LogisticRegression()\n",
        "model.fit(x_train_SMOTEENN, y_train_SMOTEENN)\n",
        "y_pred = model.predict(x_test)\n",
        "\n",
        "acc = metrics.accuracy_score(y_test, y_pred)\n",
        "prec = metrics.precision_score(y_test, y_pred)\n",
        "rec = metrics.recall_score(y_test, y_pred)\n",
        "f1 = metrics.f1_score(y_test, y_pred)\n",
        "\n",
        "y_pred_proba = model.predict_proba(x_test)[::,1]\n",
        "fpr, tpr, _ = metrics.roc_curve(y_test, y_pred_proba)\n",
        "auc = metrics.roc_auc_score(y_test, y_pred_proba)\n",
        "\n",
        "# Display confusion matrix\n",
        "cm = metrics.confusion_matrix(y_test, y_pred)\n",
        "\n",
        "\n",
        "print(f\"Accuracy {acc}\")\n",
        "print(f\"Precision {prec}\")\n",
        "print(f\"Recall {rec}\")\n",
        "print(f\"F1 {f1}\")\n",
        "print(f\"AUC {auc}\")\n",
        "\n",
        "print(cm)\n",
        "\n",
        "sns.heatmap(cm, square=True, annot=True, fmt='d', cbar='False')\n",
        "plt.xlabel('predict label')\n",
        "plt.ylabel('true label')"
      ],
      "metadata": {
        "colab": {
          "base_uri": "https://localhost:8080/",
          "height": 426
        },
        "id": "d_yOlMk7sgjB",
        "outputId": "479c6369-02ca-4615-962a-1f26ba9c165e"
      },
      "execution_count": null,
      "outputs": [
        {
          "output_type": "stream",
          "name": "stdout",
          "text": [
            "Accuracy 0.6953466790401697\n",
            "Precision 0.2013760620613225\n",
            "Recall 0.8001834862385321\n",
            "F1 0.3217737770235372\n",
            "AUC 0.8190358031141252\n",
            "[[37599 17295]\n",
            " [ 1089  4361]]\n"
          ]
        },
        {
          "output_type": "execute_result",
          "data": {
            "text/plain": [
              "Text(83.40000000000006, 0.5, 'true label')"
            ]
          },
          "metadata": {},
          "execution_count": 26
        },
        {
          "output_type": "display_data",
          "data": {
            "text/plain": [
              "<Figure size 432x288 with 2 Axes>"
            ],
            "image/png": "[encoded data removed]"
          },
          "metadata": {
            "needs_background": "light"
          }
        }
      ]
    },
    {
      "cell_type": "code",
      "source": [
        "#원본 데이터를 가지고 class-weight 이용 로지스틱\n",
        "model = LogisticRegression(class_weight='balanced')\n",
        "model.fit(x_train, y_train)\n",
        "y_pred = model.predict(x_test)\n",
        "\n",
        "acc = metrics.accuracy_score(y_test, y_pred)\n",
        "prec = metrics.precision_score(y_test, y_pred)\n",
        "rec = metrics.recall_score(y_test, y_pred)\n",
        "f1 = metrics.f1_score(y_test, y_pred)\n",
        "\n",
        "y_pred_proba = model.predict_proba(x_test)[::,1]\n",
        "fpr, tpr, _ = metrics.roc_curve(y_test, y_pred_proba)\n",
        "auc = metrics.roc_auc_score(y_test, y_pred_proba)\n",
        "\n",
        "# Display confusion matrix\n",
        "cm = metrics.confusion_matrix(y_test, y_pred)\n",
        "\n",
        "\n",
        "print(f\"Accuracy {acc}\")\n",
        "print(f\"Precision {prec}\")\n",
        "print(f\"Recall {rec}\")\n",
        "print(f\"F1 {f1}\")\n",
        "print(f\"AUC {auc}\")\n",
        "\n",
        "print(cm)\n",
        "\n",
        "sns.heatmap(cm, square=True, annot=True, fmt='d', cbar='False')\n",
        "plt.xlabel('predict label')\n",
        "plt.ylabel('true label')\n"
      ],
      "metadata": {
        "colab": {
          "base_uri": "https://localhost:8080/",
          "height": 427
        },
        "id": "tXUV7RicGJGl",
        "outputId": "37f17bd3-8ba5-42f3-f1e9-4f8dadfbd598"
      },
      "execution_count": null,
      "outputs": [
        {
          "output_type": "stream",
          "name": "stdout",
          "text": [
            "Accuracy 0.7432884793848601\n",
            "Precision 0.227191218823018\n",
            "Recall 0.7671559633027523\n",
            "F1 0.3505638703726995\n",
            "AUC 0.8299785006833854\n",
            "[[40672 14222]\n",
            " [ 1269  4181]]\n"
          ]
        },
        {
          "output_type": "execute_result",
          "data": {
            "text/plain": [
              "Text(83.40000000000006, 0.5, 'true label')"
            ]
          },
          "metadata": {},
          "execution_count": 24
        },
        {
          "output_type": "display_data",
          "data": {
            "text/plain": [
              "<Figure size 432x288 with 2 Axes>"
            ],
            "image/png": "[encoded data removed]"
          },
          "metadata": {
            "needs_background": "light"
          }
        }
      ]
    }
  ],
  "metadata": {
    "colab": {
      "name": "imbalance.ipynb",
      "provenance": [],
      "collapsed_sections": [],
      "authorship_tag": "ABX9TyMjzjHE59KTbgm3J/W+n4RX"
    },
    "kernelspec": {
      "display_name": "Python 3",
      "name": "python3"
    },
    "language_info": {
      "name": "python"
    }
  },
  "nbformat": 4,
  "nbformat_minor": 0
}