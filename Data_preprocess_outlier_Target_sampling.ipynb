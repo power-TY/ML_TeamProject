{
  "nbformat": 4,
  "nbformat_minor": 0,
  "metadata": {
    "colab": {
      "name": "Data_preprocess_outlier_Target_sampling.ipynb",
      "provenance": [],
      "collapsed_sections": [],
      "authorship_tag": "ABX9TyMb7maJ2C2CQ0PyVACy1pvb"
    },
    "kernelspec": {
      "name": "python3",
      "display_name": "Python 3"
    },
    "language_info": {
      "name": "python"
    },
    "accelerator": "GPU"
  },
  "cells": [
    {
      "cell_type": "code",
      "execution_count": 3,
      "metadata": {
        "colab": {
          "base_uri": "https://localhost:8080/"
        },
        "id": "XTOrwYJwBk9Q",
        "outputId": "66d37152-952d-491e-b351-61388c4dabf2"
      },
      "outputs": [
        {
          "output_type": "stream",
          "name": "stdout",
          "text": [
            "Looking in indexes: https://pypi.org/simple, https://us-python.pkg.dev/colab-wheels/public/simple/\n",
            "Collecting category_encoders\n",
            "  Downloading category_encoders-2.5.0-py2.py3-none-any.whl (69 kB)\n",
            "\u001b[K     |████████████████████████████████| 69 kB 5.7 MB/s \n",
            "\u001b[?25hRequirement already satisfied: scipy>=1.0.0 in /usr/local/lib/python3.7/dist-packages (from category_encoders) (1.4.1)\n",
            "Requirement already satisfied: pandas>=1.0.5 in /usr/local/lib/python3.7/dist-packages (from category_encoders) (1.3.5)\n",
            "Requirement already satisfied: patsy>=0.5.1 in /usr/local/lib/python3.7/dist-packages (from category_encoders) (0.5.2)\n",
            "Requirement already satisfied: scikit-learn>=0.20.0 in /usr/local/lib/python3.7/dist-packages (from category_encoders) (1.0.2)\n",
            "Requirement already satisfied: numpy>=1.14.0 in /usr/local/lib/python3.7/dist-packages (from category_encoders) (1.21.6)\n",
            "Requirement already satisfied: statsmodels>=0.9.0 in /usr/local/lib/python3.7/dist-packages (from category_encoders) (0.10.2)\n",
            "Requirement already satisfied: pytz>=2017.3 in /usr/local/lib/python3.7/dist-packages (from pandas>=1.0.5->category_encoders) (2022.1)\n",
            "Requirement already satisfied: python-dateutil>=2.7.3 in /usr/local/lib/python3.7/dist-packages (from pandas>=1.0.5->category_encoders) (2.8.2)\n",
            "Requirement already satisfied: six in /usr/local/lib/python3.7/dist-packages (from patsy>=0.5.1->category_encoders) (1.15.0)\n",
            "Requirement already satisfied: threadpoolctl>=2.0.0 in /usr/local/lib/python3.7/dist-packages (from scikit-learn>=0.20.0->category_encoders) (3.1.0)\n",
            "Requirement already satisfied: joblib>=0.11 in /usr/local/lib/python3.7/dist-packages (from scikit-learn>=0.20.0->category_encoders) (1.1.0)\n",
            "Installing collected packages: category-encoders\n",
            "Successfully installed category-encoders-2.5.0\n"
          ]
        }
      ],
      "source": [
        "!pip install category_encoders"
      ]
    },
    {
      "cell_type": "code",
      "source": [
        "from google.colab import drive\n",
        "drive.mount('/content/drive')"
      ],
      "metadata": {
        "colab": {
          "base_uri": "https://localhost:8080/"
        },
        "id": "u3i7Z7jlBv3R",
        "outputId": "a3f48c06-59b8-49ad-ad37-492ba643d438"
      },
      "execution_count": 4,
      "outputs": [
        {
          "output_type": "stream",
          "name": "stdout",
          "text": [
            "Mounted at /content/drive\n"
          ]
        }
      ]
    },
    {
      "cell_type": "code",
      "source": [
        "import numpy as np\n",
        "import pandas as pd\n",
        "import matplotlib.pyplot as plt\n",
        "import seaborn as sns\n",
        "#method : scaling, log transformation, cube Root normalization, Box-Cox transformation\n",
        "from scipy.stats import skew \n",
        "from scipy.stats import boxcox\n",
        "\n",
        "%matplotlib inline\n",
        "\n",
        "import warnings\n",
        "warnings.filterwarnings('ignore')"
      ],
      "metadata": {
        "id": "PwA4rQY_B0Ce"
      },
      "execution_count": 5,
      "outputs": []
    },
    {
      "cell_type": "code",
      "source": [
        "df = pd.read_csv('/content/drive/MyDrive/기계학습 팀플/heart_2020_cleaned.csv')\n",
        "df.shape"
      ],
      "metadata": {
        "colab": {
          "base_uri": "https://localhost:8080/"
        },
        "id": "i9mfrlwfB8AW",
        "outputId": "fb96258a-614f-4b7e-ee3a-ba73bb59bfdb"
      },
      "execution_count": 6,
      "outputs": [
        {
          "output_type": "execute_result",
          "data": {
            "text/plain": [
              "(319795, 18)"
            ]
          },
          "metadata": {},
          "execution_count": 6
        }
      ]
    },
    {
      "cell_type": "code",
      "source": [
        "df = df.drop_duplicates()\n",
        "df.shape"
      ],
      "metadata": {
        "colab": {
          "base_uri": "https://localhost:8080/"
        },
        "id": "UIG0FHxLB9a7",
        "outputId": "140e112d-2f43-47fb-df1c-388c413f3c17"
      },
      "execution_count": 7,
      "outputs": [
        {
          "output_type": "execute_result",
          "data": {
            "text/plain": [
              "(301717, 18)"
            ]
          },
          "metadata": {},
          "execution_count": 7
        }
      ]
    },
    {
      "cell_type": "code",
      "source": [
        "# noise 처리\n",
        "df = df[(df['BMI'] < 80) & (df['SleepTime'] != 24)]\n",
        "df.shape"
      ],
      "metadata": {
        "colab": {
          "base_uri": "https://localhost:8080/"
        },
        "id": "HPOlzFjQB-4r",
        "outputId": "520aafe0-5eda-4646-cf83-8953aeb27eab"
      },
      "execution_count": 8,
      "outputs": [
        {
          "output_type": "execute_result",
          "data": {
            "text/plain": [
              "(301653, 18)"
            ]
          },
          "metadata": {},
          "execution_count": 8
        }
      ]
    },
    {
      "cell_type": "code",
      "source": [
        "def yesno_tolabel(x):\n",
        "    if (x == 'Yes') | (x == 'Yes (during pregnancy)') :\n",
        "        return 1\n",
        "    else:\n",
        "        return 0"
      ],
      "metadata": {
        "id": "pZVpsRJPCAz2"
      },
      "execution_count": 9,
      "outputs": []
    },
    {
      "cell_type": "code",
      "source": [
        "sex_map = {'Female' : 0, 'Male' : 1}\n",
        "health_map = {'Excellent' : 4, 'Very good' : 3, 'Good' : 2, 'Fair' : 1, 'Poor' : 0}\n",
        "diabetic_map = {'Yes' : 2, 'Yes (during pregnancy)' : 2, 'No, borderline diabetes' : 1, 'No' : 0}\n",
        "age_map = {'18-24' : 20, '25-29' : 25, '30-34' : 30, '35-39' : 35, '40-44' : 40, '45-49' : 45, '50-54' : 50, '55-59' : 55, '60-64' : 60, '65-69' : 65, '70-74' : 70, '75-79' : 75, '80 or older' : 80}\n",
        "columns = ['HeartDisease', 'Smoking', 'AlcoholDrinking', 'Stroke', 'DiffWalking', 'PhysicalActivity', 'Asthma', 'KidneyDisease', 'SkinCancer']\n",
        "diabetic_map = {'Yes' : 2, 'Yes (during pregnancy)' : 2, 'No, borderline diabetes' : 1, 'No' : 0}\n",
        "for column in columns:\n",
        "    df[column] = df[column].apply(lambda x : yesno_tolabel(x))\n",
        "\n",
        "df['Sex'] = df['Sex'].map(sex_map)\n",
        "df['GenHealth'] = df['GenHealth'].map(health_map)\n",
        "df['Diabetic'] = df['Diabetic'].map(diabetic_map)\n",
        "df['AgeCategory'] = df['AgeCategory'].map(age_map)"
      ],
      "metadata": {
        "id": "-o2UMfITCAGy"
      },
      "execution_count": 10,
      "outputs": []
    },
    {
      "cell_type": "code",
      "source": [
        "df"
      ],
      "metadata": {
        "colab": {
          "base_uri": "https://localhost:8080/",
          "height": 424
        },
        "id": "UyVqp_jtCEJ1",
        "outputId": "e726dbf5-d9b0-4c06-aab5-937d067c790b"
      },
      "execution_count": 11,
      "outputs": [
        {
          "output_type": "execute_result",
          "data": {
            "text/plain": [
              "        HeartDisease    BMI  Smoking  AlcoholDrinking  Stroke  PhysicalHealth  \\\n",
              "0                  0  16.60        1                0       0             3.0   \n",
              "1                  0  20.34        0                0       1             0.0   \n",
              "2                  0  26.58        1                0       0            20.0   \n",
              "3                  0  24.21        0                0       0             0.0   \n",
              "4                  0  23.71        0                0       0            28.0   \n",
              "...              ...    ...      ...              ...     ...             ...   \n",
              "319790             1  27.41        1                0       0             7.0   \n",
              "319791             0  29.84        1                0       0             0.0   \n",
              "319792             0  24.24        0                0       0             0.0   \n",
              "319793             0  32.81        0                0       0             0.0   \n",
              "319794             0  46.56        0                0       0             0.0   \n",
              "\n",
              "        MentalHealth  DiffWalking  Sex  AgeCategory      Race  Diabetic  \\\n",
              "0               30.0            0    0           55     White         2   \n",
              "1                0.0            0    0           80     White         0   \n",
              "2               30.0            0    1           65     White         2   \n",
              "3                0.0            0    0           75     White         0   \n",
              "4                0.0            1    0           40     White         0   \n",
              "...              ...          ...  ...          ...       ...       ...   \n",
              "319790           0.0            1    1           60  Hispanic         2   \n",
              "319791           0.0            0    1           35  Hispanic         0   \n",
              "319792           0.0            0    0           45  Hispanic         0   \n",
              "319793           0.0            0    0           25  Hispanic         0   \n",
              "319794           0.0            0    0           80  Hispanic         0   \n",
              "\n",
              "        PhysicalActivity  GenHealth  SleepTime  Asthma  KidneyDisease  \\\n",
              "0                      1          3        5.0       1              0   \n",
              "1                      1          3        7.0       0              0   \n",
              "2                      1          1        8.0       1              0   \n",
              "3                      0          2        6.0       0              0   \n",
              "4                      1          3        8.0       0              0   \n",
              "...                  ...        ...        ...     ...            ...   \n",
              "319790                 0          1        6.0       1              0   \n",
              "319791                 1          3        5.0       1              0   \n",
              "319792                 1          2        6.0       0              0   \n",
              "319793                 0          2       12.0       0              0   \n",
              "319794                 1          2        8.0       0              0   \n",
              "\n",
              "        SkinCancer  \n",
              "0                1  \n",
              "1                0  \n",
              "2                0  \n",
              "3                1  \n",
              "4                0  \n",
              "...            ...  \n",
              "319790           0  \n",
              "319791           0  \n",
              "319792           0  \n",
              "319793           0  \n",
              "319794           0  \n",
              "\n",
              "[301653 rows x 18 columns]"
            ],
            "text/html": [
              "\n",
              "  <div id=\"df-0049614a-bb06-4ead-ada4-3c412d47b786\">\n",
              "    <div class=\"colab-df-container\">\n",
              "      <div>\n",
              "<style scoped>\n",
              "    .dataframe tbody tr th:only-of-type {\n",
              "        vertical-align: middle;\n",
              "    }\n",
              "\n",
              "    .dataframe tbody tr th {\n",
              "        vertical-align: top;\n",
              "    }\n",
              "\n",
              "    .dataframe thead th {\n",
              "        text-align: right;\n",
              "    }\n",
              "</style>\n",
              "<table border=\"1\" class=\"dataframe\">\n",
              "  <thead>\n",
              "    <tr style=\"text-align: right;\">\n",
              "      <th></th>\n",
              "      <th>HeartDisease</th>\n",
              "      <th>BMI</th>\n",
              "      <th>Smoking</th>\n",
              "      <th>AlcoholDrinking</th>\n",
              "      <th>Stroke</th>\n",
              "      <th>PhysicalHealth</th>\n",
              "      <th>MentalHealth</th>\n",
              "      <th>DiffWalking</th>\n",
              "      <th>Sex</th>\n",
              "      <th>AgeCategory</th>\n",
              "      <th>Race</th>\n",
              "      <th>Diabetic</th>\n",
              "      <th>PhysicalActivity</th>\n",
              "      <th>GenHealth</th>\n",
              "      <th>SleepTime</th>\n",
              "      <th>Asthma</th>\n",
              "      <th>KidneyDisease</th>\n",
              "      <th>SkinCancer</th>\n",
              "    </tr>\n",
              "  </thead>\n",
              "  <tbody>\n",
              "    <tr>\n",
              "      <th>0</th>\n",
              "      <td>0</td>\n",
              "      <td>16.60</td>\n",
              "      <td>1</td>\n",
              "      <td>0</td>\n",
              "      <td>0</td>\n",
              "      <td>3.0</td>\n",
              "      <td>30.0</td>\n",
              "      <td>0</td>\n",
              "      <td>0</td>\n",
              "      <td>55</td>\n",
              "      <td>White</td>\n",
              "      <td>2</td>\n",
              "      <td>1</td>\n",
              "      <td>3</td>\n",
              "      <td>5.0</td>\n",
              "      <td>1</td>\n",
              "      <td>0</td>\n",
              "      <td>1</td>\n",
              "    </tr>\n",
              "    <tr>\n",
              "      <th>1</th>\n",
              "      <td>0</td>\n",
              "      <td>20.34</td>\n",
              "      <td>0</td>\n",
              "      <td>0</td>\n",
              "      <td>1</td>\n",
              "      <td>0.0</td>\n",
              "      <td>0.0</td>\n",
              "      <td>0</td>\n",
              "      <td>0</td>\n",
              "      <td>80</td>\n",
              "      <td>White</td>\n",
              "      <td>0</td>\n",
              "      <td>1</td>\n",
              "      <td>3</td>\n",
              "      <td>7.0</td>\n",
              "      <td>0</td>\n",
              "      <td>0</td>\n",
              "      <td>0</td>\n",
              "    </tr>\n",
              "    <tr>\n",
              "      <th>2</th>\n",
              "      <td>0</td>\n",
              "      <td>26.58</td>\n",
              "      <td>1</td>\n",
              "      <td>0</td>\n",
              "      <td>0</td>\n",
              "      <td>20.0</td>\n",
              "      <td>30.0</td>\n",
              "      <td>0</td>\n",
              "      <td>1</td>\n",
              "      <td>65</td>\n",
              "      <td>White</td>\n",
              "      <td>2</td>\n",
              "      <td>1</td>\n",
              "      <td>1</td>\n",
              "      <td>8.0</td>\n",
              "      <td>1</td>\n",
              "      <td>0</td>\n",
              "      <td>0</td>\n",
              "    </tr>\n",
              "    <tr>\n",
              "      <th>3</th>\n",
              "      <td>0</td>\n",
              "      <td>24.21</td>\n",
              "      <td>0</td>\n",
              "      <td>0</td>\n",
              "      <td>0</td>\n",
              "      <td>0.0</td>\n",
              "      <td>0.0</td>\n",
              "      <td>0</td>\n",
              "      <td>0</td>\n",
              "      <td>75</td>\n",
              "      <td>White</td>\n",
              "      <td>0</td>\n",
              "      <td>0</td>\n",
              "      <td>2</td>\n",
              "      <td>6.0</td>\n",
              "      <td>0</td>\n",
              "      <td>0</td>\n",
              "      <td>1</td>\n",
              "    </tr>\n",
              "    <tr>\n",
              "      <th>4</th>\n",
              "      <td>0</td>\n",
              "      <td>23.71</td>\n",
              "      <td>0</td>\n",
              "      <td>0</td>\n",
              "      <td>0</td>\n",
              "      <td>28.0</td>\n",
              "      <td>0.0</td>\n",
              "      <td>1</td>\n",
              "      <td>0</td>\n",
              "      <td>40</td>\n",
              "      <td>White</td>\n",
              "      <td>0</td>\n",
              "      <td>1</td>\n",
              "      <td>3</td>\n",
              "      <td>8.0</td>\n",
              "      <td>0</td>\n",
              "      <td>0</td>\n",
              "      <td>0</td>\n",
              "    </tr>\n",
              "    <tr>\n",
              "      <th>...</th>\n",
              "      <td>...</td>\n",
              "      <td>...</td>\n",
              "      <td>...</td>\n",
              "      <td>...</td>\n",
              "      <td>...</td>\n",
              "      <td>...</td>\n",
              "      <td>...</td>\n",
              "      <td>...</td>\n",
              "      <td>...</td>\n",
              "      <td>...</td>\n",
              "      <td>...</td>\n",
              "      <td>...</td>\n",
              "      <td>...</td>\n",
              "      <td>...</td>\n",
              "      <td>...</td>\n",
              "      <td>...</td>\n",
              "      <td>...</td>\n",
              "      <td>...</td>\n",
              "    </tr>\n",
              "    <tr>\n",
              "      <th>319790</th>\n",
              "      <td>1</td>\n",
              "      <td>27.41</td>\n",
              "      <td>1</td>\n",
              "      <td>0</td>\n",
              "      <td>0</td>\n",
              "      <td>7.0</td>\n",
              "      <td>0.0</td>\n",
              "      <td>1</td>\n",
              "      <td>1</td>\n",
              "      <td>60</td>\n",
              "      <td>Hispanic</td>\n",
              "      <td>2</td>\n",
              "      <td>0</td>\n",
              "      <td>1</td>\n",
              "      <td>6.0</td>\n",
              "      <td>1</td>\n",
              "      <td>0</td>\n",
              "      <td>0</td>\n",
              "    </tr>\n",
              "    <tr>\n",
              "      <th>319791</th>\n",
              "      <td>0</td>\n",
              "      <td>29.84</td>\n",
              "      <td>1</td>\n",
              "      <td>0</td>\n",
              "      <td>0</td>\n",
              "      <td>0.0</td>\n",
              "      <td>0.0</td>\n",
              "      <td>0</td>\n",
              "      <td>1</td>\n",
              "      <td>35</td>\n",
              "      <td>Hispanic</td>\n",
              "      <td>0</td>\n",
              "      <td>1</td>\n",
              "      <td>3</td>\n",
              "      <td>5.0</td>\n",
              "      <td>1</td>\n",
              "      <td>0</td>\n",
              "      <td>0</td>\n",
              "    </tr>\n",
              "    <tr>\n",
              "      <th>319792</th>\n",
              "      <td>0</td>\n",
              "      <td>24.24</td>\n",
              "      <td>0</td>\n",
              "      <td>0</td>\n",
              "      <td>0</td>\n",
              "      <td>0.0</td>\n",
              "      <td>0.0</td>\n",
              "      <td>0</td>\n",
              "      <td>0</td>\n",
              "      <td>45</td>\n",
              "      <td>Hispanic</td>\n",
              "      <td>0</td>\n",
              "      <td>1</td>\n",
              "      <td>2</td>\n",
              "      <td>6.0</td>\n",
              "      <td>0</td>\n",
              "      <td>0</td>\n",
              "      <td>0</td>\n",
              "    </tr>\n",
              "    <tr>\n",
              "      <th>319793</th>\n",
              "      <td>0</td>\n",
              "      <td>32.81</td>\n",
              "      <td>0</td>\n",
              "      <td>0</td>\n",
              "      <td>0</td>\n",
              "      <td>0.0</td>\n",
              "      <td>0.0</td>\n",
              "      <td>0</td>\n",
              "      <td>0</td>\n",
              "      <td>25</td>\n",
              "      <td>Hispanic</td>\n",
              "      <td>0</td>\n",
              "      <td>0</td>\n",
              "      <td>2</td>\n",
              "      <td>12.0</td>\n",
              "      <td>0</td>\n",
              "      <td>0</td>\n",
              "      <td>0</td>\n",
              "    </tr>\n",
              "    <tr>\n",
              "      <th>319794</th>\n",
              "      <td>0</td>\n",
              "      <td>46.56</td>\n",
              "      <td>0</td>\n",
              "      <td>0</td>\n",
              "      <td>0</td>\n",
              "      <td>0.0</td>\n",
              "      <td>0.0</td>\n",
              "      <td>0</td>\n",
              "      <td>0</td>\n",
              "      <td>80</td>\n",
              "      <td>Hispanic</td>\n",
              "      <td>0</td>\n",
              "      <td>1</td>\n",
              "      <td>2</td>\n",
              "      <td>8.0</td>\n",
              "      <td>0</td>\n",
              "      <td>0</td>\n",
              "      <td>0</td>\n",
              "    </tr>\n",
              "  </tbody>\n",
              "</table>\n",
              "<p>301653 rows × 18 columns</p>\n",
              "</div>\n",
              "      <button class=\"colab-df-convert\" onclick=\"convertToInteractive('df-0049614a-bb06-4ead-ada4-3c412d47b786')\"\n",
              "              title=\"Convert this dataframe to an interactive table.\"\n",
              "              style=\"display:none;\">\n",
              "        \n",
              "  <svg xmlns=\"http://www.w3.org/2000/svg\" height=\"24px\"viewBox=\"0 0 24 24\"\n",
              "       width=\"24px\">\n",
              "    <path d=\"M0 0h24v24H0V0z\" fill=\"none\"/>\n",
              "    <path d=\"M18.56 5.44l.94 2.06.94-2.06 2.06-.94-2.06-.94-.94-2.06-.94 2.06-2.06.94zm-11 1L8.5 8.5l.94-2.06 2.06-.94-2.06-.94L8.5 2.5l-.94 2.06-2.06.94zm10 10l.94 2.06.94-2.06 2.06-.94-2.06-.94-.94-2.06-.94 2.06-2.06.94z\"/><path d=\"M17.41 7.96l-1.37-1.37c-.4-.4-.92-.59-1.43-.59-.52 0-1.04.2-1.43.59L10.3 9.45l-7.72 7.72c-.78.78-.78 2.05 0 2.83L4 21.41c.39.39.9.59 1.41.59.51 0 1.02-.2 1.41-.59l7.78-7.78 2.81-2.81c.8-.78.8-2.07 0-2.86zM5.41 20L4 18.59l7.72-7.72 1.47 1.35L5.41 20z\"/>\n",
              "  </svg>\n",
              "      </button>\n",
              "      \n",
              "  <style>\n",
              "    .colab-df-container {\n",
              "      display:flex;\n",
              "      flex-wrap:wrap;\n",
              "      gap: 12px;\n",
              "    }\n",
              "\n",
              "    .colab-df-convert {\n",
              "      background-color: #E8F0FE;\n",
              "      border: none;\n",
              "      border-radius: 50%;\n",
              "      cursor: pointer;\n",
              "      display: none;\n",
              "      fill: #1967D2;\n",
              "      height: 32px;\n",
              "      padding: 0 0 0 0;\n",
              "      width: 32px;\n",
              "    }\n",
              "\n",
              "    .colab-df-convert:hover {\n",
              "      background-color: #E2EBFA;\n",
              "      box-shadow: 0px 1px 2px rgba(60, 64, 67, 0.3), 0px 1px 3px 1px rgba(60, 64, 67, 0.15);\n",
              "      fill: #174EA6;\n",
              "    }\n",
              "\n",
              "    [theme=dark] .colab-df-convert {\n",
              "      background-color: #3B4455;\n",
              "      fill: #D2E3FC;\n",
              "    }\n",
              "\n",
              "    [theme=dark] .colab-df-convert:hover {\n",
              "      background-color: #434B5C;\n",
              "      box-shadow: 0px 1px 3px 1px rgba(0, 0, 0, 0.15);\n",
              "      filter: drop-shadow(0px 1px 2px rgba(0, 0, 0, 0.3));\n",
              "      fill: #FFFFFF;\n",
              "    }\n",
              "  </style>\n",
              "\n",
              "      <script>\n",
              "        const buttonEl =\n",
              "          document.querySelector('#df-0049614a-bb06-4ead-ada4-3c412d47b786 button.colab-df-convert');\n",
              "        buttonEl.style.display =\n",
              "          google.colab.kernel.accessAllowed ? 'block' : 'none';\n",
              "\n",
              "        async function convertToInteractive(key) {\n",
              "          const element = document.querySelector('#df-0049614a-bb06-4ead-ada4-3c412d47b786');\n",
              "          const dataTable =\n",
              "            await google.colab.kernel.invokeFunction('convertToInteractive',\n",
              "                                                     [key], {});\n",
              "          if (!dataTable) return;\n",
              "\n",
              "          const docLinkHtml = 'Like what you see? Visit the ' +\n",
              "            '<a target=\"_blank\" href=https://colab.research.google.com/notebooks/data_table.ipynb>data table notebook</a>'\n",
              "            + ' to learn more about interactive tables.';\n",
              "          element.innerHTML = '';\n",
              "          dataTable['output_type'] = 'display_data';\n",
              "          await google.colab.output.renderOutput(dataTable, element);\n",
              "          const docLink = document.createElement('div');\n",
              "          docLink.innerHTML = docLinkHtml;\n",
              "          element.appendChild(docLink);\n",
              "        }\n",
              "      </script>\n",
              "    </div>\n",
              "  </div>\n",
              "  "
            ]
          },
          "metadata": {},
          "execution_count": 11
        }
      ]
    },
    {
      "cell_type": "code",
      "source": [
        "def quantile_operation(outlier_df, column):\n",
        "    quantile_1 = outlier_df[column].quantile(0.25)\n",
        "    quantile_3 = outlier_df[column].quantile(0.75)\n",
        "    iqr = quantile_3 - quantile_1\n",
        "    Lower_tail = quantile_1 - 1.5 * iqr\n",
        "    Upper_tail = quantile_3 + 1.5 * iqr\n",
        "\n",
        "    return Lower_tail, Upper_tail"
      ],
      "metadata": {
        "id": "bbjSms-SCGBN"
      },
      "execution_count": 12,
      "outputs": []
    },
    {
      "cell_type": "code",
      "source": [
        "\n",
        "df['PhysicalHealth'] = df['PhysicalHealth'] + 1\n",
        "df['MentalHealth'] = df['MentalHealth'] + 1\n",
        "outlier_columns = ['BMI', 'PhysicalHealth', 'MentalHealth', 'SleepTime']\n",
        "for column in outlier_columns:\n",
        "    Lower_tail, Upper_tail = quantile_operation(df, column)\n",
        "    df[column] = boxcox(df[column])[0]"
      ],
      "metadata": {
        "id": "cMSZYB95CKeg"
      },
      "execution_count": 13,
      "outputs": []
    },
    {
      "cell_type": "code",
      "source": [
        "#Race 인코딩 - target encoding\n",
        "categories = df['Race'].unique()\n",
        "targets = df['HeartDisease'].unique()\n",
        "cat_list = []\n",
        "\n",
        "for cat in categories:\n",
        "    aux_dict = {}\n",
        "    aux_dict['category'] = cat\n",
        "    aux_df = df[df['Race'] == cat]\n",
        "    counts = aux_df['HeartDisease'].value_counts()\n",
        "    aux_dict['count'] = sum(counts)\n",
        "    for t in targets:\n",
        "        aux_dict['Race_' + str(t)] = counts[t]\n",
        "    cat_list.append(aux_dict)\n",
        "\n",
        "cat_list = pd.DataFrame(cat_list)\n",
        "cat_list['genre_encoded_dumb'] = cat_list['Race_1'] / cat_list['count']\n",
        "\n",
        "target_dict = {'White' : cat_list['genre_encoded_dumb'][0], 'Black' : cat_list['genre_encoded_dumb'][1], 'Asian' : cat_list['genre_encoded_dumb'][2], 'American Indian/Alaskan Native' : cat_list['genre_encoded_dumb'][3],\n",
        "               'Other' : cat_list['genre_encoded_dumb'][4], 'Hispanic' : cat_list['genre_encoded_dumb'][5]}\n",
        "df['Race_encoder'] = df['Race'].map(target_dict)\n",
        "\n",
        "df.drop(['Race'], axis = 1, inplace = True)"
      ],
      "metadata": {
        "id": "3oYUzroKCLl0"
      },
      "execution_count": 14,
      "outputs": []
    },
    {
      "cell_type": "code",
      "source": [
        "df"
      ],
      "metadata": {
        "colab": {
          "base_uri": "https://localhost:8080/",
          "height": 468
        },
        "id": "HKKu6uZ7CQNu",
        "outputId": "45ba3ce2-a1fc-406b-915f-19c670a07ad1"
      },
      "execution_count": 15,
      "outputs": [
        {
          "output_type": "execute_result",
          "data": {
            "text/plain": [
              "        HeartDisease       BMI  Smoking  AlcoholDrinking  Stroke  \\\n",
              "0                  0  1.403407        1                0       0   \n",
              "1                  0  1.442302        0                0       1   \n",
              "2                  0  1.487128        1                0       0   \n",
              "3                  0  1.472250        0                0       0   \n",
              "4                  0  1.468816        0                0       0   \n",
              "...              ...       ...      ...              ...     ...   \n",
              "319790             1  1.491857        1                0       0   \n",
              "319791             0  1.504497        1                0       0   \n",
              "319792             0  1.472452        0                0       0   \n",
              "319793             0  1.517915        0                0       0   \n",
              "319794             0  1.561599        0                0       0   \n",
              "\n",
              "        PhysicalHealth  MentalHealth  DiffWalking  Sex  AgeCategory  Diabetic  \\\n",
              "0             0.669364      1.089487            0    0           55         2   \n",
              "1             0.000000      0.000000            0    0           80         0   \n",
              "2             0.801003      1.089487            0    1           65         2   \n",
              "3             0.000000      0.000000            0    0           75         0   \n",
              "4             0.807551      0.000000            1    0           40         0   \n",
              "...                ...           ...          ...  ...          ...       ...   \n",
              "319790        0.755892      0.000000            1    1           60         2   \n",
              "319791        0.000000      0.000000            0    1           35         0   \n",
              "319792        0.000000      0.000000            0    0           45         0   \n",
              "319793        0.000000      0.000000            0    0           25         0   \n",
              "319794        0.000000      0.000000            0    0           80         0   \n",
              "\n",
              "        PhysicalActivity  GenHealth  SleepTime  Asthma  KidneyDisease  \\\n",
              "0                      1          3   3.488639       1              0   \n",
              "1                      1          3   5.054525       0              0   \n",
              "2                      1          1   5.813435       1              0   \n",
              "3                      0          2   4.280563       0              0   \n",
              "4                      1          3   5.813435       0              0   \n",
              "...                  ...        ...        ...     ...            ...   \n",
              "319790                 0          1   4.280563       1              0   \n",
              "319791                 1          3   3.488639       1              0   \n",
              "319792                 1          2   4.280563       0              0   \n",
              "319793                 0          2   8.734516       0              0   \n",
              "319794                 1          2   5.813435       0              0   \n",
              "\n",
              "        SkinCancer  Race_encoder  \n",
              "0                1      0.098340  \n",
              "1                0      0.098340  \n",
              "2                0      0.098340  \n",
              "3                1      0.098340  \n",
              "4                0      0.098340  \n",
              "...            ...           ...  \n",
              "319790           0      0.053253  \n",
              "319791           0      0.053253  \n",
              "319792           0      0.053253  \n",
              "319793           0      0.053253  \n",
              "319794           0      0.053253  \n",
              "\n",
              "[301653 rows x 18 columns]"
            ],
            "text/html": [
              "\n",
              "  <div id=\"df-a3322b89-6c5a-4b9b-8598-fedf028559d4\">\n",
              "    <div class=\"colab-df-container\">\n",
              "      <div>\n",
              "<style scoped>\n",
              "    .dataframe tbody tr th:only-of-type {\n",
              "        vertical-align: middle;\n",
              "    }\n",
              "\n",
              "    .dataframe tbody tr th {\n",
              "        vertical-align: top;\n",
              "    }\n",
              "\n",
              "    .dataframe thead th {\n",
              "        text-align: right;\n",
              "    }\n",
              "</style>\n",
              "<table border=\"1\" class=\"dataframe\">\n",
              "  <thead>\n",
              "    <tr style=\"text-align: right;\">\n",
              "      <th></th>\n",
              "      <th>HeartDisease</th>\n",
              "      <th>BMI</th>\n",
              "      <th>Smoking</th>\n",
              "      <th>AlcoholDrinking</th>\n",
              "      <th>Stroke</th>\n",
              "      <th>PhysicalHealth</th>\n",
              "      <th>MentalHealth</th>\n",
              "      <th>DiffWalking</th>\n",
              "      <th>Sex</th>\n",
              "      <th>AgeCategory</th>\n",
              "      <th>Diabetic</th>\n",
              "      <th>PhysicalActivity</th>\n",
              "      <th>GenHealth</th>\n",
              "      <th>SleepTime</th>\n",
              "      <th>Asthma</th>\n",
              "      <th>KidneyDisease</th>\n",
              "      <th>SkinCancer</th>\n",
              "      <th>Race_encoder</th>\n",
              "    </tr>\n",
              "  </thead>\n",
              "  <tbody>\n",
              "    <tr>\n",
              "      <th>0</th>\n",
              "      <td>0</td>\n",
              "      <td>1.403407</td>\n",
              "      <td>1</td>\n",
              "      <td>0</td>\n",
              "      <td>0</td>\n",
              "      <td>0.669364</td>\n",
              "      <td>1.089487</td>\n",
              "      <td>0</td>\n",
              "      <td>0</td>\n",
              "      <td>55</td>\n",
              "      <td>2</td>\n",
              "      <td>1</td>\n",
              "      <td>3</td>\n",
              "      <td>3.488639</td>\n",
              "      <td>1</td>\n",
              "      <td>0</td>\n",
              "      <td>1</td>\n",
              "      <td>0.098340</td>\n",
              "    </tr>\n",
              "    <tr>\n",
              "      <th>1</th>\n",
              "      <td>0</td>\n",
              "      <td>1.442302</td>\n",
              "      <td>0</td>\n",
              "      <td>0</td>\n",
              "      <td>1</td>\n",
              "      <td>0.000000</td>\n",
              "      <td>0.000000</td>\n",
              "      <td>0</td>\n",
              "      <td>0</td>\n",
              "      <td>80</td>\n",
              "      <td>0</td>\n",
              "      <td>1</td>\n",
              "      <td>3</td>\n",
              "      <td>5.054525</td>\n",
              "      <td>0</td>\n",
              "      <td>0</td>\n",
              "      <td>0</td>\n",
              "      <td>0.098340</td>\n",
              "    </tr>\n",
              "    <tr>\n",
              "      <th>2</th>\n",
              "      <td>0</td>\n",
              "      <td>1.487128</td>\n",
              "      <td>1</td>\n",
              "      <td>0</td>\n",
              "      <td>0</td>\n",
              "      <td>0.801003</td>\n",
              "      <td>1.089487</td>\n",
              "      <td>0</td>\n",
              "      <td>1</td>\n",
              "      <td>65</td>\n",
              "      <td>2</td>\n",
              "      <td>1</td>\n",
              "      <td>1</td>\n",
              "      <td>5.813435</td>\n",
              "      <td>1</td>\n",
              "      <td>0</td>\n",
              "      <td>0</td>\n",
              "      <td>0.098340</td>\n",
              "    </tr>\n",
              "    <tr>\n",
              "      <th>3</th>\n",
              "      <td>0</td>\n",
              "      <td>1.472250</td>\n",
              "      <td>0</td>\n",
              "      <td>0</td>\n",
              "      <td>0</td>\n",
              "      <td>0.000000</td>\n",
              "      <td>0.000000</td>\n",
              "      <td>0</td>\n",
              "      <td>0</td>\n",
              "      <td>75</td>\n",
              "      <td>0</td>\n",
              "      <td>0</td>\n",
              "      <td>2</td>\n",
              "      <td>4.280563</td>\n",
              "      <td>0</td>\n",
              "      <td>0</td>\n",
              "      <td>1</td>\n",
              "      <td>0.098340</td>\n",
              "    </tr>\n",
              "    <tr>\n",
              "      <th>4</th>\n",
              "      <td>0</td>\n",
              "      <td>1.468816</td>\n",
              "      <td>0</td>\n",
              "      <td>0</td>\n",
              "      <td>0</td>\n",
              "      <td>0.807551</td>\n",
              "      <td>0.000000</td>\n",
              "      <td>1</td>\n",
              "      <td>0</td>\n",
              "      <td>40</td>\n",
              "      <td>0</td>\n",
              "      <td>1</td>\n",
              "      <td>3</td>\n",
              "      <td>5.813435</td>\n",
              "      <td>0</td>\n",
              "      <td>0</td>\n",
              "      <td>0</td>\n",
              "      <td>0.098340</td>\n",
              "    </tr>\n",
              "    <tr>\n",
              "      <th>...</th>\n",
              "      <td>...</td>\n",
              "      <td>...</td>\n",
              "      <td>...</td>\n",
              "      <td>...</td>\n",
              "      <td>...</td>\n",
              "      <td>...</td>\n",
              "      <td>...</td>\n",
              "      <td>...</td>\n",
              "      <td>...</td>\n",
              "      <td>...</td>\n",
              "      <td>...</td>\n",
              "      <td>...</td>\n",
              "      <td>...</td>\n",
              "      <td>...</td>\n",
              "      <td>...</td>\n",
              "      <td>...</td>\n",
              "      <td>...</td>\n",
              "      <td>...</td>\n",
              "    </tr>\n",
              "    <tr>\n",
              "      <th>319790</th>\n",
              "      <td>1</td>\n",
              "      <td>1.491857</td>\n",
              "      <td>1</td>\n",
              "      <td>0</td>\n",
              "      <td>0</td>\n",
              "      <td>0.755892</td>\n",
              "      <td>0.000000</td>\n",
              "      <td>1</td>\n",
              "      <td>1</td>\n",
              "      <td>60</td>\n",
              "      <td>2</td>\n",
              "      <td>0</td>\n",
              "      <td>1</td>\n",
              "      <td>4.280563</td>\n",
              "      <td>1</td>\n",
              "      <td>0</td>\n",
              "      <td>0</td>\n",
              "      <td>0.053253</td>\n",
              "    </tr>\n",
              "    <tr>\n",
              "      <th>319791</th>\n",
              "      <td>0</td>\n",
              "      <td>1.504497</td>\n",
              "      <td>1</td>\n",
              "      <td>0</td>\n",
              "      <td>0</td>\n",
              "      <td>0.000000</td>\n",
              "      <td>0.000000</td>\n",
              "      <td>0</td>\n",
              "      <td>1</td>\n",
              "      <td>35</td>\n",
              "      <td>0</td>\n",
              "      <td>1</td>\n",
              "      <td>3</td>\n",
              "      <td>3.488639</td>\n",
              "      <td>1</td>\n",
              "      <td>0</td>\n",
              "      <td>0</td>\n",
              "      <td>0.053253</td>\n",
              "    </tr>\n",
              "    <tr>\n",
              "      <th>319792</th>\n",
              "      <td>0</td>\n",
              "      <td>1.472452</td>\n",
              "      <td>0</td>\n",
              "      <td>0</td>\n",
              "      <td>0</td>\n",
              "      <td>0.000000</td>\n",
              "      <td>0.000000</td>\n",
              "      <td>0</td>\n",
              "      <td>0</td>\n",
              "      <td>45</td>\n",
              "      <td>0</td>\n",
              "      <td>1</td>\n",
              "      <td>2</td>\n",
              "      <td>4.280563</td>\n",
              "      <td>0</td>\n",
              "      <td>0</td>\n",
              "      <td>0</td>\n",
              "      <td>0.053253</td>\n",
              "    </tr>\n",
              "    <tr>\n",
              "      <th>319793</th>\n",
              "      <td>0</td>\n",
              "      <td>1.517915</td>\n",
              "      <td>0</td>\n",
              "      <td>0</td>\n",
              "      <td>0</td>\n",
              "      <td>0.000000</td>\n",
              "      <td>0.000000</td>\n",
              "      <td>0</td>\n",
              "      <td>0</td>\n",
              "      <td>25</td>\n",
              "      <td>0</td>\n",
              "      <td>0</td>\n",
              "      <td>2</td>\n",
              "      <td>8.734516</td>\n",
              "      <td>0</td>\n",
              "      <td>0</td>\n",
              "      <td>0</td>\n",
              "      <td>0.053253</td>\n",
              "    </tr>\n",
              "    <tr>\n",
              "      <th>319794</th>\n",
              "      <td>0</td>\n",
              "      <td>1.561599</td>\n",
              "      <td>0</td>\n",
              "      <td>0</td>\n",
              "      <td>0</td>\n",
              "      <td>0.000000</td>\n",
              "      <td>0.000000</td>\n",
              "      <td>0</td>\n",
              "      <td>0</td>\n",
              "      <td>80</td>\n",
              "      <td>0</td>\n",
              "      <td>1</td>\n",
              "      <td>2</td>\n",
              "      <td>5.813435</td>\n",
              "      <td>0</td>\n",
              "      <td>0</td>\n",
              "      <td>0</td>\n",
              "      <td>0.053253</td>\n",
              "    </tr>\n",
              "  </tbody>\n",
              "</table>\n",
              "<p>301653 rows × 18 columns</p>\n",
              "</div>\n",
              "      <button class=\"colab-df-convert\" onclick=\"convertToInteractive('df-a3322b89-6c5a-4b9b-8598-fedf028559d4')\"\n",
              "              title=\"Convert this dataframe to an interactive table.\"\n",
              "              style=\"display:none;\">\n",
              "        \n",
              "  <svg xmlns=\"http://www.w3.org/2000/svg\" height=\"24px\"viewBox=\"0 0 24 24\"\n",
              "       width=\"24px\">\n",
              "    <path d=\"M0 0h24v24H0V0z\" fill=\"none\"/>\n",
              "    <path d=\"M18.56 5.44l.94 2.06.94-2.06 2.06-.94-2.06-.94-.94-2.06-.94 2.06-2.06.94zm-11 1L8.5 8.5l.94-2.06 2.06-.94-2.06-.94L8.5 2.5l-.94 2.06-2.06.94zm10 10l.94 2.06.94-2.06 2.06-.94-2.06-.94-.94-2.06-.94 2.06-2.06.94z\"/><path d=\"M17.41 7.96l-1.37-1.37c-.4-.4-.92-.59-1.43-.59-.52 0-1.04.2-1.43.59L10.3 9.45l-7.72 7.72c-.78.78-.78 2.05 0 2.83L4 21.41c.39.39.9.59 1.41.59.51 0 1.02-.2 1.41-.59l7.78-7.78 2.81-2.81c.8-.78.8-2.07 0-2.86zM5.41 20L4 18.59l7.72-7.72 1.47 1.35L5.41 20z\"/>\n",
              "  </svg>\n",
              "      </button>\n",
              "      \n",
              "  <style>\n",
              "    .colab-df-container {\n",
              "      display:flex;\n",
              "      flex-wrap:wrap;\n",
              "      gap: 12px;\n",
              "    }\n",
              "\n",
              "    .colab-df-convert {\n",
              "      background-color: #E8F0FE;\n",
              "      border: none;\n",
              "      border-radius: 50%;\n",
              "      cursor: pointer;\n",
              "      display: none;\n",
              "      fill: #1967D2;\n",
              "      height: 32px;\n",
              "      padding: 0 0 0 0;\n",
              "      width: 32px;\n",
              "    }\n",
              "\n",
              "    .colab-df-convert:hover {\n",
              "      background-color: #E2EBFA;\n",
              "      box-shadow: 0px 1px 2px rgba(60, 64, 67, 0.3), 0px 1px 3px 1px rgba(60, 64, 67, 0.15);\n",
              "      fill: #174EA6;\n",
              "    }\n",
              "\n",
              "    [theme=dark] .colab-df-convert {\n",
              "      background-color: #3B4455;\n",
              "      fill: #D2E3FC;\n",
              "    }\n",
              "\n",
              "    [theme=dark] .colab-df-convert:hover {\n",
              "      background-color: #434B5C;\n",
              "      box-shadow: 0px 1px 3px 1px rgba(0, 0, 0, 0.15);\n",
              "      filter: drop-shadow(0px 1px 2px rgba(0, 0, 0, 0.3));\n",
              "      fill: #FFFFFF;\n",
              "    }\n",
              "  </style>\n",
              "\n",
              "      <script>\n",
              "        const buttonEl =\n",
              "          document.querySelector('#df-a3322b89-6c5a-4b9b-8598-fedf028559d4 button.colab-df-convert');\n",
              "        buttonEl.style.display =\n",
              "          google.colab.kernel.accessAllowed ? 'block' : 'none';\n",
              "\n",
              "        async function convertToInteractive(key) {\n",
              "          const element = document.querySelector('#df-a3322b89-6c5a-4b9b-8598-fedf028559d4');\n",
              "          const dataTable =\n",
              "            await google.colab.kernel.invokeFunction('convertToInteractive',\n",
              "                                                     [key], {});\n",
              "          if (!dataTable) return;\n",
              "\n",
              "          const docLinkHtml = 'Like what you see? Visit the ' +\n",
              "            '<a target=\"_blank\" href=https://colab.research.google.com/notebooks/data_table.ipynb>data table notebook</a>'\n",
              "            + ' to learn more about interactive tables.';\n",
              "          element.innerHTML = '';\n",
              "          dataTable['output_type'] = 'display_data';\n",
              "          await google.colab.output.renderOutput(dataTable, element);\n",
              "          const docLink = document.createElement('div');\n",
              "          docLink.innerHTML = docLinkHtml;\n",
              "          element.appendChild(docLink);\n",
              "        }\n",
              "      </script>\n",
              "    </div>\n",
              "  </div>\n",
              "  "
            ]
          },
          "metadata": {},
          "execution_count": 15
        }
      ]
    },
    {
      "cell_type": "code",
      "source": [
        "# x y분리\n",
        "x=df.drop('HeartDisease', axis=1)\n",
        "x_columns=x.columns\n",
        "y=df['HeartDisease']"
      ],
      "metadata": {
        "id": "_p0qgYCECSdo"
      },
      "execution_count": 16,
      "outputs": []
    },
    {
      "cell_type": "code",
      "source": [
        "# train test 분리\n",
        "from sklearn.model_selection import train_test_split\n",
        "x_train, x_test, y_train, y_test = train_test_split(x, y, test_size =0.2,random_state = 42)"
      ],
      "metadata": {
        "id": "zDuipA-OCYxq"
      },
      "execution_count": 17,
      "outputs": []
    },
    {
      "cell_type": "code",
      "source": [
        "# 데이터 불균형 처리 전 상태\n",
        "\n",
        "print('origin target data :\\n', df['HeartDisease'].value_counts())\n"
      ],
      "metadata": {
        "colab": {
          "base_uri": "https://localhost:8080/"
        },
        "id": "3pc4xkEVCaPd",
        "outputId": "6b293045-8864-4e00-9b9b-00f8a35cf04d"
      },
      "execution_count": 18,
      "outputs": [
        {
          "output_type": "stream",
          "name": "stdout",
          "text": [
            "origin target data :\n",
            " 0    274401\n",
            "1     27252\n",
            "Name: HeartDisease, dtype: int64\n"
          ]
        }
      ]
    },
    {
      "cell_type": "code",
      "source": [
        "# 언더 샘플링 처리 <- 코드만 남겨둘게요\n",
        "from imblearn.under_sampling import *\n",
        "\n",
        "#CNN\n",
        "#x_train_CNN, y_train_CNN =CondensedNearestNeighbour(random_state=42).fit_resample(x_train, y_train) \n",
        "\n",
        "#ENN\n",
        "#x_train_ENN, y_train_ENN =EditedNearestNeighbours(kind_sel=\"all\", n_neighbors=5).fit_resample(x_train, y_train) \n",
        "\n",
        "#Tomek's link\n",
        "#x_train_Tomek, y_train_Tomek =TomekLinks().fit_resample(x_train, y_train) \n",
        "\n",
        "#OSS\n",
        "#x_train_OSS, y_train_OSS =OneSidedSelection(random_state=42).fit_resample(x_train, y_train) \n",
        "\n",
        "#NCR\n",
        "#x_train_NCR, y_train_NCR =NeighbourhoodCleaningRule().fit_resample(x_train, y_train) \n",
        "\n",
        "\n",
        "#NearMiss-1\n",
        "#x_train_NearMiss, y_train_NearMiss=NearMiss().fit_resample(x_train, y_train) "
      ],
      "metadata": {
        "id": "5ME1Ir5FCbiN"
      },
      "execution_count": null,
      "outputs": []
    },
    {
      "cell_type": "code",
      "source": [
        "# # 언더 샘플링 결과 보기\n",
        "\n",
        "# print('befor undersampling :\\n', y_train.value_counts())\n",
        "# print('\\nAfter CNN :\\n', y_train_CNN.value_counts())\n",
        "# print('\\n\\n')\n",
        "\n",
        "# print('befor undersampling :\\n', y_train.value_counts()) #효과 미미 0=164205, 1=21811\n",
        "# print('\\nAfter ENN :\\n', y_train_ENN.value_counts())\n",
        "# print('\\n\\n')\n",
        "\n",
        "# print('befor undersampling :\\n', y_train.value_counts())  \n",
        "# print('\\nAfter TomekLink :\\n', y_train_Tomek.value_counts())\n",
        "# print('\\n\\n')\n",
        "\n",
        "# print('befor undersampling :\\n', y_train.value_counts()) #효과 미미 0=212240, 1=21811\n",
        "# print('\\nAfter OSS :\\n', y_train_OSS.value_counts())\n",
        "# print('\\n\\n')\n",
        "\n",
        "# print('befor undersampling :\\n', y_train.value_counts()) # 0=179268, 1=21811\n",
        "# print('\\nAfter NCR :\\n', y_train_NCR.value_counts())\n",
        "# print('\\n\\n')\n",
        "\n",
        "# print('befor undersampling :\\n', y_train.value_counts()) # 1대1 언더샘플링 너무 많은 손실?? 0,1=21811\n",
        "# print('\\nAfter NearMiss :\\n', y_train_NearMiss.value_counts())\n",
        "# print('\\n\\n')"
      ],
      "metadata": {
        "id": "SGA3y0iBCdLz"
      },
      "execution_count": null,
      "outputs": []
    },
    {
      "cell_type": "code",
      "source": [
        "##오버샘플링 처리\n",
        "from imblearn.over_sampling import *\n",
        "\n",
        "#SMOTE\n",
        "x_train_SMOTE, y_train_SMOTE =SMOTE(random_state=42).fit_resample(x_train, y_train)\n",
        "\n",
        "#BorderlineSMOTE\n",
        "x_train_BorderlineSM, y_train_BorderlineSM =BorderlineSMOTE(random_state=42).fit_resample(x_train, y_train)\n",
        "\n",
        "#SVMSMOTE\n",
        "x_train_SVMSMOTE, y_train_SVMSMOTE =SVMSMOTE(random_state=42).fit_resample(x_train, y_train) \n",
        "\n",
        "#ADASYN\n",
        "x_train_ADASYN, y_train_ADASYN =ADASYN(random_state=42).fit_resample(x_train, y_train) "
      ],
      "metadata": {
        "id": "HUp2NtFMCe3J"
      },
      "execution_count": 19,
      "outputs": []
    },
    {
      "cell_type": "code",
      "source": [
        "#오버 샘플링 결과\n",
        "\n",
        "print('befor oversampling :\\n', y_train.value_counts())\n",
        "print('\\nAfter SMOTE :\\n', y_train_SMOTE.value_counts())\n",
        "print('\\n\\n')\n",
        "print('befor oversampling :\\n', y_train.value_counts())\n",
        "print('\\nAfter BoderlineSMOTE :\\n', y_train_BorderlineSM.value_counts())\n",
        "print('\\n\\n')\n",
        "print('befor oversampling :\\n', y_train.value_counts())\n",
        "print('\\nAfter SVMSMOTE :\\n', y_train_SVMSMOTE.value_counts())\n",
        "print('\\n\\n')\n",
        "print('befor oversampling :\\n', y_train.value_counts())\n",
        "print('\\nAfter ADASYN :\\n', y_train_ADASYN.value_counts())\n",
        "print('\\n\\n')"
      ],
      "metadata": {
        "id": "LFmLncfyCi8z",
        "colab": {
          "base_uri": "https://localhost:8080/"
        },
        "outputId": "f8a9f0ec-6a80-4b68-b344-cd1a56a52e87"
      },
      "execution_count": 20,
      "outputs": [
        {
          "output_type": "stream",
          "name": "stdout",
          "text": [
            "befor oversampling :\n",
            " 0    219556\n",
            "1     21766\n",
            "Name: HeartDisease, dtype: int64\n",
            "\n",
            "After SMOTE :\n",
            " 1    219556\n",
            "0    219556\n",
            "Name: HeartDisease, dtype: int64\n",
            "\n",
            "\n",
            "\n",
            "befor oversampling :\n",
            " 0    219556\n",
            "1     21766\n",
            "Name: HeartDisease, dtype: int64\n",
            "\n",
            "After BoderlineSMOTE :\n",
            " 1    219556\n",
            "0    219556\n",
            "Name: HeartDisease, dtype: int64\n",
            "\n",
            "\n",
            "\n",
            "befor oversampling :\n",
            " 0    219556\n",
            "1     21766\n",
            "Name: HeartDisease, dtype: int64\n",
            "\n",
            "After SVMSMOTE :\n",
            " 1    219556\n",
            "0    219556\n",
            "Name: HeartDisease, dtype: int64\n",
            "\n",
            "\n",
            "\n",
            "befor oversampling :\n",
            " 0    219556\n",
            "1     21766\n",
            "Name: HeartDisease, dtype: int64\n",
            "\n",
            "After ADASYN :\n",
            " 1    219556\n",
            "0    219556\n",
            "Name: HeartDisease, dtype: int64\n",
            "\n",
            "\n",
            "\n"
          ]
        }
      ]
    },
    {
      "cell_type": "code",
      "source": [
        ""
      ],
      "metadata": {
        "id": "NINga5GdG8l0"
      },
      "execution_count": null,
      "outputs": []
    },
    {
      "cell_type": "code",
      "source": [
        "# 복합 샘플링 진행 \n",
        "from imblearn.combine import *\n",
        "\n",
        "## SMOTETomek <- 얘는 사용한다는 말이 없었어서 일단 주석처리 하겠습니다.\n",
        "#x_train_SMOTETomek, y_train_SMOTETomek =SMOTETomek(random_state=42).fit_resample(x_train, y_train)  \n",
        "\n",
        "#SMOTETENN\n",
        "x_train_SMOTEENN, y_train_SMOTEENN =SMOTEENN(random_state=42).fit_resample(x_train, y_train) "
      ],
      "metadata": {
        "id": "JfTqrOtHClV9"
      },
      "execution_count": 17,
      "outputs": []
    },
    {
      "cell_type": "code",
      "source": [
        "#복합 샘플링 결과\n",
        "# print('befor combinesampling :\\n', y_train.value_counts())\n",
        "# print('\\nAfter SMOTETomek :\\n', y_train_SMOTETomek.value_counts())\n",
        "# print('\\n\\n')\n",
        "print('befor combinesampling :\\n', y_train.value_counts())\n",
        "print('\\nAfter SMOTEENN :\\n', y_train_SMOTEENN.value_counts())"
      ],
      "metadata": {
        "id": "QxKwhwdxCsnG",
        "colab": {
          "base_uri": "https://localhost:8080/"
        },
        "outputId": "2515ab67-cce3-403f-c23e-7f9a4899398b"
      },
      "execution_count": 22,
      "outputs": [
        {
          "output_type": "stream",
          "name": "stdout",
          "text": [
            "befor combinesampling :\n",
            " 0    219556\n",
            "1     21766\n",
            "Name: HeartDisease, dtype: int64\n",
            "\n",
            "After SMOTEENN :\n",
            " 1    169878\n",
            "0    163892\n",
            "Name: HeartDisease, dtype: int64\n"
          ]
        }
      ]
    },
    {
      "cell_type": "code",
      "source": [
        "#로지스틱 이용 샘플링 안한경우\n",
        "from sklearn.linear_model import LogisticRegression\n",
        "from sklearn import metrics\n",
        "\n",
        "model = LogisticRegression()\n",
        "model.fit(x_train, y_train)\n",
        "y_pred = model.predict(x_test)\n",
        "\n",
        "acc = metrics.accuracy_score(y_test, y_pred)\n",
        "prec = metrics.precision_score(y_test, y_pred)\n",
        "rec = metrics.recall_score(y_test, y_pred)\n",
        "f1 = metrics.f1_score(y_test, y_pred)\n",
        "y_pred_proba = model.predict_proba(x_test)[::,1]\n",
        "fpr, tpr, _ = metrics.roc_curve(y_test, y_pred_proba)\n",
        "auc = metrics.roc_auc_score(y_test, y_pred_proba)\n",
        "\n",
        "# Display confusion matrix\n",
        "cm = metrics.confusion_matrix(y_test, y_pred)\n",
        "\n",
        "\n",
        "print(f\"Accuracy {acc}\")\n",
        "print(f\"Precision {prec}\")\n",
        "print(f\"Recall {rec}\")\n",
        "print(f\"F1 {f1}\")\n",
        "print(f\"AUC {auc}\")\n",
        "\n",
        "print(cm)\n",
        "\n",
        "plt.figure(figsize=(10,5))\n",
        "plt.subplot(1, 2, 1)\n",
        "plt.title('ROC curve')\n",
        "plt.plot(fpr, tpr)\n",
        "plt.xlabel('FPR')\n",
        "plt.ylabel('TPR')\n",
        "\n",
        "\n",
        "plt.subplot(1,2,2)\n",
        "plt.title('Confusion Matrix')\n",
        "sns.heatmap(cm, square=True, annot=True, fmt='d', cbar='False')\n",
        "plt.xlabel('predict label')\n",
        "plt.ylabel('true label')\n",
        "plt.show()"
      ],
      "metadata": {
        "id": "5mJPRykCRrJj",
        "colab": {
          "base_uri": "https://localhost:8080/",
          "height": 479
        },
        "outputId": "5f973dda-8df8-471d-9584-172f5ad938df"
      },
      "execution_count": 25,
      "outputs": [
        {
          "output_type": "stream",
          "name": "stdout",
          "text": [
            "Accuracy 0.9105600769090517\n",
            "Precision 0.5411334552102377\n",
            "Recall 0.1079110462996719\n",
            "F1 0.17993920972644378\n",
            "AUC 0.8359670013597129\n",
            "[[54343   502]\n",
            " [ 4894   592]]\n"
          ]
        },
        {
          "output_type": "display_data",
          "data": {
            "text/plain": [
              "<Figure size 720x360 with 3 Axes>"
            ],
            "image/png": "[encoded data removed]"
          },
          "metadata": {
            "needs_background": "light"
          }
        }
      ]
    },
    {
      "cell_type": "code",
      "source": [
        "#SMOTE\n",
        "from sklearn.linear_model import LogisticRegression\n",
        "from sklearn import metrics\n",
        "\n",
        "model = LogisticRegression()\n",
        "model.fit(x_train_SMOTE, y_train_SMOTE)\n",
        "y_pred = model.predict(x_test)\n",
        "\n",
        "acc = metrics.accuracy_score(y_test, y_pred)\n",
        "prec = metrics.precision_score(y_test, y_pred)\n",
        "rec = metrics.recall_score(y_test, y_pred)\n",
        "f1 = metrics.f1_score(y_test, y_pred)\n",
        "y_pred_proba = model.predict_proba(x_test)[::,1]\n",
        "fpr, tpr, _ = metrics.roc_curve(y_test, y_pred_proba)\n",
        "auc = metrics.roc_auc_score(y_test, y_pred_proba)\n",
        "\n",
        "# Display confusion matrix\n",
        "cm = metrics.confusion_matrix(y_test, y_pred)\n",
        "\n",
        "\n",
        "print(f\"Accuracy {acc}\")\n",
        "print(f\"Precision {prec}\")\n",
        "print(f\"Recall {rec}\")\n",
        "print(f\"F1 {f1}\")\n",
        "print(f\"AUC {auc}\")\n",
        "\n",
        "print(cm)\n",
        "\n",
        "plt.figure(figsize=(10,5))\n",
        "plt.subplot(1, 2, 1)\n",
        "plt.title('SMOTE_ROC curve')\n",
        "plt.plot(fpr, tpr)\n",
        "plt.xlabel('FPR')\n",
        "plt.ylabel('TPR')\n",
        "\n",
        "\n",
        "plt.subplot(1,2,2)\n",
        "plt.title('Confusion Matrix')\n",
        "sns.heatmap(cm, square=True, annot=True, fmt='d', cbar='False')\n",
        "plt.xlabel('predict label')\n",
        "plt.ylabel('true label')\n",
        "plt.show()"
      ],
      "metadata": {
        "id": "do5rtyc6Sljk",
        "colab": {
          "base_uri": "https://localhost:8080/",
          "height": 479
        },
        "outputId": "13fdfe40-30b3-45ee-9715-40744697c0e3"
      },
      "execution_count": 26,
      "outputs": [
        {
          "output_type": "stream",
          "name": "stdout",
          "text": [
            "Accuracy 0.7314150271004956\n",
            "Precision 0.22062350119904076\n",
            "Recall 0.7714181553044113\n",
            "F1 0.3431165882925247\n",
            "AUC 0.8235395249536135\n",
            "[[39895 14950]\n",
            " [ 1254  4232]]\n"
          ]
        },
        {
          "output_type": "display_data",
          "data": {
            "text/plain": [
              "<Figure size 720x360 with 3 Axes>"
            ],
            "image/png": "[encoded data removed]"
          },
          "metadata": {
            "needs_background": "light"
          }
        }
      ]
    },
    {
      "cell_type": "code",
      "source": [
        "#BorderlineSMote\n",
        "from sklearn.linear_model import LogisticRegression\n",
        "from sklearn import metrics\n",
        "\n",
        "model = LogisticRegression()\n",
        "model.fit(x_train_BorderlineSM, y_train_BorderlineSM)\n",
        "y_pred = model.predict(x_test)\n",
        "\n",
        "acc = metrics.accuracy_score(y_test, y_pred)\n",
        "prec = metrics.precision_score(y_test, y_pred)\n",
        "rec = metrics.recall_score(y_test, y_pred)\n",
        "f1 = metrics.f1_score(y_test, y_pred)\n",
        "y_pred_proba = model.predict_proba(x_test)[::,1]\n",
        "fpr, tpr, _ = metrics.roc_curve(y_test, y_pred_proba)\n",
        "auc = metrics.roc_auc_score(y_test, y_pred_proba)\n",
        "\n",
        "# Display confusion matrix\n",
        "cm = metrics.confusion_matrix(y_test, y_pred)\n",
        "\n",
        "\n",
        "print(f\"Accuracy {acc}\")\n",
        "print(f\"Precision {prec}\")\n",
        "print(f\"Recall {rec}\")\n",
        "print(f\"F1 {f1}\")\n",
        "print(f\"AUC {auc}\")\n",
        "\n",
        "print(cm)\n",
        "\n",
        "plt.figure(figsize=(10,5))\n",
        "plt.subplot(1, 2, 1)\n",
        "plt.title('BorderlineSM_ROC curve')\n",
        "plt.plot(fpr, tpr)\n",
        "plt.xlabel('FPR')\n",
        "plt.ylabel('TPR')\n",
        "\n",
        "\n",
        "plt.subplot(1,2,2)\n",
        "plt.title('Confusion Matrix')\n",
        "sns.heatmap(cm, square=True, annot=True, fmt='d', cbar='False')\n",
        "plt.xlabel('predict label')\n",
        "plt.ylabel('true label')\n",
        "plt.show()"
      ],
      "metadata": {
        "id": "MDDX0gpASrzN",
        "colab": {
          "base_uri": "https://localhost:8080/",
          "height": 479
        },
        "outputId": "cadfe0eb-dcbc-43ae-a0ba-8360cc10d66d"
      },
      "execution_count": 27,
      "outputs": [
        {
          "output_type": "stream",
          "name": "stdout",
          "text": [
            "Accuracy 0.7582503190731134\n",
            "Precision 0.2352016762702986\n",
            "Recall 0.7366022602989427\n",
            "F1 0.3565535800944104\n",
            "AUC 0.8276596870104251\n",
            "[[41705 13140]\n",
            " [ 1445  4041]]\n"
          ]
        },
        {
          "output_type": "display_data",
          "data": {
            "text/plain": [
              "<Figure size 720x360 with 3 Axes>"
            ],
            "image/png": "[encoded data removed]"
          },
          "metadata": {
            "needs_background": "light"
          }
        }
      ]
    },
    {
      "cell_type": "code",
      "source": [
        "#SVMSMote\n",
        "from sklearn.linear_model import LogisticRegression\n",
        "from sklearn import metrics\n",
        "\n",
        "model = LogisticRegression()\n",
        "model.fit(x_train_SVMSMOTE, y_train_SVMSMOTE)\n",
        "y_pred = model.predict(x_test)\n",
        "\n",
        "acc = metrics.accuracy_score(y_test, y_pred)\n",
        "prec = metrics.precision_score(y_test, y_pred)\n",
        "rec = metrics.recall_score(y_test, y_pred)\n",
        "f1 = metrics.f1_score(y_test, y_pred)\n",
        "y_pred_proba = model.predict_proba(x_test)[::,1]\n",
        "fpr, tpr, _ = metrics.roc_curve(y_test, y_pred_proba)\n",
        "auc = metrics.roc_auc_score(y_test, y_pred_proba)\n",
        "\n",
        "# Display confusion matrix\n",
        "cm = metrics.confusion_matrix(y_test, y_pred)\n",
        "\n",
        "\n",
        "print(f\"Accuracy {acc}\")\n",
        "print(f\"Precision {prec}\")\n",
        "print(f\"Recall {rec}\")\n",
        "print(f\"F1 {f1}\")\n",
        "print(f\"AUC {auc}\")\n",
        "\n",
        "print(cm)\n",
        "\n",
        "plt.figure(figsize=(10,5))\n",
        "plt.subplot(1, 2, 1)\n",
        "plt.title('SVMSMOTE_ROC curve')\n",
        "plt.plot(fpr, tpr)\n",
        "plt.xlabel('FPR')\n",
        "plt.ylabel('TPR')\n",
        "\n",
        "\n",
        "plt.subplot(1,2,2)\n",
        "plt.title('Confusion Matrix')\n",
        "sns.heatmap(cm, square=True, annot=True, fmt='d', cbar='False')\n",
        "plt.xlabel('predict label')\n",
        "plt.ylabel('true label')\n",
        "plt.show()"
      ],
      "metadata": {
        "id": "mxa5EkjMSuhB",
        "colab": {
          "base_uri": "https://localhost:8080/",
          "height": 479
        },
        "outputId": "09b863dc-493c-4175-e936-28d89b2a0ad6"
      },
      "execution_count": 28,
      "outputs": [
        {
          "output_type": "stream",
          "name": "stdout",
          "text": [
            "Accuracy 0.805075334405198\n",
            "Precision 0.26745737583395107\n",
            "Recall 0.6576740794750273\n",
            "F1 0.3802698145025295\n",
            "AUC 0.831842724701207\n",
            "[[44963  9882]\n",
            " [ 1878  3608]]\n"
          ]
        },
        {
          "output_type": "display_data",
          "data": {
            "text/plain": [
              "<Figure size 720x360 with 3 Axes>"
            ],
            "image/png": "[encoded data removed]"
          },
          "metadata": {
            "needs_background": "light"
          }
        }
      ]
    },
    {
      "cell_type": "code",
      "source": [
        "#ADASYN\n",
        "from sklearn.linear_model import LogisticRegression\n",
        "from sklearn import metrics\n",
        "\n",
        "model = LogisticRegression()\n",
        "model.fit(x_train_ADASYN, y_train_ADASYN)\n",
        "y_pred = model.predict(x_test)\n",
        "\n",
        "acc = metrics.accuracy_score(y_test, y_pred)\n",
        "prec = metrics.precision_score(y_test, y_pred)\n",
        "rec = metrics.recall_score(y_test, y_pred)\n",
        "f1 = metrics.f1_score(y_test, y_pred)\n",
        "y_pred_proba = model.predict_proba(x_test)[::,1]\n",
        "fpr, tpr, _ = metrics.roc_curve(y_test, y_pred_proba)\n",
        "auc = metrics.roc_auc_score(y_test, y_pred_proba)\n",
        "\n",
        "# Display confusion matrix\n",
        "cm = metrics.confusion_matrix(y_test, y_pred)\n",
        "\n",
        "\n",
        "print(f\"Accuracy {acc}\")\n",
        "print(f\"Precision {prec}\")\n",
        "print(f\"Recall {rec}\")\n",
        "print(f\"F1 {f1}\")\n",
        "print(f\"AUC {auc}\")\n",
        "\n",
        "print(cm)\n",
        "\n",
        "plt.figure(figsize=(10,5))\n",
        "plt.subplot(1, 2, 1)\n",
        "plt.title('ADASYN_ROC curve')\n",
        "plt.plot(fpr, tpr)\n",
        "plt.xlabel('FPR')\n",
        "plt.ylabel('TPR')\n",
        "\n",
        "\n",
        "plt.subplot(1,2,2)\n",
        "plt.title('Confusion Matrix')\n",
        "sns.heatmap(cm, square=True, annot=True, fmt='d', cbar='False')\n",
        "plt.xlabel('predict label')\n",
        "plt.ylabel('true label')\n",
        "plt.show()"
      ],
      "metadata": {
        "id": "NTpuCdaBSxF_",
        "colab": {
          "base_uri": "https://localhost:8080/",
          "height": 479
        },
        "outputId": "4a07a023-5c83-46d8-dbd3-39a530df2214"
      },
      "execution_count": 29,
      "outputs": [
        {
          "output_type": "stream",
          "name": "stdout",
          "text": [
            "Accuracy 0.7123700916610035\n",
            "Precision 0.2102924661881744\n",
            "Recall 0.7850893182646738\n",
            "F1 0.3317287326221743\n",
            "AUC 0.8194212174587934\n",
            "[[38671 16174]\n",
            " [ 1179  4307]]\n"
          ]
        },
        {
          "output_type": "display_data",
          "data": {
            "text/plain": [
              "<Figure size 720x360 with 3 Axes>"
            ],
            "image/png": "[encoded data removed]"
          },
          "metadata": {
            "needs_background": "light"
          }
        }
      ]
    },
    {
      "cell_type": "code",
      "source": [
        "#SMOTEENN\n",
        "from sklearn.linear_model import LogisticRegression\n",
        "from sklearn import metrics\n",
        "\n",
        "model = LogisticRegression()\n",
        "model.fit(x_train_SMOTEENN, y_train_SMOTEENN)\n",
        "y_pred = model.predict(x_test)\n",
        "\n",
        "acc = metrics.accuracy_score(y_test, y_pred)\n",
        "prec = metrics.precision_score(y_test, y_pred)\n",
        "rec = metrics.recall_score(y_test, y_pred)\n",
        "f1 = metrics.f1_score(y_test, y_pred)\n",
        "y_pred_proba = model.predict_proba(x_test)[::,1]\n",
        "fpr, tpr, _ = metrics.roc_curve(y_test, y_pred_proba)\n",
        "auc = metrics.roc_auc_score(y_test, y_pred_proba)\n",
        "\n",
        "# Display confusion matrix\n",
        "cm = metrics.confusion_matrix(y_test, y_pred)\n",
        "\n",
        "\n",
        "print(f\"Accuracy {acc}\")\n",
        "print(f\"Precision {prec}\")\n",
        "print(f\"Recall {rec}\")\n",
        "print(f\"F1 {f1}\")\n",
        "print(f\"AUC {auc}\")\n",
        "\n",
        "print(cm)\n",
        "\n",
        "plt.figure(figsize=(10,5))\n",
        "plt.subplot(1, 2, 1)\n",
        "plt.title('SMOTEENN_ROC curve')\n",
        "plt.plot(fpr, tpr)\n",
        "plt.xlabel('FPR')\n",
        "plt.ylabel('TPR')\n",
        "\n",
        "\n",
        "plt.subplot(1,2,2)\n",
        "plt.title('Confusion Matrix')\n",
        "sns.heatmap(cm, square=True, annot=True, fmt='d', cbar='False')\n",
        "plt.xlabel('predict label')\n",
        "plt.ylabel('true label')\n",
        "plt.show()"
      ],
      "metadata": {
        "id": "QnbYJJNxSzIE",
        "colab": {
          "base_uri": "https://localhost:8080/",
          "height": 479
        },
        "outputId": "511ef99d-f9e7-454f-d66d-1593e0fe9ca1"
      },
      "execution_count": 30,
      "outputs": [
        {
          "output_type": "stream",
          "name": "stdout",
          "text": [
            "Accuracy 0.7132651539009796\n",
            "Precision 0.214316807738815\n",
            "Recall 0.8076923076923077\n",
            "F1 0.3387485187875082\n",
            "AUC 0.8305148350501714\n",
            "[[38601 16244]\n",
            " [ 1055  4431]]\n"
          ]
        },
        {
          "output_type": "display_data",
          "data": {
            "text/plain": [
              "<Figure size 720x360 with 3 Axes>"
            ],
            "image/png": "[encoded data removed]"
          },
          "metadata": {
            "needs_background": "light"
          }
        }
      ]
    },
    {
      "cell_type": "code",
      "source": [
        "#Costsensitive\n",
        "#원본 데이터를 가지고 class-weight 이용 로지스틱\n",
        "model = LogisticRegression(class_weight='balanced')\n",
        "model.fit(x_train, y_train)\n",
        "y_pred = model.predict(x_test)\n",
        "\n",
        "acc = metrics.accuracy_score(y_test, y_pred)\n",
        "prec = metrics.precision_score(y_test, y_pred)\n",
        "rec = metrics.recall_score(y_test, y_pred)\n",
        "f1 = metrics.f1_score(y_test, y_pred)\n",
        "\n",
        "y_pred_proba = model.predict_proba(x_test)[::,1]\n",
        "fpr, tpr, _ = metrics.roc_curve(y_test, y_pred_proba)\n",
        "auc = metrics.roc_auc_score(y_test, y_pred_proba)\n",
        "\n",
        "# Display confusion matrix\n",
        "cm = metrics.confusion_matrix(y_test, y_pred)\n",
        "\n",
        "\n",
        "print(f\"Accuracy {acc}\")\n",
        "print(f\"Precision {prec}\")\n",
        "print(f\"Recall {rec}\")\n",
        "print(f\"F1 {f1}\")\n",
        "print(f\"AUC {auc}\")\n",
        "\n",
        "print(cm)\n",
        "\n",
        "plt.figure(figsize=(10,5))\n",
        "plt.subplot(1, 2, 1)\n",
        "plt.title('CostSenstive_ROC curve')\n",
        "plt.plot(fpr, tpr)\n",
        "plt.xlabel('FPR')\n",
        "plt.ylabel('TPR')\n",
        "\n",
        "\n",
        "plt.subplot(1,2,2)\n",
        "plt.title('Confusion Matrix')\n",
        "sns.heatmap(cm, square=True, annot=True, fmt='d', cbar='False')\n",
        "plt.xlabel('predict label')\n",
        "plt.ylabel('true label')\n",
        "plt.show()"
      ],
      "metadata": {
        "id": "sxiPxxNeS0VI",
        "colab": {
          "base_uri": "https://localhost:8080/",
          "height": 479
        },
        "outputId": "6e3d52d0-adfe-4c02-c44c-2ebbd67d404e"
      },
      "execution_count": 31,
      "outputs": [
        {
          "output_type": "stream",
          "name": "stdout",
          "text": [
            "Accuracy 0.7450232881934661\n",
            "Precision 0.23110362440906373\n",
            "Recall 0.7752460809332847\n",
            "F1 0.35606346016995266\n",
            "AUC 0.836408639706365\n",
            "[[40695 14150]\n",
            " [ 1233  4253]]\n"
          ]
        },
        {
          "output_type": "display_data",
          "data": {
            "text/plain": [
              "<Figure size 720x360 with 3 Axes>"
            ],
            "image/png": "[encoded data removed]"
          },
          "metadata": {
            "needs_background": "light"
          }
        }
      ]
    },
    {
      "cell_type": "code",
      "source": [
        "from sklearn.svm import SVC\n",
        "\n",
        "#SVM 원본데이터 이용\n",
        "#svm_model = SVC(kernel='rbf', C=8, gamma=0.1) # poly, linear\n",
        "svm_model = SVC(kernel='rbf', probability=True)\n",
        "svm_model.probability = True\n",
        "svm_model.fit(x_train, y_train)\n",
        "y_pred = svm_model.predict(x_test)\n",
        "\n",
        "acc = metrics.accuracy_score(y_test, y_pred)\n",
        "prec = metrics.precision_score(y_test, y_pred)\n",
        "rec = metrics.recall_score(y_test, y_pred)\n",
        "f1 = metrics.f1_score(y_test, y_pred)\n",
        "\n",
        "y_pred_proba = model.predict_proba(x_test)[::,1]\n",
        "fpr, tpr, _ = metrics.roc_curve(y_test, y_pred_proba)\n",
        "auc = metrics.roc_auc_score(y_test, y_pred_proba)\n",
        "\n",
        "# Display confusion matrix\n",
        "cm = metrics.confusion_matrix(y_test, y_pred)\n",
        "\n",
        "\n",
        "print(f\"Accuracy {acc}\")\n",
        "print(f\"Precision {prec}\")\n",
        "print(f\"Recall {rec}\")\n",
        "print(f\"F1 {f1}\")\n",
        "print(f\"AUC {auc}\")\n",
        "\n",
        "print(cm)\n",
        "\n",
        "plt.figure(figsize=(10,5))\n",
        "plt.subplot(1, 2, 1)\n",
        "plt.title('CostSenstive_ROC curve')\n",
        "plt.plot(fpr, tpr)\n",
        "plt.xlabel('FPR')\n",
        "plt.ylabel('TPR')\n",
        "\n",
        "\n",
        "plt.subplot(1,2,2)\n",
        "plt.title('Confusion Matrix')\n",
        "sns.heatmap(cm, square=True, annot=True, fmt='d', cbar='False')\n",
        "plt.xlabel('predict label')\n",
        "plt.ylabel('true label')\n",
        "plt.show()"
      ],
      "metadata": {
        "colab": {
          "base_uri": "https://localhost:8080/",
          "height": 479
        },
        "id": "j6zeQU2ZKVyu",
        "outputId": "4997befa-8411-4718-a3b9-5323a4497ac0"
      },
      "execution_count": 32,
      "outputs": [
        {
          "output_type": "stream",
          "name": "stdout",
          "text": [
            "Accuracy 0.9090683065090915\n",
            "Precision 0.0\n",
            "Recall 0.0\n",
            "F1 0.0\n",
            "AUC 0.836408639706365\n",
            "[[54845     0]\n",
            " [ 5486     0]]\n"
          ]
        },
        {
          "output_type": "display_data",
          "data": {
            "text/plain": [
              "<Figure size 720x360 with 3 Axes>"
            ],
            "image/png": "[encoded data removed]"
          },
          "metadata": {
            "needs_background": "light"
          }
        }
      ]
    },
    {
      "cell_type": "code",
      "source": [
        "from sklearn.svm import SVC\n",
        "\n",
        "#SVM SMOTE 데이터 이용\n",
        "#svm_model = SVC(kernel='rbf', C=8, gamma=0.1) # poly, linear\n",
        "svm_model = SVC(kernel='rbf', probability=True)\n",
        "svm_model.probability = True\n",
        "svm_model.fit(x_train_SMOTE, y_train_SMOTE)\n",
        "y_pred = svm_model.predict(x_test)\n",
        "\n",
        "acc = metrics.accuracy_score(y_test, y_pred)\n",
        "prec = metrics.precision_score(y_test, y_pred)\n",
        "rec = metrics.recall_score(y_test, y_pred)\n",
        "f1 = metrics.f1_score(y_test, y_pred)\n",
        "\n",
        "y_pred_proba = model.predict_proba(x_test)[::,1]\n",
        "fpr, tpr, _ = metrics.roc_curve(y_test, y_pred_proba)\n",
        "auc = metrics.roc_auc_score(y_test, y_pred_proba)\n",
        "\n",
        "# Display confusion matrix\n",
        "cm = metrics.confusion_matrix(y_test, y_pred)\n",
        "\n",
        "\n",
        "print(f\"Accuracy {acc}\")\n",
        "print(f\"Precision {prec}\")\n",
        "print(f\"Recall {rec}\")\n",
        "print(f\"F1 {f1}\")\n",
        "print(f\"AUC {auc}\")\n",
        "\n",
        "print(cm)\n",
        "\n",
        "plt.figure(figsize=(10,5))\n",
        "plt.subplot(1, 2, 1)\n",
        "plt.title('CostSenstive_ROC curve')\n",
        "plt.plot(fpr, tpr)\n",
        "plt.xlabel('FPR')\n",
        "plt.ylabel('TPR')\n",
        "\n",
        "\n",
        "plt.subplot(1,2,2)\n",
        "plt.title('Confusion Matrix')\n",
        "sns.heatmap(cm, square=True, annot=True, fmt='d', cbar='False')\n",
        "plt.xlabel('predict label')\n",
        "plt.ylabel('true label')\n",
        "plt.show()"
      ],
      "metadata": {
        "colab": {
          "base_uri": "https://localhost:8080/",
          "height": 248
        },
        "id": "WC-GBzDPqViA",
        "outputId": "2dee3a67-fcfd-4f29-ed08-cc0b002d4d24"
      },
      "execution_count": 1,
      "outputs": [
        {
          "output_type": "error",
          "ename": "NameError",
          "evalue": "ignored",
          "traceback": [
            "\u001b[0;31m---------------------------------------------------------------------------\u001b[0m",
            "\u001b[0;31mNameError\u001b[0m                                 Traceback (most recent call last)",
            "\u001b[0;32m<ipython-input-1-de09116133fa>\u001b[0m in \u001b[0;36m<module>\u001b[0;34m()\u001b[0m\n\u001b[1;32m      5\u001b[0m \u001b[0msvm_model\u001b[0m \u001b[0;34m=\u001b[0m \u001b[0mSVC\u001b[0m\u001b[0;34m(\u001b[0m\u001b[0mkernel\u001b[0m\u001b[0;34m=\u001b[0m\u001b[0;34m'rbf'\u001b[0m\u001b[0;34m,\u001b[0m \u001b[0mprobability\u001b[0m\u001b[0;34m=\u001b[0m\u001b[0;32mTrue\u001b[0m\u001b[0;34m)\u001b[0m\u001b[0;34m\u001b[0m\u001b[0;34m\u001b[0m\u001b[0m\n\u001b[1;32m      6\u001b[0m \u001b[0msvm_model\u001b[0m\u001b[0;34m.\u001b[0m\u001b[0mprobability\u001b[0m \u001b[0;34m=\u001b[0m \u001b[0;32mTrue\u001b[0m\u001b[0;34m\u001b[0m\u001b[0;34m\u001b[0m\u001b[0m\n\u001b[0;32m----> 7\u001b[0;31m \u001b[0msvm_model\u001b[0m\u001b[0;34m.\u001b[0m\u001b[0mfit\u001b[0m\u001b[0;34m(\u001b[0m\u001b[0mx_train_SMOTE\u001b[0m\u001b[0;34m,\u001b[0m \u001b[0my_train_SMOTE\u001b[0m\u001b[0;34m)\u001b[0m\u001b[0;34m\u001b[0m\u001b[0;34m\u001b[0m\u001b[0m\n\u001b[0m\u001b[1;32m      8\u001b[0m \u001b[0my_pred\u001b[0m \u001b[0;34m=\u001b[0m \u001b[0msvm_model\u001b[0m\u001b[0;34m.\u001b[0m\u001b[0mpredict\u001b[0m\u001b[0;34m(\u001b[0m\u001b[0mx_test\u001b[0m\u001b[0;34m)\u001b[0m\u001b[0;34m\u001b[0m\u001b[0;34m\u001b[0m\u001b[0m\n\u001b[1;32m      9\u001b[0m \u001b[0;34m\u001b[0m\u001b[0m\n",
            "\u001b[0;31mNameError\u001b[0m: name 'x_train_SMOTE' is not defined"
          ]
        }
      ]
    },
    {
      "cell_type": "code",
      "source": [
        ""
      ],
      "metadata": {
        "id": "NVkUffr3wRO1"
      },
      "execution_count": null,
      "outputs": []
    },
    {
      "cell_type": "code",
      "source": [
        ""
      ],
      "metadata": {
        "id": "pdAjXxL51_cE"
      },
      "execution_count": null,
      "outputs": []
    },
    {
      "cell_type": "code",
      "source": [
        ""
      ],
      "metadata": {
        "id": "xWiLZ4fi7tpo"
      },
      "execution_count": null,
      "outputs": []
    },
    {
      "cell_type": "code",
      "source": [
        ""
      ],
      "metadata": {
        "id": "MTeZHr8Ve5HN"
      },
      "execution_count": null,
      "outputs": []
    },
    {
      "cell_type": "code",
      "source": [
        ""
      ],
      "metadata": {
        "id": "EI_lRLgkk0zy"
      },
      "execution_count": null,
      "outputs": []
    },
    {
      "cell_type": "code",
      "source": [
        ""
      ],
      "metadata": {
        "id": "f8IAHyeVTcsJ"
      },
      "execution_count": null,
      "outputs": []
    },
    {
      "cell_type": "code",
      "source": [
        ""
      ],
      "metadata": {
        "id": "Bp6AK0VNZK5e"
      },
      "execution_count": null,
      "outputs": []
    },
    {
      "cell_type": "code",
      "source": [
        ""
      ],
      "metadata": {
        "id": "Vwu2PyQ4Nuek"
      },
      "execution_count": null,
      "outputs": []
    }
  ]
}