{
 "cells": [
  {
   "cell_type": "code",
   "execution_count": 1,
   "metadata": {
    "id": "25HdjeOy1yfn"
   },
   "outputs": [],
   "source": [
    "import pandas as pd\n",
    "import numpy as np\n",
    "import pandas as pd\n",
    "import matplotlib.pyplot as plt\n",
    "import seaborn as sns\n",
    "#method : scaling, log transformation, cube Root normalization, Box-Cox transformation\n",
    "from scipy.stats import skew \n",
    "from scipy.stats import boxcox\n",
    "%matplotlib inline"
   ]
  },
  {
   "cell_type": "code",
   "execution_count": 2,
   "metadata": {
    "colab": {
     "base_uri": "https://localhost:8080/"
    },
    "executionInfo": {
     "elapsed": 2415,
     "status": "ok",
     "timestamp": 1654169563827,
     "user": {
      "displayName": "김효민",
      "userId": "18233957082156023676"
     },
     "user_tz": -540
    },
    "id": "-Hw2NC141Yoz",
    "outputId": "f3b3ad72-971e-4c55-8f20-deee0056f383"
   },
   "outputs": [
    {
     "name": "stdout",
     "output_type": "stream",
     "text": [
      "(301717, 18)\n",
      "<class 'pandas.core.frame.DataFrame'>\n",
      "Int64Index: 301717 entries, 0 to 319794\n",
      "Data columns (total 18 columns):\n",
      " #   Column            Non-Null Count   Dtype  \n",
      "---  ------            --------------   -----  \n",
      " 0   HeartDisease      301717 non-null  object \n",
      " 1   BMI               301717 non-null  float64\n",
      " 2   Smoking           301717 non-null  object \n",
      " 3   AlcoholDrinking   301717 non-null  object \n",
      " 4   Stroke            301717 non-null  object \n",
      " 5   PhysicalHealth    301717 non-null  float64\n",
      " 6   MentalHealth      301717 non-null  float64\n",
      " 7   DiffWalking       301717 non-null  object \n",
      " 8   Sex               301717 non-null  object \n",
      " 9   AgeCategory       301717 non-null  object \n",
      " 10  Race              301717 non-null  object \n",
      " 11  Diabetic          301717 non-null  object \n",
      " 12  PhysicalActivity  301717 non-null  object \n",
      " 13  GenHealth         301717 non-null  object \n",
      " 14  SleepTime         301717 non-null  float64\n",
      " 15  Asthma            301717 non-null  object \n",
      " 16  KidneyDisease     301717 non-null  object \n",
      " 17  SkinCancer        301717 non-null  object \n",
      "dtypes: float64(4), object(14)\n",
      "memory usage: 43.7+ MB\n"
     ]
    }
   ],
   "source": [
    "df = pd.read_csv('heart_2020_cleaned.csv')\n",
    "# remove duplicated data\n",
    "df = df.drop_duplicates()\n",
    "print(df.shape)\n",
    "df.info()"
   ]
  },
  {
   "cell_type": "code",
   "execution_count": 3,
   "metadata": {
    "colab": {
     "base_uri": "https://localhost:8080/"
    },
    "executionInfo": {
     "elapsed": 35,
     "status": "ok",
     "timestamp": 1654169563833,
     "user": {
      "displayName": "김효민",
      "userId": "18233957082156023676"
     },
     "user_tz": -540
    },
    "id": "Lpl5GVXf13j5",
    "outputId": "70512d74-a9f9-49c6-adf0-bc446bd38f8e"
   },
   "outputs": [
    {
     "data": {
      "text/plain": [
       "(301653, 18)"
      ]
     },
     "execution_count": 3,
     "metadata": {},
     "output_type": "execute_result"
    }
   ],
   "source": [
    "# noise 처리\n",
    "df = df[(df['BMI'] < 80) & (df['SleepTime'] != 24)]\n",
    "df.shape"
   ]
  },
  {
   "cell_type": "markdown",
   "metadata": {
    "id": "iWV-_fbNouQr"
   },
   "source": [
    "## encoding"
   ]
  },
  {
   "cell_type": "code",
   "execution_count": 4,
   "metadata": {
    "id": "gU1Jt-ivoreP"
   },
   "outputs": [],
   "source": [
    "def yesno_tolabel(x):\n",
    "    if (x == 'Yes') | (x == 'Yes (during pregnancy)') :\n",
    "        return 1\n",
    "    else:\n",
    "        return 0"
   ]
  },
  {
   "cell_type": "code",
   "execution_count": 5,
   "metadata": {
    "id": "gDJ0j90Loyvs"
   },
   "outputs": [],
   "source": [
    "sex_map = {'Female' : 0, 'Male' : 1}\n",
    "health_map = {'Excellent' : 4, 'Very good' : 3, 'Good' : 2, 'Fair' : 1, 'Poor' : 0}\n",
    "diabetic_map = {'Yes' : 2, 'Yes (during pregnancy)' : 2, 'No, borderline diabetes' : 1, 'No' : 0}\n",
    "age_map = {'18-24' : 20, '25-29' : 25, '30-34' : 30, '35-39' : 35, '40-44' : 40, '45-49' : 45, '50-54' : 50, '55-59' : 55, '60-64' : 60, '65-69' : 65, '70-74' : 70, '75-79' : 75, '80 or older' : 80}\n",
    "columns = ['HeartDisease', 'Smoking', 'AlcoholDrinking', 'Stroke', 'DiffWalking', 'PhysicalActivity', 'Asthma', 'KidneyDisease', 'SkinCancer']\n",
    "diabetic_map = {'Yes' : 2, 'Yes (during pregnancy)' : 2, 'No, borderline diabetes' : 1, 'No' : 0}\n",
    "for column in columns:\n",
    "    df[column] = df[column].apply(lambda x : yesno_tolabel(x))\n",
    "\n",
    "df['Sex'] = df['Sex'].map(sex_map)\n",
    "df['GenHealth'] = df['GenHealth'].map(health_map)\n",
    "df['Diabetic'] = df['Diabetic'].map(diabetic_map)\n",
    "df['AgeCategory'] = df['AgeCategory'].map(age_map)"
   ]
  },
  {
   "cell_type": "code",
   "execution_count": 6,
   "metadata": {
    "colab": {
     "base_uri": "https://localhost:8080/",
     "height": 488
    },
    "executionInfo": {
     "elapsed": 39,
     "status": "ok",
     "timestamp": 1654169567870,
     "user": {
      "displayName": "김효민",
      "userId": "18233957082156023676"
     },
     "user_tz": -540
    },
    "id": "jcrUFbYao754",
    "outputId": "3dc4ef47-620e-4d01-bbe3-9dc9f598b773"
   },
   "outputs": [
    {
     "data": {
      "text/html": [
       "<div>\n",
       "<style scoped>\n",
       "    .dataframe tbody tr th:only-of-type {\n",
       "        vertical-align: middle;\n",
       "    }\n",
       "\n",
       "    .dataframe tbody tr th {\n",
       "        vertical-align: top;\n",
       "    }\n",
       "\n",
       "    .dataframe thead th {\n",
       "        text-align: right;\n",
       "    }\n",
       "</style>\n",
       "<table border=\"1\" class=\"dataframe\">\n",
       "  <thead>\n",
       "    <tr style=\"text-align: right;\">\n",
       "      <th></th>\n",
       "      <th>HeartDisease</th>\n",
       "      <th>BMI</th>\n",
       "      <th>Smoking</th>\n",
       "      <th>AlcoholDrinking</th>\n",
       "      <th>Stroke</th>\n",
       "      <th>PhysicalHealth</th>\n",
       "      <th>MentalHealth</th>\n",
       "      <th>DiffWalking</th>\n",
       "      <th>Sex</th>\n",
       "      <th>AgeCategory</th>\n",
       "      <th>Race</th>\n",
       "      <th>Diabetic</th>\n",
       "      <th>PhysicalActivity</th>\n",
       "      <th>GenHealth</th>\n",
       "      <th>SleepTime</th>\n",
       "      <th>Asthma</th>\n",
       "      <th>KidneyDisease</th>\n",
       "      <th>SkinCancer</th>\n",
       "    </tr>\n",
       "  </thead>\n",
       "  <tbody>\n",
       "    <tr>\n",
       "      <th>0</th>\n",
       "      <td>0</td>\n",
       "      <td>16.60</td>\n",
       "      <td>1</td>\n",
       "      <td>0</td>\n",
       "      <td>0</td>\n",
       "      <td>3.0</td>\n",
       "      <td>30.0</td>\n",
       "      <td>0</td>\n",
       "      <td>0</td>\n",
       "      <td>55</td>\n",
       "      <td>White</td>\n",
       "      <td>2</td>\n",
       "      <td>1</td>\n",
       "      <td>3</td>\n",
       "      <td>5.0</td>\n",
       "      <td>1</td>\n",
       "      <td>0</td>\n",
       "      <td>1</td>\n",
       "    </tr>\n",
       "    <tr>\n",
       "      <th>1</th>\n",
       "      <td>0</td>\n",
       "      <td>20.34</td>\n",
       "      <td>0</td>\n",
       "      <td>0</td>\n",
       "      <td>1</td>\n",
       "      <td>0.0</td>\n",
       "      <td>0.0</td>\n",
       "      <td>0</td>\n",
       "      <td>0</td>\n",
       "      <td>80</td>\n",
       "      <td>White</td>\n",
       "      <td>0</td>\n",
       "      <td>1</td>\n",
       "      <td>3</td>\n",
       "      <td>7.0</td>\n",
       "      <td>0</td>\n",
       "      <td>0</td>\n",
       "      <td>0</td>\n",
       "    </tr>\n",
       "    <tr>\n",
       "      <th>2</th>\n",
       "      <td>0</td>\n",
       "      <td>26.58</td>\n",
       "      <td>1</td>\n",
       "      <td>0</td>\n",
       "      <td>0</td>\n",
       "      <td>20.0</td>\n",
       "      <td>30.0</td>\n",
       "      <td>0</td>\n",
       "      <td>1</td>\n",
       "      <td>65</td>\n",
       "      <td>White</td>\n",
       "      <td>2</td>\n",
       "      <td>1</td>\n",
       "      <td>1</td>\n",
       "      <td>8.0</td>\n",
       "      <td>1</td>\n",
       "      <td>0</td>\n",
       "      <td>0</td>\n",
       "    </tr>\n",
       "    <tr>\n",
       "      <th>3</th>\n",
       "      <td>0</td>\n",
       "      <td>24.21</td>\n",
       "      <td>0</td>\n",
       "      <td>0</td>\n",
       "      <td>0</td>\n",
       "      <td>0.0</td>\n",
       "      <td>0.0</td>\n",
       "      <td>0</td>\n",
       "      <td>0</td>\n",
       "      <td>75</td>\n",
       "      <td>White</td>\n",
       "      <td>0</td>\n",
       "      <td>0</td>\n",
       "      <td>2</td>\n",
       "      <td>6.0</td>\n",
       "      <td>0</td>\n",
       "      <td>0</td>\n",
       "      <td>1</td>\n",
       "    </tr>\n",
       "    <tr>\n",
       "      <th>4</th>\n",
       "      <td>0</td>\n",
       "      <td>23.71</td>\n",
       "      <td>0</td>\n",
       "      <td>0</td>\n",
       "      <td>0</td>\n",
       "      <td>28.0</td>\n",
       "      <td>0.0</td>\n",
       "      <td>1</td>\n",
       "      <td>0</td>\n",
       "      <td>40</td>\n",
       "      <td>White</td>\n",
       "      <td>0</td>\n",
       "      <td>1</td>\n",
       "      <td>3</td>\n",
       "      <td>8.0</td>\n",
       "      <td>0</td>\n",
       "      <td>0</td>\n",
       "      <td>0</td>\n",
       "    </tr>\n",
       "    <tr>\n",
       "      <th>...</th>\n",
       "      <td>...</td>\n",
       "      <td>...</td>\n",
       "      <td>...</td>\n",
       "      <td>...</td>\n",
       "      <td>...</td>\n",
       "      <td>...</td>\n",
       "      <td>...</td>\n",
       "      <td>...</td>\n",
       "      <td>...</td>\n",
       "      <td>...</td>\n",
       "      <td>...</td>\n",
       "      <td>...</td>\n",
       "      <td>...</td>\n",
       "      <td>...</td>\n",
       "      <td>...</td>\n",
       "      <td>...</td>\n",
       "      <td>...</td>\n",
       "      <td>...</td>\n",
       "    </tr>\n",
       "    <tr>\n",
       "      <th>319790</th>\n",
       "      <td>1</td>\n",
       "      <td>27.41</td>\n",
       "      <td>1</td>\n",
       "      <td>0</td>\n",
       "      <td>0</td>\n",
       "      <td>7.0</td>\n",
       "      <td>0.0</td>\n",
       "      <td>1</td>\n",
       "      <td>1</td>\n",
       "      <td>60</td>\n",
       "      <td>Hispanic</td>\n",
       "      <td>2</td>\n",
       "      <td>0</td>\n",
       "      <td>1</td>\n",
       "      <td>6.0</td>\n",
       "      <td>1</td>\n",
       "      <td>0</td>\n",
       "      <td>0</td>\n",
       "    </tr>\n",
       "    <tr>\n",
       "      <th>319791</th>\n",
       "      <td>0</td>\n",
       "      <td>29.84</td>\n",
       "      <td>1</td>\n",
       "      <td>0</td>\n",
       "      <td>0</td>\n",
       "      <td>0.0</td>\n",
       "      <td>0.0</td>\n",
       "      <td>0</td>\n",
       "      <td>1</td>\n",
       "      <td>35</td>\n",
       "      <td>Hispanic</td>\n",
       "      <td>0</td>\n",
       "      <td>1</td>\n",
       "      <td>3</td>\n",
       "      <td>5.0</td>\n",
       "      <td>1</td>\n",
       "      <td>0</td>\n",
       "      <td>0</td>\n",
       "    </tr>\n",
       "    <tr>\n",
       "      <th>319792</th>\n",
       "      <td>0</td>\n",
       "      <td>24.24</td>\n",
       "      <td>0</td>\n",
       "      <td>0</td>\n",
       "      <td>0</td>\n",
       "      <td>0.0</td>\n",
       "      <td>0.0</td>\n",
       "      <td>0</td>\n",
       "      <td>0</td>\n",
       "      <td>45</td>\n",
       "      <td>Hispanic</td>\n",
       "      <td>0</td>\n",
       "      <td>1</td>\n",
       "      <td>2</td>\n",
       "      <td>6.0</td>\n",
       "      <td>0</td>\n",
       "      <td>0</td>\n",
       "      <td>0</td>\n",
       "    </tr>\n",
       "    <tr>\n",
       "      <th>319793</th>\n",
       "      <td>0</td>\n",
       "      <td>32.81</td>\n",
       "      <td>0</td>\n",
       "      <td>0</td>\n",
       "      <td>0</td>\n",
       "      <td>0.0</td>\n",
       "      <td>0.0</td>\n",
       "      <td>0</td>\n",
       "      <td>0</td>\n",
       "      <td>25</td>\n",
       "      <td>Hispanic</td>\n",
       "      <td>0</td>\n",
       "      <td>0</td>\n",
       "      <td>2</td>\n",
       "      <td>12.0</td>\n",
       "      <td>0</td>\n",
       "      <td>0</td>\n",
       "      <td>0</td>\n",
       "    </tr>\n",
       "    <tr>\n",
       "      <th>319794</th>\n",
       "      <td>0</td>\n",
       "      <td>46.56</td>\n",
       "      <td>0</td>\n",
       "      <td>0</td>\n",
       "      <td>0</td>\n",
       "      <td>0.0</td>\n",
       "      <td>0.0</td>\n",
       "      <td>0</td>\n",
       "      <td>0</td>\n",
       "      <td>80</td>\n",
       "      <td>Hispanic</td>\n",
       "      <td>0</td>\n",
       "      <td>1</td>\n",
       "      <td>2</td>\n",
       "      <td>8.0</td>\n",
       "      <td>0</td>\n",
       "      <td>0</td>\n",
       "      <td>0</td>\n",
       "    </tr>\n",
       "  </tbody>\n",
       "</table>\n",
       "<p>301653 rows × 18 columns</p>\n",
       "</div>"
      ],
      "text/plain": [
       "        HeartDisease    BMI  Smoking  AlcoholDrinking  Stroke  PhysicalHealth  \\\n",
       "0                  0  16.60        1                0       0             3.0   \n",
       "1                  0  20.34        0                0       1             0.0   \n",
       "2                  0  26.58        1                0       0            20.0   \n",
       "3                  0  24.21        0                0       0             0.0   \n",
       "4                  0  23.71        0                0       0            28.0   \n",
       "...              ...    ...      ...              ...     ...             ...   \n",
       "319790             1  27.41        1                0       0             7.0   \n",
       "319791             0  29.84        1                0       0             0.0   \n",
       "319792             0  24.24        0                0       0             0.0   \n",
       "319793             0  32.81        0                0       0             0.0   \n",
       "319794             0  46.56        0                0       0             0.0   \n",
       "\n",
       "        MentalHealth  DiffWalking  Sex  AgeCategory      Race  Diabetic  \\\n",
       "0               30.0            0    0           55     White         2   \n",
       "1                0.0            0    0           80     White         0   \n",
       "2               30.0            0    1           65     White         2   \n",
       "3                0.0            0    0           75     White         0   \n",
       "4                0.0            1    0           40     White         0   \n",
       "...              ...          ...  ...          ...       ...       ...   \n",
       "319790           0.0            1    1           60  Hispanic         2   \n",
       "319791           0.0            0    1           35  Hispanic         0   \n",
       "319792           0.0            0    0           45  Hispanic         0   \n",
       "319793           0.0            0    0           25  Hispanic         0   \n",
       "319794           0.0            0    0           80  Hispanic         0   \n",
       "\n",
       "        PhysicalActivity  GenHealth  SleepTime  Asthma  KidneyDisease  \\\n",
       "0                      1          3        5.0       1              0   \n",
       "1                      1          3        7.0       0              0   \n",
       "2                      1          1        8.0       1              0   \n",
       "3                      0          2        6.0       0              0   \n",
       "4                      1          3        8.0       0              0   \n",
       "...                  ...        ...        ...     ...            ...   \n",
       "319790                 0          1        6.0       1              0   \n",
       "319791                 1          3        5.0       1              0   \n",
       "319792                 1          2        6.0       0              0   \n",
       "319793                 0          2       12.0       0              0   \n",
       "319794                 1          2        8.0       0              0   \n",
       "\n",
       "        SkinCancer  \n",
       "0                1  \n",
       "1                0  \n",
       "2                0  \n",
       "3                1  \n",
       "4                0  \n",
       "...            ...  \n",
       "319790           0  \n",
       "319791           0  \n",
       "319792           0  \n",
       "319793           0  \n",
       "319794           0  \n",
       "\n",
       "[301653 rows x 18 columns]"
      ]
     },
     "execution_count": 6,
     "metadata": {},
     "output_type": "execute_result"
    }
   ],
   "source": [
    "df"
   ]
  },
  {
   "cell_type": "code",
   "execution_count": 7,
   "metadata": {
    "colab": {
     "base_uri": "https://localhost:8080/"
    },
    "executionInfo": {
     "elapsed": 32,
     "status": "ok",
     "timestamp": 1654169567871,
     "user": {
      "displayName": "김효민",
      "userId": "18233957082156023676"
     },
     "user_tz": -540
    },
    "id": "tlnQ6RUpo8W4",
    "outputId": "71480702-2807-47f9-9bb2-b0c2e1f1f290"
   },
   "outputs": [
    {
     "name": "stdout",
     "output_type": "stream",
     "text": [
      "<class 'pandas.core.frame.DataFrame'>\n",
      "Int64Index: 301653 entries, 0 to 319794\n",
      "Data columns (total 18 columns):\n",
      " #   Column            Non-Null Count   Dtype  \n",
      "---  ------            --------------   -----  \n",
      " 0   HeartDisease      301653 non-null  int64  \n",
      " 1   BMI               301653 non-null  float64\n",
      " 2   Smoking           301653 non-null  int64  \n",
      " 3   AlcoholDrinking   301653 non-null  int64  \n",
      " 4   Stroke            301653 non-null  int64  \n",
      " 5   PhysicalHealth    301653 non-null  float64\n",
      " 6   MentalHealth      301653 non-null  float64\n",
      " 7   DiffWalking       301653 non-null  int64  \n",
      " 8   Sex               301653 non-null  int64  \n",
      " 9   AgeCategory       301653 non-null  int64  \n",
      " 10  Race              301653 non-null  object \n",
      " 11  Diabetic          301653 non-null  int64  \n",
      " 12  PhysicalActivity  301653 non-null  int64  \n",
      " 13  GenHealth         301653 non-null  int64  \n",
      " 14  SleepTime         301653 non-null  float64\n",
      " 15  Asthma            301653 non-null  int64  \n",
      " 16  KidneyDisease     301653 non-null  int64  \n",
      " 17  SkinCancer        301653 non-null  int64  \n",
      "dtypes: float64(4), int64(13), object(1)\n",
      "memory usage: 43.7+ MB\n"
     ]
    }
   ],
   "source": [
    "df.info()"
   ]
  },
  {
   "cell_type": "code",
   "execution_count": 8,
   "metadata": {
    "id": "S-DQKxjgpI_A"
   },
   "outputs": [
    {
     "name": "stdout",
     "output_type": "stream",
     "text": [
      "Requirement already satisfied: category_encoders in c:\\users\\hyomi\\anaconda3\\lib\\site-packages (2.4.0)\n",
      "Requirement already satisfied: pandas>=0.21.1 in c:\\users\\hyomi\\anaconda3\\lib\\site-packages (from category_encoders) (1.3.4)\n",
      "Requirement already satisfied: numpy>=1.14.0 in c:\\users\\hyomi\\anaconda3\\lib\\site-packages (from category_encoders) (1.22.3)\n",
      "Requirement already satisfied: scikit-learn>=0.20.0 in c:\\users\\hyomi\\anaconda3\\lib\\site-packages (from category_encoders) (1.0.2)\n",
      "Requirement already satisfied: statsmodels>=0.9.0 in c:\\users\\hyomi\\anaconda3\\lib\\site-packages (from category_encoders) (0.12.2)\n",
      "Requirement already satisfied: patsy>=0.5.1 in c:\\users\\hyomi\\anaconda3\\lib\\site-packages (from category_encoders) (0.5.2)\n",
      "Requirement already satisfied: scipy>=1.0.0 in c:\\users\\hyomi\\anaconda3\\lib\\site-packages (from category_encoders) (1.7.1)\n",
      "Requirement already satisfied: python-dateutil>=2.7.3 in c:\\users\\hyomi\\anaconda3\\lib\\site-packages (from pandas>=0.21.1->category_encoders) (2.8.2)\n",
      "Requirement already satisfied: pytz>=2017.3 in c:\\users\\hyomi\\anaconda3\\lib\\site-packages (from pandas>=0.21.1->category_encoders) (2021.3)\n",
      "Requirement already satisfied: six in c:\\users\\hyomi\\anaconda3\\lib\\site-packages (from patsy>=0.5.1->category_encoders) (1.16.0)\n",
      "Requirement already satisfied: joblib>=0.11 in c:\\users\\hyomi\\anaconda3\\lib\\site-packages (from scikit-learn>=0.20.0->category_encoders) (1.1.0)\n",
      "Requirement already satisfied: threadpoolctl>=2.0.0 in c:\\users\\hyomi\\anaconda3\\lib\\site-packages (from scikit-learn>=0.20.0->category_encoders) (2.2.0)\n"
     ]
    },
    {
     "name": "stderr",
     "output_type": "stream",
     "text": [
      "WARNING: You are using pip version 22.0.3; however, version 22.1.1 is available.\n",
      "You should consider upgrading via the 'C:\\Users\\hyomi\\anaconda3\\python.exe -m pip install --upgrade pip' command.\n"
     ]
    }
   ],
   "source": [
    "!pip install category_encoders"
   ]
  },
  {
   "cell_type": "code",
   "execution_count": 9,
   "metadata": {
    "id": "0zepXQOdo81b"
   },
   "outputs": [],
   "source": [
    "#Race 인코딩 - Binary\n",
    "import category_encoders as ce\n",
    "import pandas as pd\n",
    "\n",
    "ce_binary = ce.BinaryEncoder(cols = ['Race'], return_df = True)\n",
    "ce_binary_encoded = ce_binary.fit_transform(df['Race'])\n",
    "\n",
    "df = pd.concat([df, ce_binary_encoded], axis = 1).drop(['Race'], axis = 1)"
   ]
  },
  {
   "cell_type": "markdown",
   "metadata": {
    "id": "QKweMYEWpX6k"
   },
   "source": [
    "## outlier"
   ]
  },
  {
   "cell_type": "code",
   "execution_count": 10,
   "metadata": {
    "id": "bbEPmWEYpcTc"
   },
   "outputs": [],
   "source": [
    "def quantile_operation(outlier_df, column):\n",
    "    quantile_1 = outlier_df[column].quantile(0.25)\n",
    "    quantile_3 = outlier_df[column].quantile(0.75)\n",
    "    iqr = quantile_3 - quantile_1\n",
    "    Lower_tail = quantile_1 - 1.5 * iqr\n",
    "    Upper_tail = quantile_3 + 1.5 * iqr\n",
    "\n",
    "    return Lower_tail, Upper_tail"
   ]
  },
  {
   "cell_type": "code",
   "execution_count": 11,
   "metadata": {
    "id": "ebgBG0expQ60"
   },
   "outputs": [],
   "source": [
    "df['PhysicalHealth'] = df['PhysicalHealth'] + 1\n",
    "df['MentalHealth'] = df['MentalHealth'] + 1\n",
    "outlier_columns = ['BMI', 'PhysicalHealth', 'MentalHealth', 'SleepTime']\n",
    "for column in outlier_columns:\n",
    "    Lower_tail, Upper_tail = quantile_operation(df, column)\n",
    "    df[column] = boxcox(df[column])[0]"
   ]
  },
  {
   "cell_type": "code",
   "execution_count": 12,
   "metadata": {
    "colab": {
     "base_uri": "https://localhost:8080/",
     "height": 488
    },
    "executionInfo": {
     "elapsed": 10,
     "status": "ok",
     "timestamp": 1654169578891,
     "user": {
      "displayName": "김효민",
      "userId": "18233957082156023676"
     },
     "user_tz": -540
    },
    "id": "4C-Y8DPMpf7N",
    "outputId": "ac388217-ef2a-4a07-8bc6-96819d679924"
   },
   "outputs": [
    {
     "data": {
      "text/html": [
       "<div>\n",
       "<style scoped>\n",
       "    .dataframe tbody tr th:only-of-type {\n",
       "        vertical-align: middle;\n",
       "    }\n",
       "\n",
       "    .dataframe tbody tr th {\n",
       "        vertical-align: top;\n",
       "    }\n",
       "\n",
       "    .dataframe thead th {\n",
       "        text-align: right;\n",
       "    }\n",
       "</style>\n",
       "<table border=\"1\" class=\"dataframe\">\n",
       "  <thead>\n",
       "    <tr style=\"text-align: right;\">\n",
       "      <th></th>\n",
       "      <th>HeartDisease</th>\n",
       "      <th>BMI</th>\n",
       "      <th>Smoking</th>\n",
       "      <th>AlcoholDrinking</th>\n",
       "      <th>Stroke</th>\n",
       "      <th>PhysicalHealth</th>\n",
       "      <th>MentalHealth</th>\n",
       "      <th>DiffWalking</th>\n",
       "      <th>Sex</th>\n",
       "      <th>AgeCategory</th>\n",
       "      <th>Diabetic</th>\n",
       "      <th>PhysicalActivity</th>\n",
       "      <th>GenHealth</th>\n",
       "      <th>SleepTime</th>\n",
       "      <th>Asthma</th>\n",
       "      <th>KidneyDisease</th>\n",
       "      <th>SkinCancer</th>\n",
       "      <th>Race_0</th>\n",
       "      <th>Race_1</th>\n",
       "      <th>Race_2</th>\n",
       "    </tr>\n",
       "  </thead>\n",
       "  <tbody>\n",
       "    <tr>\n",
       "      <th>0</th>\n",
       "      <td>0</td>\n",
       "      <td>1.403407</td>\n",
       "      <td>1</td>\n",
       "      <td>0</td>\n",
       "      <td>0</td>\n",
       "      <td>0.669364</td>\n",
       "      <td>1.089487</td>\n",
       "      <td>0</td>\n",
       "      <td>0</td>\n",
       "      <td>55</td>\n",
       "      <td>2</td>\n",
       "      <td>1</td>\n",
       "      <td>3</td>\n",
       "      <td>3.488639</td>\n",
       "      <td>1</td>\n",
       "      <td>0</td>\n",
       "      <td>1</td>\n",
       "      <td>0</td>\n",
       "      <td>0</td>\n",
       "      <td>1</td>\n",
       "    </tr>\n",
       "    <tr>\n",
       "      <th>1</th>\n",
       "      <td>0</td>\n",
       "      <td>1.442302</td>\n",
       "      <td>0</td>\n",
       "      <td>0</td>\n",
       "      <td>1</td>\n",
       "      <td>0.000000</td>\n",
       "      <td>0.000000</td>\n",
       "      <td>0</td>\n",
       "      <td>0</td>\n",
       "      <td>80</td>\n",
       "      <td>0</td>\n",
       "      <td>1</td>\n",
       "      <td>3</td>\n",
       "      <td>5.054525</td>\n",
       "      <td>0</td>\n",
       "      <td>0</td>\n",
       "      <td>0</td>\n",
       "      <td>0</td>\n",
       "      <td>0</td>\n",
       "      <td>1</td>\n",
       "    </tr>\n",
       "    <tr>\n",
       "      <th>2</th>\n",
       "      <td>0</td>\n",
       "      <td>1.487128</td>\n",
       "      <td>1</td>\n",
       "      <td>0</td>\n",
       "      <td>0</td>\n",
       "      <td>0.801003</td>\n",
       "      <td>1.089487</td>\n",
       "      <td>0</td>\n",
       "      <td>1</td>\n",
       "      <td>65</td>\n",
       "      <td>2</td>\n",
       "      <td>1</td>\n",
       "      <td>1</td>\n",
       "      <td>5.813435</td>\n",
       "      <td>1</td>\n",
       "      <td>0</td>\n",
       "      <td>0</td>\n",
       "      <td>0</td>\n",
       "      <td>0</td>\n",
       "      <td>1</td>\n",
       "    </tr>\n",
       "    <tr>\n",
       "      <th>3</th>\n",
       "      <td>0</td>\n",
       "      <td>1.472250</td>\n",
       "      <td>0</td>\n",
       "      <td>0</td>\n",
       "      <td>0</td>\n",
       "      <td>0.000000</td>\n",
       "      <td>0.000000</td>\n",
       "      <td>0</td>\n",
       "      <td>0</td>\n",
       "      <td>75</td>\n",
       "      <td>0</td>\n",
       "      <td>0</td>\n",
       "      <td>2</td>\n",
       "      <td>4.280563</td>\n",
       "      <td>0</td>\n",
       "      <td>0</td>\n",
       "      <td>1</td>\n",
       "      <td>0</td>\n",
       "      <td>0</td>\n",
       "      <td>1</td>\n",
       "    </tr>\n",
       "    <tr>\n",
       "      <th>4</th>\n",
       "      <td>0</td>\n",
       "      <td>1.468816</td>\n",
       "      <td>0</td>\n",
       "      <td>0</td>\n",
       "      <td>0</td>\n",
       "      <td>0.807551</td>\n",
       "      <td>0.000000</td>\n",
       "      <td>1</td>\n",
       "      <td>0</td>\n",
       "      <td>40</td>\n",
       "      <td>0</td>\n",
       "      <td>1</td>\n",
       "      <td>3</td>\n",
       "      <td>5.813435</td>\n",
       "      <td>0</td>\n",
       "      <td>0</td>\n",
       "      <td>0</td>\n",
       "      <td>0</td>\n",
       "      <td>0</td>\n",
       "      <td>1</td>\n",
       "    </tr>\n",
       "    <tr>\n",
       "      <th>...</th>\n",
       "      <td>...</td>\n",
       "      <td>...</td>\n",
       "      <td>...</td>\n",
       "      <td>...</td>\n",
       "      <td>...</td>\n",
       "      <td>...</td>\n",
       "      <td>...</td>\n",
       "      <td>...</td>\n",
       "      <td>...</td>\n",
       "      <td>...</td>\n",
       "      <td>...</td>\n",
       "      <td>...</td>\n",
       "      <td>...</td>\n",
       "      <td>...</td>\n",
       "      <td>...</td>\n",
       "      <td>...</td>\n",
       "      <td>...</td>\n",
       "      <td>...</td>\n",
       "      <td>...</td>\n",
       "      <td>...</td>\n",
       "    </tr>\n",
       "    <tr>\n",
       "      <th>319790</th>\n",
       "      <td>1</td>\n",
       "      <td>1.491857</td>\n",
       "      <td>1</td>\n",
       "      <td>0</td>\n",
       "      <td>0</td>\n",
       "      <td>0.755892</td>\n",
       "      <td>0.000000</td>\n",
       "      <td>1</td>\n",
       "      <td>1</td>\n",
       "      <td>60</td>\n",
       "      <td>2</td>\n",
       "      <td>0</td>\n",
       "      <td>1</td>\n",
       "      <td>4.280563</td>\n",
       "      <td>1</td>\n",
       "      <td>0</td>\n",
       "      <td>0</td>\n",
       "      <td>1</td>\n",
       "      <td>1</td>\n",
       "      <td>0</td>\n",
       "    </tr>\n",
       "    <tr>\n",
       "      <th>319791</th>\n",
       "      <td>0</td>\n",
       "      <td>1.504497</td>\n",
       "      <td>1</td>\n",
       "      <td>0</td>\n",
       "      <td>0</td>\n",
       "      <td>0.000000</td>\n",
       "      <td>0.000000</td>\n",
       "      <td>0</td>\n",
       "      <td>1</td>\n",
       "      <td>35</td>\n",
       "      <td>0</td>\n",
       "      <td>1</td>\n",
       "      <td>3</td>\n",
       "      <td>3.488639</td>\n",
       "      <td>1</td>\n",
       "      <td>0</td>\n",
       "      <td>0</td>\n",
       "      <td>1</td>\n",
       "      <td>1</td>\n",
       "      <td>0</td>\n",
       "    </tr>\n",
       "    <tr>\n",
       "      <th>319792</th>\n",
       "      <td>0</td>\n",
       "      <td>1.472452</td>\n",
       "      <td>0</td>\n",
       "      <td>0</td>\n",
       "      <td>0</td>\n",
       "      <td>0.000000</td>\n",
       "      <td>0.000000</td>\n",
       "      <td>0</td>\n",
       "      <td>0</td>\n",
       "      <td>45</td>\n",
       "      <td>0</td>\n",
       "      <td>1</td>\n",
       "      <td>2</td>\n",
       "      <td>4.280563</td>\n",
       "      <td>0</td>\n",
       "      <td>0</td>\n",
       "      <td>0</td>\n",
       "      <td>1</td>\n",
       "      <td>1</td>\n",
       "      <td>0</td>\n",
       "    </tr>\n",
       "    <tr>\n",
       "      <th>319793</th>\n",
       "      <td>0</td>\n",
       "      <td>1.517915</td>\n",
       "      <td>0</td>\n",
       "      <td>0</td>\n",
       "      <td>0</td>\n",
       "      <td>0.000000</td>\n",
       "      <td>0.000000</td>\n",
       "      <td>0</td>\n",
       "      <td>0</td>\n",
       "      <td>25</td>\n",
       "      <td>0</td>\n",
       "      <td>0</td>\n",
       "      <td>2</td>\n",
       "      <td>8.734516</td>\n",
       "      <td>0</td>\n",
       "      <td>0</td>\n",
       "      <td>0</td>\n",
       "      <td>1</td>\n",
       "      <td>1</td>\n",
       "      <td>0</td>\n",
       "    </tr>\n",
       "    <tr>\n",
       "      <th>319794</th>\n",
       "      <td>0</td>\n",
       "      <td>1.561599</td>\n",
       "      <td>0</td>\n",
       "      <td>0</td>\n",
       "      <td>0</td>\n",
       "      <td>0.000000</td>\n",
       "      <td>0.000000</td>\n",
       "      <td>0</td>\n",
       "      <td>0</td>\n",
       "      <td>80</td>\n",
       "      <td>0</td>\n",
       "      <td>1</td>\n",
       "      <td>2</td>\n",
       "      <td>5.813435</td>\n",
       "      <td>0</td>\n",
       "      <td>0</td>\n",
       "      <td>0</td>\n",
       "      <td>1</td>\n",
       "      <td>1</td>\n",
       "      <td>0</td>\n",
       "    </tr>\n",
       "  </tbody>\n",
       "</table>\n",
       "<p>301653 rows × 20 columns</p>\n",
       "</div>"
      ],
      "text/plain": [
       "        HeartDisease       BMI  Smoking  AlcoholDrinking  Stroke  \\\n",
       "0                  0  1.403407        1                0       0   \n",
       "1                  0  1.442302        0                0       1   \n",
       "2                  0  1.487128        1                0       0   \n",
       "3                  0  1.472250        0                0       0   \n",
       "4                  0  1.468816        0                0       0   \n",
       "...              ...       ...      ...              ...     ...   \n",
       "319790             1  1.491857        1                0       0   \n",
       "319791             0  1.504497        1                0       0   \n",
       "319792             0  1.472452        0                0       0   \n",
       "319793             0  1.517915        0                0       0   \n",
       "319794             0  1.561599        0                0       0   \n",
       "\n",
       "        PhysicalHealth  MentalHealth  DiffWalking  Sex  AgeCategory  Diabetic  \\\n",
       "0             0.669364      1.089487            0    0           55         2   \n",
       "1             0.000000      0.000000            0    0           80         0   \n",
       "2             0.801003      1.089487            0    1           65         2   \n",
       "3             0.000000      0.000000            0    0           75         0   \n",
       "4             0.807551      0.000000            1    0           40         0   \n",
       "...                ...           ...          ...  ...          ...       ...   \n",
       "319790        0.755892      0.000000            1    1           60         2   \n",
       "319791        0.000000      0.000000            0    1           35         0   \n",
       "319792        0.000000      0.000000            0    0           45         0   \n",
       "319793        0.000000      0.000000            0    0           25         0   \n",
       "319794        0.000000      0.000000            0    0           80         0   \n",
       "\n",
       "        PhysicalActivity  GenHealth  SleepTime  Asthma  KidneyDisease  \\\n",
       "0                      1          3   3.488639       1              0   \n",
       "1                      1          3   5.054525       0              0   \n",
       "2                      1          1   5.813435       1              0   \n",
       "3                      0          2   4.280563       0              0   \n",
       "4                      1          3   5.813435       0              0   \n",
       "...                  ...        ...        ...     ...            ...   \n",
       "319790                 0          1   4.280563       1              0   \n",
       "319791                 1          3   3.488639       1              0   \n",
       "319792                 1          2   4.280563       0              0   \n",
       "319793                 0          2   8.734516       0              0   \n",
       "319794                 1          2   5.813435       0              0   \n",
       "\n",
       "        SkinCancer  Race_0  Race_1  Race_2  \n",
       "0                1       0       0       1  \n",
       "1                0       0       0       1  \n",
       "2                0       0       0       1  \n",
       "3                1       0       0       1  \n",
       "4                0       0       0       1  \n",
       "...            ...     ...     ...     ...  \n",
       "319790           0       1       1       0  \n",
       "319791           0       1       1       0  \n",
       "319792           0       1       1       0  \n",
       "319793           0       1       1       0  \n",
       "319794           0       1       1       0  \n",
       "\n",
       "[301653 rows x 20 columns]"
      ]
     },
     "execution_count": 12,
     "metadata": {},
     "output_type": "execute_result"
    }
   ],
   "source": [
    "df"
   ]
  },
  {
   "cell_type": "code",
   "execution_count": 13,
   "metadata": {
    "colab": {
     "base_uri": "https://localhost:8080/"
    },
    "executionInfo": {
     "elapsed": 392,
     "status": "ok",
     "timestamp": 1654169610178,
     "user": {
      "displayName": "김효민",
      "userId": "18233957082156023676"
     },
     "user_tz": -540
    },
    "id": "kgPXMnf0ppj1",
    "outputId": "e6c5d127-db48-4d0e-dd40-3faa835cdc71"
   },
   "outputs": [
    {
     "name": "stdout",
     "output_type": "stream",
     "text": [
      "<class 'pandas.core.frame.DataFrame'>\n",
      "Int64Index: 301653 entries, 0 to 319794\n",
      "Data columns (total 20 columns):\n",
      " #   Column            Non-Null Count   Dtype  \n",
      "---  ------            --------------   -----  \n",
      " 0   HeartDisease      301653 non-null  int64  \n",
      " 1   BMI               301653 non-null  float64\n",
      " 2   Smoking           301653 non-null  int64  \n",
      " 3   AlcoholDrinking   301653 non-null  int64  \n",
      " 4   Stroke            301653 non-null  int64  \n",
      " 5   PhysicalHealth    301653 non-null  float64\n",
      " 6   MentalHealth      301653 non-null  float64\n",
      " 7   DiffWalking       301653 non-null  int64  \n",
      " 8   Sex               301653 non-null  int64  \n",
      " 9   AgeCategory       301653 non-null  int64  \n",
      " 10  Diabetic          301653 non-null  int64  \n",
      " 11  PhysicalActivity  301653 non-null  int64  \n",
      " 12  GenHealth         301653 non-null  int64  \n",
      " 13  SleepTime         301653 non-null  float64\n",
      " 14  Asthma            301653 non-null  int64  \n",
      " 15  KidneyDisease     301653 non-null  int64  \n",
      " 16  SkinCancer        301653 non-null  int64  \n",
      " 17  Race_0            301653 non-null  int64  \n",
      " 18  Race_1            301653 non-null  int64  \n",
      " 19  Race_2            301653 non-null  int64  \n",
      "dtypes: float64(4), int64(16)\n",
      "memory usage: 48.3 MB\n"
     ]
    }
   ],
   "source": [
    "df.info()"
   ]
  },
  {
   "cell_type": "markdown",
   "metadata": {
    "id": "IciEK86apxK3"
   },
   "source": [
    "## 불균형 데이터 처리"
   ]
  },
  {
   "cell_type": "code",
   "execution_count": 14,
   "metadata": {
    "id": "yJvLnNEvpqOj"
   },
   "outputs": [],
   "source": [
    "# x, y분리\n",
    "x = df.drop('HeartDisease', axis=1)\n",
    "x_columns = x.columns\n",
    "y = df['HeartDisease']"
   ]
  },
  {
   "cell_type": "code",
   "execution_count": 15,
   "metadata": {
    "id": "xD2C6uuzqFOl"
   },
   "outputs": [],
   "source": [
    "# train test 분리\n",
    "from sklearn.model_selection import train_test_split\n",
    "x_train, x_test, y_train, y_test = train_test_split(x, y, test_size =0.2,random_state = 42)"
   ]
  },
  {
   "cell_type": "code",
   "execution_count": 16,
   "metadata": {
    "colab": {
     "base_uri": "https://localhost:8080/"
    },
    "executionInfo": {
     "elapsed": 417,
     "status": "ok",
     "timestamp": 1654169624286,
     "user": {
      "displayName": "김효민",
      "userId": "18233957082156023676"
     },
     "user_tz": -540
    },
    "id": "f1h1elRwqGLj",
    "outputId": "b517578c-19ca-4744-982e-8b79224058a2"
   },
   "outputs": [
    {
     "name": "stdout",
     "output_type": "stream",
     "text": [
      "origin target data :\n",
      " 0    274401\n",
      "1     27252\n",
      "Name: HeartDisease, dtype: int64\n"
     ]
    }
   ],
   "source": [
    "# 데이터 불균형 처리 전 상태\n",
    "print('origin target data :\\n', df['HeartDisease'].value_counts())"
   ]
  },
  {
   "cell_type": "markdown",
   "metadata": {
    "id": "94iE0wDzqOqy"
   },
   "source": [
    "### UnderSampling"
   ]
  },
  {
   "cell_type": "code",
   "execution_count": 16,
   "metadata": {
    "id": "nzHyY9IHqJfs"
   },
   "outputs": [],
   "source": [
    "# 언더 샘플링 처리 <- 코드만 남겨둘게요\n",
    "from imblearn.under_sampling import *\n",
    "\n",
    "#CNN\n",
    "#x_train_CNN, y_train_CNN =CondensedNearestNeighbour(random_state=42).fit_resample(x_train, y_train) \n",
    "\n",
    "#ENN\n",
    "#x_train_ENN, y_train_ENN =EditedNearestNeighbours(kind_sel=\"all\", n_neighbors=5).fit_resample(x_train, y_train) \n",
    "\n",
    "#Tomek's link\n",
    "#x_train_Tomek, y_train_Tomek =TomekLinks().fit_resample(x_train, y_train) \n",
    "\n",
    "#OSS\n",
    "#x_train_OSS, y_train_OSS =OneSidedSelection(random_state=42).fit_resample(x_train, y_train) \n",
    "\n",
    "#NCR\n",
    "#x_train_NCR, y_train_NCR =NeighbourhoodCleaningRule().fit_resample(x_train, y_train) \n",
    "\n",
    "\n",
    "#NearMiss-1\n",
    "#x_train_NearMiss, y_train_NearMiss=NearMiss().fit_resample(x_train, y_train)"
   ]
  },
  {
   "cell_type": "code",
   "execution_count": 17,
   "metadata": {
    "id": "u7bAnBdMqRXE"
   },
   "outputs": [],
   "source": [
    "# # 언더 샘플링 결과 보기\n",
    "\n",
    "# print('befor undersampling :\\n', y_train.value_counts())\n",
    "# print('\\nAfter CNN :\\n', y_train_CNN.value_counts())\n",
    "# print('\\n\\n')\n",
    "\n",
    "# print('befor undersampling :\\n', y_train.value_counts()) #효과 미미 0=164205, 1=21811\n",
    "# print('\\nAfter ENN :\\n', y_train_ENN.value_counts())\n",
    "# print('\\n\\n')\n",
    "\n",
    "# print('befor undersampling :\\n', y_train.value_counts())  \n",
    "# print('\\nAfter TomekLink :\\n', y_train_Tomek.value_counts())\n",
    "# print('\\n\\n')\n",
    "\n",
    "# print('befor undersampling :\\n', y_train.value_counts()) #효과 미미 0=212240, 1=21811\n",
    "# print('\\nAfter OSS :\\n', y_train_OSS.value_counts())\n",
    "# print('\\n\\n')\n",
    "\n",
    "# print('befor undersampling :\\n', y_train.value_counts()) # 0=179268, 1=21811\n",
    "# print('\\nAfter NCR :\\n', y_train_NCR.value_counts())\n",
    "# print('\\n\\n')\n",
    "\n",
    "# print('befor undersampling :\\n', y_train.value_counts()) # 1대1 언더샘플링 너무 많은 손실?? 0,1=21811\n",
    "# print('\\nAfter NearMiss :\\n', y_train_NearMiss.value_counts())\n",
    "# print('\\n\\n')"
   ]
  },
  {
   "cell_type": "markdown",
   "metadata": {
    "id": "-mIN4DV4qTFv"
   },
   "source": [
    "### OverSampling"
   ]
  },
  {
   "cell_type": "code",
   "execution_count": 18,
   "metadata": {
    "colab": {
     "base_uri": "https://localhost:8080/",
     "height": 461
    },
    "executionInfo": {
     "elapsed": 80965,
     "status": "error",
     "timestamp": 1654169770041,
     "user": {
      "displayName": "김효민",
      "userId": "18233957082156023676"
     },
     "user_tz": -540
    },
    "id": "85mqBINcqSDt",
    "outputId": "cd026f3b-2df2-4dec-dd38-8f1e02bb44a6"
   },
   "outputs": [
    {
     "name": "stdout",
     "output_type": "stream",
     "text": [
      "NearestNeighbors(n_neighbors=6)\n",
      "OrderedDict([(1, 197790)])\n",
      "NearestNeighbors(n_neighbors=6)\n",
      "NearestNeighbors(n_neighbors=11)\n",
      "NearestNeighbors(n_neighbors=6)\n",
      "NearestNeighbors(n_neighbors=11)\n",
      "None\n",
      "NearestNeighbors(n_neighbors=6)\n"
     ]
    }
   ],
   "source": [
    "##오버샘플링 처리\n",
    "from imblearn.over_sampling import *\n",
    "from collections import Counter\n",
    "\n",
    "#SMOTE\n",
    "smote = SMOTE(random_state=42)\n",
    "x_train_SMOTE, y_train_SMOTE =smote.fit_resample(x_train, y_train)\n",
    "print(smote.nn_k_)\n",
    "\n",
    "#BorderlineSMOTE\n",
    "bsmote = BorderlineSMOTE(random_state=42)\n",
    "x_train_BorderlineSM, y_train_BorderlineSM =bsmote.fit_resample(x_train, y_train)\n",
    "print(bsmote.sampling_strategy_)\n",
    "print(bsmote.nn_k_)\n",
    "print(bsmote.nn_m_)\n",
    "\n",
    "#SVMSMOTE\n",
    "sm = SVMSMOTE(random_state=42)\n",
    "x_train_SVMSMOTE, y_train_SVMSMOTE = sm.fit_resample(x_train, y_train)\n",
    "print(sm.nn_k_)\n",
    "print(sm.nn_m_)\n",
    "print(sm.svm_estimator)\n",
    "\n",
    "#ADASYN\n",
    "ads = ADASYN(random_state=42)\n",
    "x_train_ADASYN, y_train_ADASYN = ads.fit_resample(x_train, y_train)\n",
    "print(ads.nn_)"
   ]
  },
  {
   "cell_type": "markdown",
   "metadata": {},
   "source": [
    "## 복합 - oversampling + undersampling"
   ]
  },
  {
   "cell_type": "code",
   "execution_count": 17,
   "metadata": {},
   "outputs": [
    {
     "name": "stdout",
     "output_type": "stream",
     "text": [
      "SMOTE(random_state=42)\n",
      "EditedNearestNeighbours(sampling_strategy='all')\n"
     ]
    }
   ],
   "source": [
    "# 복합 샘플링 진행 \n",
    "from imblearn.combine import *\n",
    "from collections import Counter\n",
    "\n",
    "#x_train_SMOTETomek, y_train_SMOTETomek =SMOTETomek(random_state=42).fit_resample(x_train, y_train) \n",
    "\n",
    "#SMOTETENN\n",
    "smoteenn = SMOTEENN(random_state=42)\n",
    "x_train_SMOTEENN, y_train_SMOTEENN = smoteenn.fit_resample(x_train, y_train)\n",
    "print(smoteenn.smote_)\n",
    "print(smoteenn.enn_)"
   ]
  },
  {
   "cell_type": "code",
   "execution_count": 18,
   "metadata": {},
   "outputs": [
    {
     "name": "stdout",
     "output_type": "stream",
     "text": [
      "befor combinesampling : Counter({0: 219556, 1: 21766})\n",
      "\n",
      "After SMOTEENN : Counter({1: 173552, 0: 163441})\n"
     ]
    }
   ],
   "source": [
    "#복합 샘플링 결과\n",
    "# print('befor combinesampling :\\n', y_train.value_counts())\n",
    "# print('\\nAfter SMOTETomek :\\n', y_train_SMOTETomek.value_counts())\n",
    "# print('\\n\\n')\n",
    "print('befor combinesampling :', Counter(y_train))\n",
    "print('\\nAfter SMOTEENN :', Counter(y_train_SMOTEENN))"
   ]
  },
  {
   "cell_type": "markdown",
   "metadata": {
    "id": "ysPxyv80sDr4"
   },
   "source": [
    "## SVM 모델"
   ]
  },
  {
   "cell_type": "code",
   "execution_count": null,
   "metadata": {
    "id": "QO2cpdyesFGD"
   },
   "outputs": [],
   "source": [
    "#from sklearn.svm import SVC\n",
    "\n",
    "#svm_model = SVC(kernel='rbf') # poly, linear\n",
    "#svm_model = SVC(kernel='linear')\n",
    "#svm_model.fit(x_train, y_train)\n",
    "#y_pred = svm_model.predict(x_test)"
   ]
  },
  {
   "cell_type": "markdown",
   "metadata": {},
   "source": [
    "### 불균형 처리 전"
   ]
  },
  {
   "cell_type": "code",
   "execution_count": null,
   "metadata": {},
   "outputs": [],
   "source": [
    "from sklearn.svm import SVC\n",
    "#svm_model = SVC(kernel='rbf', C=8, gamma=0.1) # poly, linear\n",
    "svm_model = SVC(kernel='rbf', probability=True)\n",
    "svm_model.probability = True\n",
    "svm_model.fit(x_train, y_train)\n",
    "y_pred = svm_model.predict(x_test)"
   ]
  },
  {
   "cell_type": "markdown",
   "metadata": {},
   "source": [
    "**모든 test 데이터를 0으로 예측함**\n",
    "\n",
    "accuracy: 0.9090683065090915  \n",
    "precision: 0.0  \n",
    "recall: 0.0  \n",
    "f1 socre: 0.0  \n",
    "roc auc score: 0.47903324109601686  "
   ]
  },
  {
   "cell_type": "code",
   "execution_count": null,
   "metadata": {},
   "outputs": [],
   "source": []
  },
  {
   "cell_type": "markdown",
   "metadata": {},
   "source": [
    "### SVMSMOTE"
   ]
  },
  {
   "cell_type": "code",
   "execution_count": 19,
   "metadata": {},
   "outputs": [],
   "source": [
    "from sklearn.svm import SVC\n",
    "#svm_model = SVC(kernel='rbf', C=8, gamma=0.1) # poly, linear\n",
    "svm_svmsmote_model = SVC(kernel='rbf')\n",
    "svm_svmsmote_model.fit(x_train_SVMSMOTE, y_train_SVMSMOTE)\n",
    "y_pred_svmsmote = svm_svmsmote_model.predict(x_test)"
   ]
  },
  {
   "cell_type": "code",
   "execution_count": 29,
   "metadata": {},
   "outputs": [
    {
     "name": "stdout",
     "output_type": "stream",
     "text": [
      "accuracy: 0.802638776085263\n",
      "precision: 0.265022323062285\n",
      "recall: 0.6600437477214729\n",
      "f1 socre: 0.378192072693091\n",
      "[[44803 10042]\n",
      " [ 1865  3621]]\n"
     ]
    },
    {
     "data": {
      "text/plain": [
       "Text(83.40000000000006, 0.5, 'true label')"
      ]
     },
     "execution_count": 29,
     "metadata": {},
     "output_type": "execute_result"
    },
    {
     "data": {
      "image/png": "[encoded data removed]",
      "text/plain": [
       "<Figure size 432x288 with 2 Axes>"
      ]
     },
     "metadata": {
      "needs_background": "light"
     },
     "output_type": "display_data"
    }
   ],
   "source": [
    "from sklearn.metrics import accuracy_score, confusion_matrix, precision_score, recall_score, f1_score, classification_report\n",
    "\n",
    "print('accuracy:', accuracy_score(y_test, y_pred_svmsmote))\n",
    "print('precision:', precision_score(y_test, y_pred_svmsmote))\n",
    "print('recall:', recall_score(y_test, y_pred_svmsmote))\n",
    "print('f1 socre:', f1_score(y_test, y_pred_svmsmote))\n",
    "cm = confusion_matrix(y_test, y_pred_svmsmote)\n",
    "print(cm)\n",
    "sns.heatmap(cm, square=True, annot=True, fmt='d', cbar='False')\n",
    "plt.xlabel('predict label')\n",
    "plt.ylabel('true label')"
   ]
  },
  {
   "cell_type": "code",
   "execution_count": 32,
   "metadata": {},
   "outputs": [
    {
     "name": "stdout",
     "output_type": "stream",
     "text": [
      "0.8296134979807709\n"
     ]
    },
    {
     "data": {
      "image/png": "[encoded data removed]",
      "text/plain": [
       "<Figure size 432x288 with 1 Axes>"
      ]
     },
     "metadata": {
      "needs_background": "light"
     },
     "output_type": "display_data"
    }
   ],
   "source": [
    "y_pred_decision = svm_svmsmote_model.decision_function(x_test)\n",
    "from sklearn.metrics import roc_curve, roc_auc_score\n",
    "print(roc_auc_score(y_test, y_pred_decision))\n",
    "fpr, tpr, thresholds = roc_curve(y_test, y_pred_decision)\n",
    "plt.plot(fpr, tpr)\n",
    "plt.plot([0, 1], [0, 1], 'k--', label=\"random guess\")\n",
    "plt.xlabel('FPR ( 1 - sensitivity )')\n",
    "plt.ylabel('TPR ( Recall )')\n",
    "plt.title('Receiver operating characteristic example')\n",
    "plt.show()"
   ]
  },
  {
   "cell_type": "markdown",
   "metadata": {},
   "source": [
    "### SMOTE"
   ]
  },
  {
   "cell_type": "code",
   "execution_count": 20,
   "metadata": {},
   "outputs": [],
   "source": [
    "from sklearn.svm import SVC\n",
    "#svm_model = SVC(kernel='rbf', C=8, gamma=0.1) # poly, linear\n",
    "svm_smote_model = SVC(kernel='rbf')\n",
    "svm_smote_model.fit(x_train_SMOTE, y_train_SMOTE)\n",
    "y_pred_smote = svm_smote_model.predict(x_test)\n"
   ]
  },
  {
   "cell_type": "code",
   "execution_count": 33,
   "metadata": {},
   "outputs": [
    {
     "name": "stdout",
     "output_type": "stream",
     "text": [
      "accuracy: 0.7100992856077307\n",
      "precision: 0.2101603245122658\n",
      "recall: 0.7932920160408312\n",
      "f1 socre: 0.332289837367336\n",
      "[[38489 16356]\n",
      " [ 1134  4352]]\n"
     ]
    },
    {
     "data": {
      "text/plain": [
       "Text(83.40000000000006, 0.5, 'true label')"
      ]
     },
     "execution_count": 33,
     "metadata": {},
     "output_type": "execute_result"
    },
    {
     "data": {
      "image/png": "[encoded data removed]",
      "text/plain": [
       "<Figure size 432x288 with 2 Axes>"
      ]
     },
     "metadata": {
      "needs_background": "light"
     },
     "output_type": "display_data"
    }
   ],
   "source": [
    "from sklearn.metrics import accuracy_score, confusion_matrix, precision_score, recall_score, f1_score, classification_report\n",
    "\n",
    "print('accuracy:', accuracy_score(y_test, y_pred_smote))\n",
    "print('precision:', precision_score(y_test, y_pred_smote))\n",
    "print('recall:', recall_score(y_test, y_pred_smote))\n",
    "print('f1 socre:', f1_score(y_test, y_pred_smote))\n",
    "cm = confusion_matrix(y_test, y_pred_smote)\n",
    "print(cm)\n",
    "sns.heatmap(cm, square=True, annot=True, fmt='d', cbar='False')\n",
    "plt.xlabel('predict label')\n",
    "plt.ylabel('true label')"
   ]
  },
  {
   "cell_type": "code",
   "execution_count": 34,
   "metadata": {},
   "outputs": [
    {
     "name": "stdout",
     "output_type": "stream",
     "text": [
      "0.8187559083004843\n"
     ]
    },
    {
     "data": {
      "image/png": "[encoded data removed]",
      "text/plain": [
       "<Figure size 432x288 with 1 Axes>"
      ]
     },
     "metadata": {
      "needs_background": "light"
     },
     "output_type": "display_data"
    }
   ],
   "source": [
    "y_pred_decision = svm_smote_model.decision_function(x_test)\n",
    "from sklearn.metrics import roc_curve, roc_auc_score\n",
    "print(roc_auc_score(y_test, y_pred_decision))\n",
    "fpr, tpr, thresholds = roc_curve(y_test, y_pred_decision)\n",
    "plt.plot(fpr, tpr)\n",
    "plt.plot([0, 1], [0, 1], 'k--', label=\"random guess\")\n",
    "plt.xlabel('FPR ( 1 - sensitivity )')\n",
    "plt.ylabel('TPR ( Recall )')\n",
    "plt.title('Receiver operating characteristic example')\n",
    "plt.show()"
   ]
  },
  {
   "cell_type": "markdown",
   "metadata": {},
   "source": [
    "### Borderline SMOTE"
   ]
  },
  {
   "cell_type": "code",
   "execution_count": 21,
   "metadata": {},
   "outputs": [],
   "source": [
    "from sklearn.svm import SVC\n",
    "#svm_model = SVC(kernel='rbf', C=8, gamma=0.1) # poly, linear\n",
    "svm_border_model = SVC(kernel='rbf')\n",
    "svm_border_model.fit(x_train_BorderlineSM, y_train_BorderlineSM)\n",
    "y_pred_border = svm_border_model.predict(x_test)"
   ]
  },
  {
   "cell_type": "code",
   "execution_count": 31,
   "metadata": {},
   "outputs": [
    {
     "name": "stdout",
     "output_type": "stream",
     "text": [
      "accuracy: 0.7261606802473024\n",
      "precision: 0.21868148676897975\n",
      "recall: 0.7818082391542107\n",
      "f1 socre: 0.3417666042471812\n",
      "[[39521 15324]\n",
      " [ 1197  4289]]\n"
     ]
    },
    {
     "data": {
      "text/plain": [
       "Text(83.40000000000006, 0.5, 'true label')"
      ]
     },
     "execution_count": 31,
     "metadata": {},
     "output_type": "execute_result"
    },
    {
     "data": {
      "image/png": "[encoded data removed]",
      "text/plain": [
       "<Figure size 432x288 with 2 Axes>"
      ]
     },
     "metadata": {
      "needs_background": "light"
     },
     "output_type": "display_data"
    }
   ],
   "source": [
    "from sklearn.metrics import accuracy_score, confusion_matrix, precision_score, recall_score, f1_score, classification_report\n",
    "\n",
    "print('accuracy:', accuracy_score(y_test, y_pred_border))\n",
    "print('precision:', precision_score(y_test, y_pred_border))\n",
    "print('recall:', recall_score(y_test, y_pred_border))\n",
    "print('f1 socre:', f1_score(y_test, y_pred_border))\n",
    "cm = confusion_matrix(y_test, y_pred_border)\n",
    "print(cm)\n",
    "sns.heatmap(cm, square=True, annot=True, fmt='d', cbar='False')\n",
    "plt.xlabel('predict label')\n",
    "plt.ylabel('true label')"
   ]
  },
  {
   "cell_type": "code",
   "execution_count": 35,
   "metadata": {},
   "outputs": [
    {
     "name": "stdout",
     "output_type": "stream",
     "text": [
      "0.825479160821999\n"
     ]
    },
    {
     "data": {
      "image/png": "[encoded data removed]",
      "text/plain": [
       "<Figure size 432x288 with 1 Axes>"
      ]
     },
     "metadata": {
      "needs_background": "light"
     },
     "output_type": "display_data"
    }
   ],
   "source": [
    "y_pred_decision = svm_border_model.decision_function(x_test)\n",
    "print(roc_auc_score(y_test, y_pred_decision))\n",
    "fpr, tpr, thresholds = roc_curve(y_test, y_pred_decision)\n",
    "plt.plot(fpr, tpr)\n",
    "plt.plot([0, 1], [0, 1], 'k--', label=\"random guess\")\n",
    "plt.xlabel('FPR ( 1 - sensitivity )')\n",
    "plt.ylabel('TPR ( Recall )')\n",
    "plt.title('Receiver operating characteristic example')\n",
    "plt.show()"
   ]
  },
  {
   "cell_type": "markdown",
   "metadata": {},
   "source": [
    "### ADASYN"
   ]
  },
  {
   "cell_type": "code",
   "execution_count": 22,
   "metadata": {},
   "outputs": [],
   "source": [
    "from sklearn.svm import SVC\n",
    "#svm_model = SVC(kernel='rbf', C=8, gamma=0.1) # poly, linear\n",
    "svm_adasyn_model = SVC(kernel='rbf')\n",
    "svm_adasyn_model.fit(x_train_ADASYN, y_train_ADASYN)\n",
    "y_pred_adasyn = svm_adasyn_model.predict(x_test)"
   ]
  },
  {
   "cell_type": "code",
   "execution_count": 30,
   "metadata": {},
   "outputs": [
    {
     "name": "stdout",
     "output_type": "stream",
     "text": [
      "accuracy: 0.677512389981933\n",
      "precision: 0.1966209173036831\n",
      "recall: 0.8251913962814437\n",
      "f1 socre: 0.3175727814801824\n",
      "[[36348 18497]\n",
      " [  959  4527]]\n"
     ]
    },
    {
     "data": {
      "text/plain": [
       "Text(83.40000000000006, 0.5, 'true label')"
      ]
     },
     "execution_count": 30,
     "metadata": {},
     "output_type": "execute_result"
    },
    {
     "data": {
      "image/png": "[encoded data removed]",
      "text/plain": [
       "<Figure size 432x288 with 2 Axes>"
      ]
     },
     "metadata": {
      "needs_background": "light"
     },
     "output_type": "display_data"
    }
   ],
   "source": [
    "from sklearn.metrics import accuracy_score, confusion_matrix, precision_score, recall_score, f1_score, classification_report\n",
    "\n",
    "print('accuracy:', accuracy_score(y_test, y_pred_adasyn))\n",
    "print('precision:', precision_score(y_test, y_pred_adasyn))\n",
    "print('recall:', recall_score(y_test, y_pred_adasyn))\n",
    "print('f1 socre:', f1_score(y_test, y_pred_adasyn))\n",
    "cm = confusion_matrix(y_test, y_pred_adasyn)\n",
    "print(cm)\n",
    "sns.heatmap(cm, square=True, annot=True, fmt='d', cbar='False')\n",
    "plt.xlabel('predict label')\n",
    "plt.ylabel('true label')"
   ]
  },
  {
   "cell_type": "code",
   "execution_count": 36,
   "metadata": {},
   "outputs": [
    {
     "name": "stdout",
     "output_type": "stream",
     "text": [
      "0.8142777592783188\n"
     ]
    },
    {
     "data": {
      "image/png": "[encoded data removed]",
      "text/plain": [
       "<Figure size 432x288 with 1 Axes>"
      ]
     },
     "metadata": {
      "needs_background": "light"
     },
     "output_type": "display_data"
    }
   ],
   "source": [
    "y_pred_decision = svm_adasyn_model.decision_function(x_test)\n",
    "from sklearn.metrics import roc_curve, roc_auc_score\n",
    "print(roc_auc_score(y_test, y_pred_decision))\n",
    "fpr, tpr, thresholds = roc_curve(y_test, y_pred_decision)\n",
    "plt.plot(fpr, tpr)\n",
    "plt.plot([0, 1], [0, 1], 'k--', label=\"random guess\")\n",
    "plt.xlabel('FPR ( 1 - sensitivity )')\n",
    "plt.ylabel('TPR ( Recall )')\n",
    "plt.title('Receiver operating characteristic example')\n",
    "plt.show()"
   ]
  },
  {
   "cell_type": "markdown",
   "metadata": {},
   "source": [
    "### SMOTE ENN"
   ]
  },
  {
   "cell_type": "code",
   "execution_count": 19,
   "metadata": {},
   "outputs": [],
   "source": [
    "from sklearn.svm import SVC\n",
    "#svm_model = SVC(kernel='rbf', C=8, gamma=0.1) # poly, linear\n",
    "svm_smoteenn_model = SVC(kernel='rbf')\n",
    "svm_smoteenn_model.fit(x_train_SMOTEENN, y_train_SMOTEENN)\n",
    "y_pred_SMOTEENN = svm_smoteenn_model.predict(x_test)"
   ]
  },
  {
   "cell_type": "code",
   "execution_count": 20,
   "metadata": {},
   "outputs": [
    {
     "name": "stdout",
     "output_type": "stream",
     "text": [
      "accuracy: 0.7126187200609968\n",
      "precision: 0.21424438229337447\n",
      "recall: 0.8098796937659497\n",
      "f1 socre: 0.33884990848078095\n",
      "[[38550 16295]\n",
      " [ 1043  4443]]\n"
     ]
    },
    {
     "data": {
      "text/plain": [
       "Text(83.40000000000006, 0.5, 'true label')"
      ]
     },
     "execution_count": 20,
     "metadata": {},
     "output_type": "execute_result"
    },
    {
     "data": {
      "image/png": "[encoded data removed]",
      "text/plain": [
       "<Figure size 432x288 with 2 Axes>"
      ]
     },
     "metadata": {
      "needs_background": "light"
     },
     "output_type": "display_data"
    }
   ],
   "source": [
    "from sklearn.metrics import accuracy_score, confusion_matrix, precision_score, recall_score, f1_score, classification_report\n",
    "\n",
    "print('accuracy:', accuracy_score(y_test, y_pred_SMOTEENN))\n",
    "print('precision:', precision_score(y_test, y_pred_SMOTEENN))\n",
    "print('recall:', recall_score(y_test, y_pred_SMOTEENN))\n",
    "print('f1 socre:', f1_score(y_test, y_pred_SMOTEENN))\n",
    "cm = confusion_matrix(y_test, y_pred_SMOTEENN)\n",
    "print(cm)\n",
    "sns.heatmap(cm, square=True, annot=True, fmt='d', cbar='False')\n",
    "plt.xlabel('predict label')\n",
    "plt.ylabel('true label')"
   ]
  },
  {
   "cell_type": "code",
   "execution_count": 21,
   "metadata": {},
   "outputs": [
    {
     "name": "stdout",
     "output_type": "stream",
     "text": [
      "0.8287409897119337\n"
     ]
    },
    {
     "data": {
      "image/png": "[encoded data removed]",
      "text/plain": [
       "<Figure size 432x288 with 1 Axes>"
      ]
     },
     "metadata": {
      "needs_background": "light"
     },
     "output_type": "display_data"
    }
   ],
   "source": [
    "y_pred_decision = svm_smoteenn_model.decision_function(x_test)\n",
    "from sklearn.metrics import roc_curve, roc_auc_score\n",
    "print(roc_auc_score(y_test, y_pred_decision))\n",
    "fpr, tpr, thresholds = roc_curve(y_test, y_pred_decision)\n",
    "plt.plot(fpr, tpr)\n",
    "plt.plot([0, 1], [0, 1], 'k--', label=\"random guess\")\n",
    "plt.xlabel('FPR ( 1 - sensitivity )')\n",
    "plt.ylabel('TPR ( Recall )')\n",
    "plt.title('Receiver operating characteristic example')\n",
    "plt.show()"
   ]
  },
  {
   "cell_type": "code",
   "execution_count": 23,
   "metadata": {},
   "outputs": [
    {
     "data": {
      "text/plain": [
       "['./model/svm_smoteenn_model.pkl']"
      ]
     },
     "execution_count": 23,
     "metadata": {},
     "output_type": "execute_result"
    }
   ],
   "source": [
    "import pickle, joblib\n",
    "joblib.dump(svm_smoteenn_model, './model/svm_smoteenn_model.pkl')"
   ]
  },
  {
   "cell_type": "code",
   "execution_count": null,
   "metadata": {
    "id": "8E_9yLaYplOj"
   },
   "outputs": [],
   "source": [
    "'''from sklearn.model_selection import GridSearchCV\n",
    "#'kernel': ['rbf', 'poly', 'sigmoid']\n",
    "param_grid = {'C': [0.1,1, 10, 100], 'gamma': [1,0.1,0.01,0.001]}\n",
    "grid = GridSearchCV(SVC(kernel='rbf'),param_grid,refit=True,verbose=2)\n",
    "grid.fit(x_train, y_train)\n",
    "print(grid.best_estimator_)\n",
    "print(grid.best_params_)\n",
    "grid_predictions = grid.predict(x_test)'''"
   ]
  },
  {
   "cell_type": "code",
   "execution_count": null,
   "metadata": {
    "id": "KeOrlbcnsx0E"
   },
   "outputs": [],
   "source": [
    "#from sklearn.metrics import plot_confusion_matrix\n",
    "#disp = plot_confusion_matrix(svm_model, x_test, y_test, cmap='cividis', colorbar=True)"
   ]
  },
  {
   "cell_type": "code",
   "execution_count": null,
   "metadata": {
    "id": "HtIrBVaZNKTp"
   },
   "outputs": [],
   "source": [
    "#classification_report(y_test,grid_predictions)"
   ]
  },
  {
   "cell_type": "markdown",
   "metadata": {
    "id": "dal8kuVMsFnm"
   },
   "source": [
    "## cost sensitive learning"
   ]
  },
  {
   "cell_type": "code",
   "execution_count": 17,
   "metadata": {
    "id": "bcn34LRasIx-"
   },
   "outputs": [],
   "source": [
    "from sklearn.svm import SVC\n",
    "#svm_model = SVC(kernel='rbf', C=8, gamma=0.1) # poly, linear\n",
    "svm_model_weight = SVC(kernel='rbf', class_weight='balanced')\n",
    "svm_model_weight.fit(x_train, y_train)\n",
    "y_pred_weight = svm_model_weight.predict(x_test)"
   ]
  },
  {
   "cell_type": "code",
   "execution_count": 23,
   "metadata": {},
   "outputs": [
    {
     "name": "stdout",
     "output_type": "stream",
     "text": [
      "accuracy: 0.7189504566474947\n",
      "precision: 0.21829256312014933\n",
      "recall: 0.8100619759387532\n",
      "f1 socre: 0.3439096115152453\n"
     ]
    },
    {
     "data": {
      "text/plain": [
       "Text(83.40000000000006, 0.5, 'true label')"
      ]
     },
     "execution_count": 23,
     "metadata": {},
     "output_type": "execute_result"
    },
    {
     "data": {
      "image/png": "[encoded data removed]",
      "text/plain": [
       "<Figure size 432x288 with 2 Axes>"
      ]
     },
     "metadata": {
      "needs_background": "light"
     },
     "output_type": "display_data"
    }
   ],
   "source": [
    "from sklearn.metrics import accuracy_score, confusion_matrix, precision_score, recall_score, f1_score\n",
    "print('accuracy:', accuracy_score(y_test, y_pred_weight))\n",
    "print('precision:', precision_score(y_test, y_pred_weight))\n",
    "print('recall:', recall_score(y_test, y_pred_weight))\n",
    "print('f1 socre:', f1_score(y_test, y_pred_weight))\n",
    "cm = confusion_matrix(y_test, y_pred_weight)\n",
    "sns.heatmap(cm, square=True, annot=True, fmt='d', cbar='False')\n",
    "plt.xlabel('predict label')\n",
    "plt.ylabel('true label')"
   ]
  },
  {
   "cell_type": "code",
   "execution_count": null,
   "metadata": {},
   "outputs": [],
   "source": [
    "'''from sklearn.metrics import roc_curve, roc_auc_score\n",
    "pred_proba_class1 = svm_model_weight.predict_proba(x_test)[:, 1]\n",
    "print('roc auc score:', roc_auc_score(y_test, pred_proba_class1))\n",
    "def roc_curve_plot(y_test, pred_proba_class1):\n",
    "    fprs, tprs, thresholds = roc_curve(y_test, pred_proba_class1)\n",
    "    plt.plot(fprs, tprs, label='ROC')\n",
    "    # 가운데  대각선 직선\n",
    "    plt.plot([0,1], [0,1], 'k--', label='Random')\n",
    "    \n",
    "    start, end = plt.xlim()\n",
    "    plt.xticks(np.round(np.arange(start, end, 0.1), 2))\n",
    "    plt.xlim(0,1); plt.ylim(0,1)\n",
    "    plt.xlabel('FPR ( 1 - sensitivity )'); plt.ylabel('TPR ( Recall )')\n",
    "    plt.legend()\n",
    "roc_curve_plot(y_test, pred_proba_class1)'''"
   ]
  },
  {
   "cell_type": "code",
   "execution_count": null,
   "metadata": {},
   "outputs": [],
   "source": [
    "y_pred_decision = svm_model_weight.decision_function(x_test)"
   ]
  },
  {
   "cell_type": "code",
   "execution_count": 28,
   "metadata": {},
   "outputs": [
    {
     "name": "stdout",
     "output_type": "stream",
     "text": [
      "0.8348722580691477\n"
     ]
    },
    {
     "data": {
      "image/png": "[encoded data removed]",
      "text/plain": [
       "<Figure size 432x288 with 1 Axes>"
      ]
     },
     "metadata": {
      "needs_background": "light"
     },
     "output_type": "display_data"
    }
   ],
   "source": [
    "from sklearn.metrics import roc_curve, roc_auc_score\n",
    "print(roc_auc_score(y_test, y_pred_decision))\n",
    "fpr, tpr, thresholds = roc_curve(y_test, y_pred_decision)\n",
    "plt.plot(fpr, tpr)\n",
    "plt.plot([0, 1], [0, 1], 'k--', label=\"random guess\")\n",
    "plt.xlabel('FPR ( 1 - sensitivity )')\n",
    "plt.ylabel('TPR ( Recall )')\n",
    "plt.title('Receiver operating characteristic example')\n",
    "plt.show()"
   ]
  },
  {
   "cell_type": "markdown",
   "metadata": {},
   "source": [
    "## save model "
   ]
  },
  {
   "cell_type": "code",
   "execution_count": 39,
   "metadata": {},
   "outputs": [
    {
     "data": {
      "text/plain": [
       "['./model/svm_adasyn_model.pkl']"
      ]
     },
     "execution_count": 39,
     "metadata": {},
     "output_type": "execute_result"
    }
   ],
   "source": [
    "import pickle, joblib\n",
    "# from sklearn.externals import joblib\n",
    "joblib.dump(svm_svmsmote_model, './model/svm_svmsmote_model.pkl')\n",
    "joblib.dump(svm_smote_model, './model/svm_smote_model.pkl')\n",
    "joblib.dump(svm_border_model, './model/svm_border_model.pkl')\n",
    "joblib.dump(svm_model_weight, './model/svm_model_weight.pkl')\n",
    "joblib.dump(svm_adasyn_model, './model/svm_adasyn_model.pkl')\n",
    "\n",
    "# load\n",
    "#loaded_model = joblib.load('.pkl')"
   ]
  },
  {
   "cell_type": "code",
   "execution_count": 40,
   "metadata": {},
   "outputs": [],
   "source": [
    "loaded_model = joblib.load('./model/svm_svmsmote_model.pkl')"
   ]
  },
  {
   "cell_type": "code",
   "execution_count": 42,
   "metadata": {},
   "outputs": [
    {
     "data": {
      "text/plain": [
       "SVC()"
      ]
     },
     "execution_count": 42,
     "metadata": {},
     "output_type": "execute_result"
    }
   ],
   "source": [
    "loaded_model"
   ]
  },
  {
   "cell_type": "code",
   "execution_count": 43,
   "metadata": {},
   "outputs": [],
   "source": [
    "temp = loaded_model.predict(x_test)"
   ]
  }
 ],
 "metadata": {
  "colab": {
   "authorship_tag": "ABX9TyOUbpSXHFgmbnRJnyKmlw4H",
   "collapsed_sections": [],
   "mount_file_id": "1Jjmg9v-pj8DU1ZSivQEoItGkZHKz4Ot_",
   "name": "SVM_TargetEncoding.ipynb",
   "provenance": []
  },
  "kernelspec": {
   "display_name": "Python 3 (ipykernel)",
   "language": "python",
   "name": "python3"
  },
  "language_info": {
   "codemirror_mode": {
    "name": "ipython",
    "version": 3
   },
   "file_extension": ".py",
   "mimetype": "text/x-python",
   "name": "python",
   "nbconvert_exporter": "python",
   "pygments_lexer": "ipython3",
   "version": "3.9.7"
  }
 },
 "nbformat": 4,
 "nbformat_minor": 1
}
